{
 "cells": [
  {
   "cell_type": "code",
   "execution_count": 400,
   "metadata": {},
   "outputs": [],
   "source": [
    "import numpy as np\n",
    "import pandas as pd\n",
    "import nltk\n",
    "import string"
   ]
  },
  {
   "cell_type": "code",
   "execution_count": 401,
   "metadata": {},
   "outputs": [],
   "source": [
    "#Leitura do arquivo csv de mensagens fraudulentas\n",
    "dataset_pd = pd.read_csv(\"C:\\\\Users\\\\nando\\\\OneDrive\\\\Documentos\\\\Fernando\\\\Sentinel-Anti-Fraude\\\\Teste\\\\Datasets\\\\fraude.csv\", encoding='utf-8')"
   ]
  },
  {
   "cell_type": "code",
   "execution_count": 402,
   "metadata": {},
   "outputs": [
    {
     "data": {
      "text/html": [
       "<div>\n",
       "<style scoped>\n",
       "    .dataframe tbody tr th:only-of-type {\n",
       "        vertical-align: middle;\n",
       "    }\n",
       "\n",
       "    .dataframe tbody tr th {\n",
       "        vertical-align: top;\n",
       "    }\n",
       "\n",
       "    .dataframe thead th {\n",
       "        text-align: right;\n",
       "    }\n",
       "</style>\n",
       "<table border=\"1\" class=\"dataframe\">\n",
       "  <thead>\n",
       "    <tr style=\"text-align: right;\">\n",
       "      <th></th>\n",
       "      <th>_id</th>\n",
       "      <th>title</th>\n",
       "      <th>assunto</th>\n",
       "      <th>conteudo</th>\n",
       "    </tr>\n",
       "  </thead>\n",
       "  <tbody>\n",
       "    <tr>\n",
       "      <th>0</th>\n",
       "      <td>14323</td>\n",
       "      <td>Magazine Luiza</td>\n",
       "      <td>Black Friday Magazine Luiza - Smart TV 4K LED ...</td>\n",
       "      <td>Ofertas exclusivas pra você :)\\nver online | d...</td>\n",
       "    </tr>\n",
       "    <tr>\n",
       "      <th>1</th>\n",
       "      <td>14331</td>\n",
       "      <td>Nota Fiscal</td>\n",
       "      <td>http://www.nfe.fazenda.gov.br/portal/principal...</td>\n",
       "      <td>Esta mensagem refere-se a Nota Fiscal Eletrôni...</td>\n",
       "    </tr>\n",
       "    <tr>\n",
       "      <th>2</th>\n",
       "      <td>14329</td>\n",
       "      <td>Hospedagem Website</td>\n",
       "      <td>Sua hospedagem não foi renovada automaticamente</td>\n",
       "      <td>A hospedagem de site encontra-se com\\nPAGAMENT...</td>\n",
       "    </tr>\n",
       "    <tr>\n",
       "      <th>3</th>\n",
       "      <td>14326</td>\n",
       "      <td>Atualização Netflix</td>\n",
       "      <td>Netflix: Sua conta foi suspensa. Revise seus d...</td>\n",
       "      <td>Netflix\\n \\nSua conta está suspensa.\\nAtualize...</td>\n",
       "    </tr>\n",
       "    <tr>\n",
       "      <th>4</th>\n",
       "      <td>14324</td>\n",
       "      <td>Mercado Livre</td>\n",
       "      <td>NOTIFICAÇÃO - RECLAMAÇÃO FEITA PELO COMPRADOR ...</td>\n",
       "      <td>MercadoLibre\\n \\n \\n\\nOlá,\\n\\nSeu comprador in...</td>\n",
       "    </tr>\n",
       "  </tbody>\n",
       "</table>\n",
       "</div>"
      ],
      "text/plain": [
       "     _id                title  \\\n",
       "0  14323       Magazine Luiza   \n",
       "1  14331          Nota Fiscal   \n",
       "2  14329   Hospedagem Website   \n",
       "3  14326  Atualização Netflix   \n",
       "4  14324        Mercado Livre   \n",
       "\n",
       "                                             assunto  \\\n",
       "0  Black Friday Magazine Luiza - Smart TV 4K LED ...   \n",
       "1  http://www.nfe.fazenda.gov.br/portal/principal...   \n",
       "2    Sua hospedagem não foi renovada automaticamente   \n",
       "3  Netflix: Sua conta foi suspensa. Revise seus d...   \n",
       "4  NOTIFICAÇÃO - RECLAMAÇÃO FEITA PELO COMPRADOR ...   \n",
       "\n",
       "                                            conteudo  \n",
       "0  Ofertas exclusivas pra você :)\\nver online | d...  \n",
       "1  Esta mensagem refere-se a Nota Fiscal Eletrôni...  \n",
       "2  A hospedagem de site encontra-se com\\nPAGAMENT...  \n",
       "3  Netflix\\n \\nSua conta está suspensa.\\nAtualize...  \n",
       "4  MercadoLibre\\n \\n \\n\\nOlá,\\n\\nSeu comprador in...  "
      ]
     },
     "execution_count": 402,
     "metadata": {},
     "output_type": "execute_result"
    }
   ],
   "source": [
    "#Salvando as informações do arquivo em uma variável\n",
    "df_fraudes = pd.DataFrame(dataset_pd)\n",
    "df_fraudes.head()"
   ]
  },
  {
   "cell_type": "code",
   "execution_count": 403,
   "metadata": {},
   "outputs": [
    {
     "data": {
      "text/html": [
       "<div>\n",
       "<style scoped>\n",
       "    .dataframe tbody tr th:only-of-type {\n",
       "        vertical-align: middle;\n",
       "    }\n",
       "\n",
       "    .dataframe tbody tr th {\n",
       "        vertical-align: top;\n",
       "    }\n",
       "\n",
       "    .dataframe thead th {\n",
       "        text-align: right;\n",
       "    }\n",
       "</style>\n",
       "<table border=\"1\" class=\"dataframe\">\n",
       "  <thead>\n",
       "    <tr style=\"text-align: right;\">\n",
       "      <th></th>\n",
       "      <th>conteudo</th>\n",
       "      <th>Fraude</th>\n",
       "    </tr>\n",
       "  </thead>\n",
       "  <tbody>\n",
       "    <tr>\n",
       "      <th>0</th>\n",
       "      <td>Ofertas exclusivas pra você :)\\nver online | d...</td>\n",
       "      <td>1</td>\n",
       "    </tr>\n",
       "    <tr>\n",
       "      <th>1</th>\n",
       "      <td>Esta mensagem refere-se a Nota Fiscal Eletrôni...</td>\n",
       "      <td>1</td>\n",
       "    </tr>\n",
       "    <tr>\n",
       "      <th>2</th>\n",
       "      <td>A hospedagem de site encontra-se com\\nPAGAMENT...</td>\n",
       "      <td>1</td>\n",
       "    </tr>\n",
       "    <tr>\n",
       "      <th>3</th>\n",
       "      <td>Netflix\\n \\nSua conta está suspensa.\\nAtualize...</td>\n",
       "      <td>1</td>\n",
       "    </tr>\n",
       "    <tr>\n",
       "      <th>4</th>\n",
       "      <td>MercadoLibre\\n \\n \\n\\nOlá,\\n\\nSeu comprador in...</td>\n",
       "      <td>1</td>\n",
       "    </tr>\n",
       "  </tbody>\n",
       "</table>\n",
       "</div>"
      ],
      "text/plain": [
       "                                            conteudo  Fraude\n",
       "0  Ofertas exclusivas pra você :)\\nver online | d...       1\n",
       "1  Esta mensagem refere-se a Nota Fiscal Eletrôni...       1\n",
       "2  A hospedagem de site encontra-se com\\nPAGAMENT...       1\n",
       "3  Netflix\\n \\nSua conta está suspensa.\\nAtualize...       1\n",
       "4  MercadoLibre\\n \\n \\n\\nOlá,\\n\\nSeu comprador in...       1"
      ]
     },
     "execution_count": 403,
     "metadata": {},
     "output_type": "execute_result"
    }
   ],
   "source": [
    "#Inserindo a coluna \"Fraude\" e atribuindo o valor = 1\n",
    "df_fraudes['Fraude'] = 1\n",
    "\n",
    "#Removendo as colunos desnecessarias\n",
    "df_fraudes.drop(['_id', 'title', 'assunto'], axis=1, inplace=True)\n",
    "\n",
    "df_fraudes.head()"
   ]
  },
  {
   "cell_type": "code",
   "execution_count": 404,
   "metadata": {},
   "outputs": [
    {
     "data": {
      "text/plain": [
       "(14266, 2)"
      ]
     },
     "execution_count": 404,
     "metadata": {},
     "output_type": "execute_result"
    }
   ],
   "source": [
    "#Verificando o tamanho do df\n",
    "df_fraudes.shape"
   ]
  },
  {
   "cell_type": "code",
   "execution_count": 405,
   "metadata": {},
   "outputs": [
    {
     "data": {
      "text/plain": [
       "(1003, 2)"
      ]
     },
     "execution_count": 405,
     "metadata": {},
     "output_type": "execute_result"
    }
   ],
   "source": [
    "#Definindo um tamanho menor para o df, com 1003 linhas\n",
    "df_fraudes = df_fraudes[:1003]\n",
    "\n",
    "df_fraudes.shape"
   ]
  },
  {
   "cell_type": "code",
   "execution_count": 406,
   "metadata": {},
   "outputs": [
    {
     "data": {
      "text/plain": [
       "conteudo    1\n",
       "Fraude      0\n",
       "dtype: int64"
      ]
     },
     "execution_count": 406,
     "metadata": {},
     "output_type": "execute_result"
    }
   ],
   "source": [
    "#removendo as informações duplicadas\n",
    "df_fraudes.drop_duplicates(inplace=True)\n",
    "\n",
    "#Verificando se existem valores vazios\n",
    "df_fraudes.isnull().sum()"
   ]
  },
  {
   "cell_type": "code",
   "execution_count": 407,
   "metadata": {},
   "outputs": [
    {
     "data": {
      "text/plain": [
       "(934, 2)"
      ]
     },
     "execution_count": 407,
     "metadata": {},
     "output_type": "execute_result"
    }
   ],
   "source": [
    "df_fraudes.shape"
   ]
  },
  {
   "cell_type": "code",
   "execution_count": 408,
   "metadata": {},
   "outputs": [
    {
     "name": "stderr",
     "output_type": "stream",
     "text": [
      "[nltk_data] Downloading package stopwords to\n",
      "[nltk_data]     C:\\Users\\nando\\AppData\\Roaming\\nltk_data...\n",
      "[nltk_data]   Package stopwords is already up-to-date!\n"
     ]
    }
   ],
   "source": [
    "#baixando e carregando uma lista de stopwords (palavras irrelevantes) em português da biblioteca NLTK (Natural Language Toolkit)\n",
    "nltk.download('stopwords')\n",
    "stopwords = nltk.corpus.stopwords.words('portuguese')"
   ]
  },
  {
   "cell_type": "code",
   "execution_count": 409,
   "metadata": {},
   "outputs": [],
   "source": [
    "def process_text_conteudo(conteudo):\n",
    "  import unicodedata\n",
    "\n",
    "  # Remove pontuação\n",
    "  nopont = [char for char in conteudo if char not in string.punctuation]\n",
    "\n",
    "  # Forma as palavras todas em minúnculas\n",
    "  nopont = ''.join(nopont).lower()\n",
    "  \n",
    "  # remove acentos\n",
    "  nopont = unicodedata.normalize('NFKD', nopont).encode('ASCII', 'ignore').decode('ASCII')\n",
    "\n",
    "  # cria lista contendo somente palavras removento as stopwords\n",
    "  clean_palavras = [palavra for palavra in nopont.split() if palavra not in stopwords]\n",
    "\n",
    "  return clean_palavras\n"
   ]
  },
  {
   "cell_type": "code",
   "execution_count": 410,
   "metadata": {},
   "outputs": [
    {
     "data": {
      "text/html": [
       "<div>\n",
       "<style scoped>\n",
       "    .dataframe tbody tr th:only-of-type {\n",
       "        vertical-align: middle;\n",
       "    }\n",
       "\n",
       "    .dataframe tbody tr th {\n",
       "        vertical-align: top;\n",
       "    }\n",
       "\n",
       "    .dataframe thead th {\n",
       "        text-align: right;\n",
       "    }\n",
       "</style>\n",
       "<table border=\"1\" class=\"dataframe\">\n",
       "  <thead>\n",
       "    <tr style=\"text-align: right;\">\n",
       "      <th></th>\n",
       "      <th>conteudo</th>\n",
       "      <th>Fraude</th>\n",
       "    </tr>\n",
       "  </thead>\n",
       "  <tbody>\n",
       "    <tr>\n",
       "      <th>0</th>\n",
       "      <td>Ofertas exclusivas pra você :)\\nver online | d...</td>\n",
       "      <td>1</td>\n",
       "    </tr>\n",
       "    <tr>\n",
       "      <th>1</th>\n",
       "      <td>Esta mensagem refere-se a Nota Fiscal Eletrôni...</td>\n",
       "      <td>1</td>\n",
       "    </tr>\n",
       "    <tr>\n",
       "      <th>2</th>\n",
       "      <td>A hospedagem de site encontra-se com\\nPAGAMENT...</td>\n",
       "      <td>1</td>\n",
       "    </tr>\n",
       "    <tr>\n",
       "      <th>3</th>\n",
       "      <td>Netflix\\n \\nSua conta está suspensa.\\nAtualize...</td>\n",
       "      <td>1</td>\n",
       "    </tr>\n",
       "    <tr>\n",
       "      <th>4</th>\n",
       "      <td>MercadoLibre\\n \\n \\n\\nOlá,\\n\\nSeu comprador in...</td>\n",
       "      <td>1</td>\n",
       "    </tr>\n",
       "  </tbody>\n",
       "</table>\n",
       "</div>"
      ],
      "text/plain": [
       "                                            conteudo  Fraude\n",
       "0  Ofertas exclusivas pra você :)\\nver online | d...       1\n",
       "1  Esta mensagem refere-se a Nota Fiscal Eletrôni...       1\n",
       "2  A hospedagem de site encontra-se com\\nPAGAMENT...       1\n",
       "3  Netflix\\n \\nSua conta está suspensa.\\nAtualize...       1\n",
       "4  MercadoLibre\\n \\n \\n\\nOlá,\\n\\nSeu comprador in...       1"
      ]
     },
     "execution_count": 410,
     "metadata": {},
     "output_type": "execute_result"
    }
   ],
   "source": [
    "#Processa a coluna \"conteudo\" e retorna uma lista de palavras filtradas\n",
    "df_fraudes['conteudo'].head().apply(process_text_conteudo)\n",
    "\n",
    "df_fraudes.head()"
   ]
  },
  {
   "cell_type": "markdown",
   "metadata": {},
   "source": [
    "Segundo Dataset"
   ]
  },
  {
   "cell_type": "code",
   "execution_count": 411,
   "metadata": {},
   "outputs": [],
   "source": [
    "#Leitura do arquivo csv de mensagens legítimas\n",
    "dataset_pd2 = pd.read_csv(\"C:\\\\Users\\\\nando\\\\OneDrive\\\\Documentos\\\\Fernando\\\\Sentinel-Anti-Fraude\\\\Teste\\\\Datasets\\\\df_legitimo.csv\", encoding='utf-8')"
   ]
  },
  {
   "cell_type": "code",
   "execution_count": 412,
   "metadata": {},
   "outputs": [
    {
     "data": {
      "text/html": [
       "<div>\n",
       "<style scoped>\n",
       "    .dataframe tbody tr th:only-of-type {\n",
       "        vertical-align: middle;\n",
       "    }\n",
       "\n",
       "    .dataframe tbody tr th {\n",
       "        vertical-align: top;\n",
       "    }\n",
       "\n",
       "    .dataframe thead th {\n",
       "        text-align: right;\n",
       "    }\n",
       "</style>\n",
       "<table border=\"1\" class=\"dataframe\">\n",
       "  <thead>\n",
       "    <tr style=\"text-align: right;\">\n",
       "      <th></th>\n",
       "      <th>label</th>\n",
       "      <th>text</th>\n",
       "      <th>conteudo</th>\n",
       "    </tr>\n",
       "  </thead>\n",
       "  <tbody>\n",
       "    <tr>\n",
       "      <th>0</th>\n",
       "      <td>0</td>\n",
       "      <td>ounce feather bowl hummingbird opec moment ala...</td>\n",
       "      <td>Once Feather Bowl Hummingbird OPEP Momento Ala...</td>\n",
       "    </tr>\n",
       "    <tr>\n",
       "      <th>1</th>\n",
       "      <td>0</td>\n",
       "      <td>wulvob get your medircations online qnb ikud v...</td>\n",
       "      <td>wulvob get your medircations online qnb ikud v...</td>\n",
       "    </tr>\n",
       "    <tr>\n",
       "      <th>2</th>\n",
       "      <td>0</td>\n",
       "      <td>computer connection from cnn com wednesday es...</td>\n",
       "      <td>computer connection from cnn com wednesday esc...</td>\n",
       "    </tr>\n",
       "    <tr>\n",
       "      <th>3</th>\n",
       "      <td>0</td>\n",
       "      <td>university degree obtain a prosperous future m...</td>\n",
       "      <td>Universidade, obtenha um próspero poder de gan...</td>\n",
       "    </tr>\n",
       "    <tr>\n",
       "      <th>4</th>\n",
       "      <td>0</td>\n",
       "      <td>thanks for all your answers guys i know i shou...</td>\n",
       "      <td>Obrigado por todas as suas respostas, pessoal,...</td>\n",
       "    </tr>\n",
       "  </tbody>\n",
       "</table>\n",
       "</div>"
      ],
      "text/plain": [
       "   label                                               text  \\\n",
       "0      0  ounce feather bowl hummingbird opec moment ala...   \n",
       "1      0  wulvob get your medircations online qnb ikud v...   \n",
       "2      0   computer connection from cnn com wednesday es...   \n",
       "3      0  university degree obtain a prosperous future m...   \n",
       "4      0  thanks for all your answers guys i know i shou...   \n",
       "\n",
       "                                            conteudo  \n",
       "0  Once Feather Bowl Hummingbird OPEP Momento Ala...  \n",
       "1  wulvob get your medircations online qnb ikud v...  \n",
       "2  computer connection from cnn com wednesday esc...  \n",
       "3  Universidade, obtenha um próspero poder de gan...  \n",
       "4  Obrigado por todas as suas respostas, pessoal,...  "
      ]
     },
     "execution_count": 412,
     "metadata": {},
     "output_type": "execute_result"
    }
   ],
   "source": [
    "df_legitimo = pd.DataFrame(dataset_pd2)\n",
    "df_legitimo.head()"
   ]
  },
  {
   "cell_type": "code",
   "execution_count": 413,
   "metadata": {},
   "outputs": [
    {
     "data": {
      "text/html": [
       "<div>\n",
       "<style scoped>\n",
       "    .dataframe tbody tr th:only-of-type {\n",
       "        vertical-align: middle;\n",
       "    }\n",
       "\n",
       "    .dataframe tbody tr th {\n",
       "        vertical-align: top;\n",
       "    }\n",
       "\n",
       "    .dataframe thead th {\n",
       "        text-align: right;\n",
       "    }\n",
       "</style>\n",
       "<table border=\"1\" class=\"dataframe\">\n",
       "  <thead>\n",
       "    <tr style=\"text-align: right;\">\n",
       "      <th></th>\n",
       "      <th>label</th>\n",
       "      <th>conteudo</th>\n",
       "    </tr>\n",
       "  </thead>\n",
       "  <tbody>\n",
       "    <tr>\n",
       "      <th>0</th>\n",
       "      <td>0</td>\n",
       "      <td>Once Feather Bowl Hummingbird OPEP Momento Ala...</td>\n",
       "    </tr>\n",
       "    <tr>\n",
       "      <th>1</th>\n",
       "      <td>0</td>\n",
       "      <td>wulvob get your medircations online qnb ikud v...</td>\n",
       "    </tr>\n",
       "    <tr>\n",
       "      <th>2</th>\n",
       "      <td>0</td>\n",
       "      <td>computer connection from cnn com wednesday esc...</td>\n",
       "    </tr>\n",
       "    <tr>\n",
       "      <th>3</th>\n",
       "      <td>0</td>\n",
       "      <td>Universidade, obtenha um próspero poder de gan...</td>\n",
       "    </tr>\n",
       "    <tr>\n",
       "      <th>4</th>\n",
       "      <td>0</td>\n",
       "      <td>Obrigado por todas as suas respostas, pessoal,...</td>\n",
       "    </tr>\n",
       "  </tbody>\n",
       "</table>\n",
       "</div>"
      ],
      "text/plain": [
       "   label                                           conteudo\n",
       "0      0  Once Feather Bowl Hummingbird OPEP Momento Ala...\n",
       "1      0  wulvob get your medircations online qnb ikud v...\n",
       "2      0  computer connection from cnn com wednesday esc...\n",
       "3      0  Universidade, obtenha um próspero poder de gan...\n",
       "4      0  Obrigado por todas as suas respostas, pessoal,..."
      ]
     },
     "execution_count": 413,
     "metadata": {},
     "output_type": "execute_result"
    }
   ],
   "source": [
    "df_legitimo.drop(['text'], axis=1, inplace=True)\n",
    "\n",
    "df_legitimo.head()"
   ]
  },
  {
   "cell_type": "code",
   "execution_count": 414,
   "metadata": {},
   "outputs": [
    {
     "data": {
      "text/plain": [
       "(934, 2)"
      ]
     },
     "execution_count": 414,
     "metadata": {},
     "output_type": "execute_result"
    }
   ],
   "source": [
    "df_legitimo.shape"
   ]
  },
  {
   "cell_type": "code",
   "execution_count": 415,
   "metadata": {},
   "outputs": [
    {
     "data": {
      "text/plain": [
       "label       0\n",
       "conteudo    0\n",
       "dtype: int64"
      ]
     },
     "execution_count": 415,
     "metadata": {},
     "output_type": "execute_result"
    }
   ],
   "source": [
    "df_legitimo.drop_duplicates(inplace=True)\n",
    "\n",
    "df_legitimo.isnull().sum()"
   ]
  },
  {
   "cell_type": "code",
   "execution_count": 416,
   "metadata": {},
   "outputs": [
    {
     "data": {
      "text/html": [
       "<div>\n",
       "<style scoped>\n",
       "    .dataframe tbody tr th:only-of-type {\n",
       "        vertical-align: middle;\n",
       "    }\n",
       "\n",
       "    .dataframe tbody tr th {\n",
       "        vertical-align: top;\n",
       "    }\n",
       "\n",
       "    .dataframe thead th {\n",
       "        text-align: right;\n",
       "    }\n",
       "</style>\n",
       "<table border=\"1\" class=\"dataframe\">\n",
       "  <thead>\n",
       "    <tr style=\"text-align: right;\">\n",
       "      <th></th>\n",
       "      <th>label</th>\n",
       "      <th>conteudo</th>\n",
       "    </tr>\n",
       "  </thead>\n",
       "  <tbody>\n",
       "    <tr>\n",
       "      <th>0</th>\n",
       "      <td>0</td>\n",
       "      <td>Once Feather Bowl Hummingbird OPEP Momento Ala...</td>\n",
       "    </tr>\n",
       "    <tr>\n",
       "      <th>1</th>\n",
       "      <td>0</td>\n",
       "      <td>wulvob get your medircations online qnb ikud v...</td>\n",
       "    </tr>\n",
       "    <tr>\n",
       "      <th>2</th>\n",
       "      <td>0</td>\n",
       "      <td>computer connection from cnn com wednesday esc...</td>\n",
       "    </tr>\n",
       "    <tr>\n",
       "      <th>3</th>\n",
       "      <td>0</td>\n",
       "      <td>Universidade, obtenha um próspero poder de gan...</td>\n",
       "    </tr>\n",
       "    <tr>\n",
       "      <th>4</th>\n",
       "      <td>0</td>\n",
       "      <td>Obrigado por todas as suas respostas, pessoal,...</td>\n",
       "    </tr>\n",
       "  </tbody>\n",
       "</table>\n",
       "</div>"
      ],
      "text/plain": [
       "   label                                           conteudo\n",
       "0      0  Once Feather Bowl Hummingbird OPEP Momento Ala...\n",
       "1      0  wulvob get your medircations online qnb ikud v...\n",
       "2      0  computer connection from cnn com wednesday esc...\n",
       "3      0  Universidade, obtenha um próspero poder de gan...\n",
       "4      0  Obrigado por todas as suas respostas, pessoal,..."
      ]
     },
     "execution_count": 416,
     "metadata": {},
     "output_type": "execute_result"
    }
   ],
   "source": [
    "df_legitimo['conteudo'].head().apply(process_text_conteudo)\n",
    "\n",
    "df_legitimo.head()"
   ]
  },
  {
   "cell_type": "code",
   "execution_count": 417,
   "metadata": {},
   "outputs": [
    {
     "data": {
      "text/html": [
       "<div>\n",
       "<style scoped>\n",
       "    .dataframe tbody tr th:only-of-type {\n",
       "        vertical-align: middle;\n",
       "    }\n",
       "\n",
       "    .dataframe tbody tr th {\n",
       "        vertical-align: top;\n",
       "    }\n",
       "\n",
       "    .dataframe thead th {\n",
       "        text-align: right;\n",
       "    }\n",
       "</style>\n",
       "<table border=\"1\" class=\"dataframe\">\n",
       "  <thead>\n",
       "    <tr style=\"text-align: right;\">\n",
       "      <th></th>\n",
       "      <th>conteudo</th>\n",
       "      <th>Fraude</th>\n",
       "    </tr>\n",
       "  </thead>\n",
       "  <tbody>\n",
       "    <tr>\n",
       "      <th>0</th>\n",
       "      <td>Once Feather Bowl Hummingbird OPEP Momento Ala...</td>\n",
       "      <td>0</td>\n",
       "    </tr>\n",
       "    <tr>\n",
       "      <th>1</th>\n",
       "      <td>wulvob get your medircations online qnb ikud v...</td>\n",
       "      <td>0</td>\n",
       "    </tr>\n",
       "    <tr>\n",
       "      <th>2</th>\n",
       "      <td>computer connection from cnn com wednesday esc...</td>\n",
       "      <td>0</td>\n",
       "    </tr>\n",
       "    <tr>\n",
       "      <th>3</th>\n",
       "      <td>Universidade, obtenha um próspero poder de gan...</td>\n",
       "      <td>0</td>\n",
       "    </tr>\n",
       "    <tr>\n",
       "      <th>4</th>\n",
       "      <td>Obrigado por todas as suas respostas, pessoal,...</td>\n",
       "      <td>0</td>\n",
       "    </tr>\n",
       "  </tbody>\n",
       "</table>\n",
       "</div>"
      ],
      "text/plain": [
       "                                            conteudo  Fraude\n",
       "0  Once Feather Bowl Hummingbird OPEP Momento Ala...       0\n",
       "1  wulvob get your medircations online qnb ikud v...       0\n",
       "2  computer connection from cnn com wednesday esc...       0\n",
       "3  Universidade, obtenha um próspero poder de gan...       0\n",
       "4  Obrigado por todas as suas respostas, pessoal,...       0"
      ]
     },
     "execution_count": 417,
     "metadata": {},
     "output_type": "execute_result"
    }
   ],
   "source": [
    "df_legitimo = df_legitimo[[df_legitimo.columns[1], df_legitimo.columns[0]]]\n",
    "\n",
    "df_legitimo = df_legitimo.rename(columns={'label': 'Fraude'})\n",
    "\n",
    "df_legitimo.head()"
   ]
  },
  {
   "cell_type": "markdown",
   "metadata": {},
   "source": [
    "Treinar IA"
   ]
  },
  {
   "cell_type": "code",
   "execution_count": 427,
   "metadata": {},
   "outputs": [
    {
     "name": "stdout",
     "output_type": "stream",
     "text": [
      "(1868, 2)\n",
      "                                               conteudo  Fraude\n",
      "0     Once Feather Bowl Hummingbird OPEP Momento Ala...       0\n",
      "1     wulvob get your medircations online qnb ikud v...       0\n",
      "2     computer connection from cnn com wednesday esc...       0\n",
      "3     Universidade, obtenha um próspero poder de gan...       0\n",
      "4     Obrigado por todas as suas respostas, pessoal,...       0\n",
      "...                                                 ...     ...\n",
      "998   Olá, \\n\\nVocê está recebendo sua conta de serv...       1\n",
      "999   Caro(a) usuario(a),\\n\\nApós vários comunicados...       1\n",
      "1000  Preços com até 40% de desconto ;)\\nver online ...       1\n",
      "1001  Prezado Cliente,\\nAcreditamos que tenha ocorri...       1\n",
      "1002  Banco Inter\\t\\n\\nOlá, \\n\\nPara garantir a conf...       1\n",
      "\n",
      "[1868 rows x 2 columns]\n",
      "Fraude\n",
      "0    934\n",
      "1    934\n",
      "Name: count, dtype: int64\n"
     ]
    }
   ],
   "source": [
    "# Criando um novo dataframe com os 2 dataframes\n",
    "data_frames = [df_legitimo, df_fraudes]   \n",
    "\n",
    "# Concatena os 2 dataframes\n",
    "data_frame_final = pd.concat(data_frames)\n",
    "\n",
    "# Mostra o corpo do novo dataset\n",
    "print(data_frame_final.shape)\n",
    "\n",
    "# Mostra o cabeçalho do dataframe\n",
    "print(data_frame_final)\n",
    "\n",
    "print(data_frame_final['Fraude'].value_counts())\n",
    "\n",
    "data_frame_final.to_csv('data_frame_final.csv', index=False)"
   ]
  },
  {
   "cell_type": "code",
   "execution_count": 419,
   "metadata": {},
   "outputs": [],
   "source": [
    "# Transforma as palavras em uma matriz de numeros tokens\n",
    "from sklearn.feature_extraction.text import TfidfVectorizer\n",
    "vectorizer = TfidfVectorizer(analyzer=process_text_conteudo)\n",
    "vect = vectorizer.fit_transform(data_frame_final['conteudo'].values.astype('U'))"
   ]
  },
  {
   "cell_type": "code",
   "execution_count": 420,
   "metadata": {},
   "outputs": [
    {
     "name": "stdout",
     "output_type": "stream",
     "text": [
      "(1868, 32942)\n"
     ]
    }
   ],
   "source": [
    "# Exibe o corpo da matiz\n",
    "print(vect.shape)"
   ]
  },
  {
   "cell_type": "code",
   "execution_count": null,
   "metadata": {},
   "outputs": [],
   "source": [
    "from sklearn.model_selection import train_test_split\n",
    "# Separando dados em 80% treino e 20% para teste\n",
    "X_train, X_test, y_train, y_test = train_test_split(vect, data_frame_final['Fraude'] , test_size=0.2, random_state=42)"
   ]
  },
  {
   "cell_type": "code",
   "execution_count": 422,
   "metadata": {},
   "outputs": [
    {
     "name": "stdout",
     "output_type": "stream",
     "text": [
      "              precision    recall  f1-score   support\n",
      "\n",
      "           0       1.00      0.99      1.00       739\n",
      "           1       0.99      1.00      1.00       755\n",
      "\n",
      "    accuracy                           1.00      1494\n",
      "   macro avg       1.00      1.00      1.00      1494\n",
      "weighted avg       1.00      1.00      1.00      1494\n",
      "\n",
      "\n",
      "Confusion Matrix: \n",
      " [[734   5]\n",
      " [  1 754]]\n",
      "\n",
      "Accuracy:  0.9959839357429718\n"
     ]
    }
   ],
   "source": [
    "from sklearn.naive_bayes import MultinomialNB\n",
    "# Criando modelo de classificação com algoritimo naive_bayes\n",
    "classifier = MultinomialNB().fit(X_train, y_train)\n",
    "     \n",
    "\n",
    "# Relatorio e estatisticas com os dados do treinamento\n",
    "from sklearn.metrics import classification_report, confusion_matrix, accuracy_score\n",
    "pred = classifier.predict(X_train)\n",
    "print(classification_report(y_train, pred))\n",
    "print()\n",
    "print('Confusion Matrix: \\n',confusion_matrix(y_train, pred))\n",
    "print()\n",
    "print('Accuracy: ', accuracy_score(y_train, pred))"
   ]
  },
  {
   "cell_type": "code",
   "execution_count": 423,
   "metadata": {},
   "outputs": [
    {
     "name": "stdout",
     "output_type": "stream",
     "text": [
      "              precision    recall  f1-score   support\n",
      "\n",
      "           0       1.00      0.93      0.96       195\n",
      "           1       0.93      1.00      0.96       179\n",
      "\n",
      "    accuracy                           0.96       374\n",
      "   macro avg       0.96      0.96      0.96       374\n",
      "weighted avg       0.97      0.96      0.96       374\n",
      "\n",
      "\n",
      "Confusion Matrix: \n",
      " [[181  14]\n",
      " [  0 179]]\n",
      "\n",
      "Accuracy:  0.9625668449197861\n"
     ]
    }
   ],
   "source": [
    "# Relatorio e estatisticas com os dados do teste\n",
    "from sklearn.metrics import classification_report, confusion_matrix, accuracy_score\n",
    "pred = classifier.predict(X_test)\n",
    "print(classification_report(y_test, pred))\n",
    "print()\n",
    "print('Confusion Matrix: \\n',confusion_matrix(y_test, pred))\n",
    "print()\n",
    "print('Accuracy: ', accuracy_score(y_test, pred))"
   ]
  },
  {
   "cell_type": "code",
   "execution_count": 424,
   "metadata": {},
   "outputs": [],
   "source": [
    "#exporta o modelo \n",
    "import pickle\n",
    "filenameModelo = 'modelo.pk1'\n",
    "pickle.dump(classifier, open(filenameModelo, 'wb'))"
   ]
  },
  {
   "cell_type": "code",
   "execution_count": 425,
   "metadata": {},
   "outputs": [],
   "source": [
    "#exporta o dictionary\n",
    "filenameMessagesWords = 'messages_words.pk1'\n",
    "pickle.dump(vectorizer.vocabulary_, open(filenameMessagesWords, 'wb'))"
   ]
  },
  {
   "cell_type": "code",
   "execution_count": 438,
   "metadata": {},
   "outputs": [
    {
     "name": "stdout",
     "output_type": "stream",
     "text": [
      "FRAUDE\n"
     ]
    }
   ],
   "source": [
    "import os\n",
    "import pickle\n",
    "import numpy as np\n",
    "import pandas as pd\n",
    "import sklearn.feature_extraction\n",
    "     \n",
    "#uploaded = files.upload()\n",
    "     \n",
    "# Abre o modelo e o dicionário\n",
    "modelo = pickle.load(open('C:\\\\Users\\\\nando\\\\OneDrive\\\\Documentos\\\\Fernando\\\\Sentinel-Anti-Fraude\\\\Teste\\\\IA\\\\modelo.pk1','rb'))\n",
    "modelo_messages_words = pickle.load(open('C:\\\\Users\\\\nando\\\\OneDrive\\\\Documentos\\\\Fernando\\\\Sentinel-Anti-Fraude\\\\Teste\\\\IA\\\\messages_words.pk1','rb'))\n",
    "\n",
    "# Exemplo de Email\n",
    "# O primeio exemplo é um e-mail normal\n",
    "dados = {\"conteudo\":\"Olá, pessoal, pronto para um novo desafio DEV? Hoje sai o terceiro vídeo da semana devepoler. Lembrando que esta é uma aula para todos os níveis de conhecimento. Ou seja, se você está no nível básico, intermediário ou avançado, a aula será bem produtiva e você aprenderá muito sobre vários temas. Como Nodejs, MongoDB, VueJS e muito mais: esta aula ficará no ar somente durante 7 dias, então recomendo assistir agora mesmo, pois se você deixar para depois, ela poderá não estar mais disponível!  Equipe xyz\"}\n",
    "# Exemplo de email FRAUDE\n",
    "#dados = {\"conteudo\":\"Netflix Atualize seus dados de pagamento! Olá  Ocorreu um problema com seu meio de pagamento atual. Tentaremos efetuar uma cobrança novamente mas recomendamos que você atualize essas informações. ATUALIZAR PAGAMENTO Lembrando que sua conta estará suspensa caso o débito não seja realizado. Informações da sua conta: Email  Provedor do serviço Netflix Entretenimento Brasil, Ltda. Plano Básico Preço do plano R$21,90/mês Estamos sempre prontos para ajudar. Acesse o Centro de ajuda para saber mais ou fale com a gente. Seus amigos da Netflix VEJA TODAS AS SÉRIES E FILMES> Ao assinar a Netflix, você concorda com nossos Termos de uso e com a Declaração de privacidade Dúvidas? Ligue 0800-887-0201 Estamos enviando este email porque você é assinante Netflix. Para alterar suas preferências de email a qualquer momento, acesse a página Configurações de comunicação da sua conta. Não responda a este email, pois a caixa deste endereço de email não é monitorada. Para obter ajuda ou entrar em contato, acesse o Centro de ajuda em help.netflix.com. Esta mensagem foi enviada para [ erik1605@hotmail.com  ] pela Netflix. SRC: 12500_pt-BR_BR A utilização do serviços e do site da Netflix está sujeita aos Termos de privacidade. Netflix Entretenimento Brasil, Ltda.\"} \n",
    "\n",
    "# Processa o texto chamando a função process_text_conteudo para limpar o texto\n",
    "text_process = process_text_conteudo(dados.values())\n",
    "     \n",
    "# Carrega o modelo passando o dicionário\n",
    "loaded_vectorizer = sklearn.feature_extraction.text.CountVectorizer(vocabulary=modelo_messages_words)\n",
    "     \n",
    "# Faz a predição do texto\n",
    "predicao = modelo.predict(loaded_vectorizer.transform(text_process))   \n",
    "\n",
    "# Resultado da predição usando os exemplos criados\n",
    "resultado = predicao[0]\n",
    "# Se for Fraude imprime FRAUDE se não imprime OK\n",
    "resposta = 'FRAUDE' if resultado == 1 else 'OK'\n",
    "print(resposta)"
   ]
  }
 ],
 "metadata": {
  "kernelspec": {
   "display_name": "Python 3",
   "language": "python",
   "name": "python3"
  },
  "language_info": {
   "codemirror_mode": {
    "name": "ipython",
    "version": 3
   },
   "file_extension": ".py",
   "mimetype": "text/x-python",
   "name": "python",
   "nbconvert_exporter": "python",
   "pygments_lexer": "ipython3",
   "version": "3.12.6"
  }
 },
 "nbformat": 4,
 "nbformat_minor": 2
}
