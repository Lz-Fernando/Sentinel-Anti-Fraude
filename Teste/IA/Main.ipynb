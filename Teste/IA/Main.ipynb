{
 "cells": [
  {
   "cell_type": "code",
   "execution_count": 223,
   "metadata": {},
   "outputs": [],
   "source": [
    "import numpy as np\n",
    "import pandas as pd\n",
    "import nltk\n",
    "import string"
   ]
  },
  {
   "cell_type": "markdown",
   "metadata": {},
   "source": [
    "Primeiro DataSet com mensagens fraudulentas"
   ]
  },
  {
   "cell_type": "code",
   "execution_count": 224,
   "metadata": {},
   "outputs": [],
   "source": [
    "#Leitura do arquivo csv de mensagens fraudulentas\n",
    "dataset_pd = pd.read_csv(\"C:\\\\Users\\\\nando\\\\OneDrive\\\\Documentos\\\\Fernando\\\\Sentinel-Anti-Fraude\\\\Teste\\\\Datasets\\\\fraudes.csv\", encoding='utf-8')"
   ]
  },
  {
   "cell_type": "code",
   "execution_count": 225,
   "metadata": {},
   "outputs": [
    {
     "data": {
      "text/html": [
       "<div>\n",
       "<style scoped>\n",
       "    .dataframe tbody tr th:only-of-type {\n",
       "        vertical-align: middle;\n",
       "    }\n",
       "\n",
       "    .dataframe tbody tr th {\n",
       "        vertical-align: top;\n",
       "    }\n",
       "\n",
       "    .dataframe thead th {\n",
       "        text-align: right;\n",
       "    }\n",
       "</style>\n",
       "<table border=\"1\" class=\"dataframe\">\n",
       "  <thead>\n",
       "    <tr style=\"text-align: right;\">\n",
       "      <th></th>\n",
       "      <th>titulo</th>\n",
       "      <th>assunto</th>\n",
       "      <th>descricao</th>\n",
       "      <th>url</th>\n",
       "    </tr>\n",
       "  </thead>\n",
       "  <tbody>\n",
       "    <tr>\n",
       "      <th>0</th>\n",
       "      <td>FRAUDE - Perfil Profissional</td>\n",
       "      <td>Assunto da mensagem: Perfil Profissional Compl...</td>\n",
       "      <td>\\n\\nOlá,\\n\\nEnvio minhas informações profissio...</td>\n",
       "      <td>https://catalogodefraudes.rnp.br/frauds/16581</td>\n",
       "    </tr>\n",
       "    <tr>\n",
       "      <th>1</th>\n",
       "      <td>FRAUDE - Phishing de Cartão de Crédito</td>\n",
       "      <td>Assunto da mensagem: Convite Especial: Bradesc...</td>\n",
       "      <td>\\n\\n\\nConvite Exclusivo: Bradesco American Exp...</td>\n",
       "      <td>https://catalogodefraudes.rnp.br/frauds/16575</td>\n",
       "    </tr>\n",
       "    <tr>\n",
       "      <th>2</th>\n",
       "      <td>FRAUDE - Phishing por Atualização de Email</td>\n",
       "      <td>Assunto da mensagem: Re: NF-e: &lt;ID&gt;</td>\n",
       "      <td>\\n\\n\\nHá uma alteração e atualização em nosso ...</td>\n",
       "      <td>https://catalogodefraudes.rnp.br/frauds/16576</td>\n",
       "    </tr>\n",
       "    <tr>\n",
       "      <th>3</th>\n",
       "      <td>FRAUDE - Nota Fiscal Eletrônica</td>\n",
       "      <td>Assunto da mensagem: Seu pedido foi realizado ...</td>\n",
       "      <td>\\n\\n\\n\\n&lt;ID&gt;\\nNota Fiscal Disponível\\n\\nOlá,\\n...</td>\n",
       "      <td>https://catalogodefraudes.rnp.br/frauds/16580</td>\n",
       "    </tr>\n",
       "    <tr>\n",
       "      <th>4</th>\n",
       "      <td>FRAUDE - Atualização de E-mail</td>\n",
       "      <td>Assunto da mensagem: Notificação de cobrança /...</td>\n",
       "      <td>\\n\\n\\nHá uma alteração e atualização em nosso ...</td>\n",
       "      <td>https://catalogodefraudes.rnp.br/frauds/16574</td>\n",
       "    </tr>\n",
       "  </tbody>\n",
       "</table>\n",
       "</div>"
      ],
      "text/plain": [
       "                                       titulo  \\\n",
       "0                FRAUDE - Perfil Profissional   \n",
       "1      FRAUDE - Phishing de Cartão de Crédito   \n",
       "2  FRAUDE - Phishing por Atualização de Email   \n",
       "3             FRAUDE - Nota Fiscal Eletrônica   \n",
       "4              FRAUDE - Atualização de E-mail   \n",
       "\n",
       "                                             assunto  \\\n",
       "0  Assunto da mensagem: Perfil Profissional Compl...   \n",
       "1  Assunto da mensagem: Convite Especial: Bradesc...   \n",
       "2                Assunto da mensagem: Re: NF-e: <ID>   \n",
       "3  Assunto da mensagem: Seu pedido foi realizado ...   \n",
       "4  Assunto da mensagem: Notificação de cobrança /...   \n",
       "\n",
       "                                           descricao  \\\n",
       "0  \\n\\nOlá,\\n\\nEnvio minhas informações profissio...   \n",
       "1  \\n\\n\\nConvite Exclusivo: Bradesco American Exp...   \n",
       "2  \\n\\n\\nHá uma alteração e atualização em nosso ...   \n",
       "3  \\n\\n\\n\\n<ID>\\nNota Fiscal Disponível\\n\\nOlá,\\n...   \n",
       "4  \\n\\n\\nHá uma alteração e atualização em nosso ...   \n",
       "\n",
       "                                             url  \n",
       "0  https://catalogodefraudes.rnp.br/frauds/16581  \n",
       "1  https://catalogodefraudes.rnp.br/frauds/16575  \n",
       "2  https://catalogodefraudes.rnp.br/frauds/16576  \n",
       "3  https://catalogodefraudes.rnp.br/frauds/16580  \n",
       "4  https://catalogodefraudes.rnp.br/frauds/16574  "
      ]
     },
     "execution_count": 225,
     "metadata": {},
     "output_type": "execute_result"
    }
   ],
   "source": [
    "#Salvando as informações do arquivo em uma variável\n",
    "df_fraudes = pd.DataFrame(dataset_pd)\n",
    "df_fraudes.head()"
   ]
  },
  {
   "cell_type": "code",
   "execution_count": 226,
   "metadata": {},
   "outputs": [
    {
     "data": {
      "text/html": [
       "<div>\n",
       "<style scoped>\n",
       "    .dataframe tbody tr th:only-of-type {\n",
       "        vertical-align: middle;\n",
       "    }\n",
       "\n",
       "    .dataframe tbody tr th {\n",
       "        vertical-align: top;\n",
       "    }\n",
       "\n",
       "    .dataframe thead th {\n",
       "        text-align: right;\n",
       "    }\n",
       "</style>\n",
       "<table border=\"1\" class=\"dataframe\">\n",
       "  <thead>\n",
       "    <tr style=\"text-align: right;\">\n",
       "      <th></th>\n",
       "      <th>descricao</th>\n",
       "      <th>Fraude</th>\n",
       "    </tr>\n",
       "  </thead>\n",
       "  <tbody>\n",
       "    <tr>\n",
       "      <th>0</th>\n",
       "      <td>\\n\\nOlá,\\n\\nEnvio minhas informações profissio...</td>\n",
       "      <td>1</td>\n",
       "    </tr>\n",
       "    <tr>\n",
       "      <th>1</th>\n",
       "      <td>\\n\\n\\nConvite Exclusivo: Bradesco American Exp...</td>\n",
       "      <td>1</td>\n",
       "    </tr>\n",
       "    <tr>\n",
       "      <th>2</th>\n",
       "      <td>\\n\\n\\nHá uma alteração e atualização em nosso ...</td>\n",
       "      <td>1</td>\n",
       "    </tr>\n",
       "    <tr>\n",
       "      <th>3</th>\n",
       "      <td>\\n\\n\\n\\n&lt;ID&gt;\\nNota Fiscal Disponível\\n\\nOlá,\\n...</td>\n",
       "      <td>1</td>\n",
       "    </tr>\n",
       "    <tr>\n",
       "      <th>4</th>\n",
       "      <td>\\n\\n\\nHá uma alteração e atualização em nosso ...</td>\n",
       "      <td>1</td>\n",
       "    </tr>\n",
       "    <tr>\n",
       "      <th>5</th>\n",
       "      <td>\\n\\n\\nAtenção usuário da conta de webmail,\\n\\n...</td>\n",
       "      <td>1</td>\n",
       "    </tr>\n",
       "  </tbody>\n",
       "</table>\n",
       "</div>"
      ],
      "text/plain": [
       "                                           descricao  Fraude\n",
       "0  \\n\\nOlá,\\n\\nEnvio minhas informações profissio...       1\n",
       "1  \\n\\n\\nConvite Exclusivo: Bradesco American Exp...       1\n",
       "2  \\n\\n\\nHá uma alteração e atualização em nosso ...       1\n",
       "3  \\n\\n\\n\\n<ID>\\nNota Fiscal Disponível\\n\\nOlá,\\n...       1\n",
       "4  \\n\\n\\nHá uma alteração e atualização em nosso ...       1\n",
       "5  \\n\\n\\nAtenção usuário da conta de webmail,\\n\\n...       1"
      ]
     },
     "execution_count": 226,
     "metadata": {},
     "output_type": "execute_result"
    }
   ],
   "source": [
    "#Inserindo a coluna \"Fraude\" e atribuindo o valor = 1\n",
    "df_fraudes['Fraude'] = 1\n",
    "\n",
    "#Removendo as colunos desnecessarias\n",
    "df_fraudes.drop(['titulo', 'assunto', 'url'], axis=1, inplace=True)\n",
    "\n",
    "df_fraudes.head(6)"
   ]
  },
  {
   "cell_type": "code",
   "execution_count": 227,
   "metadata": {},
   "outputs": [
    {
     "data": {
      "text/plain": [
       "(16274, 2)"
      ]
     },
     "execution_count": 227,
     "metadata": {},
     "output_type": "execute_result"
    }
   ],
   "source": [
    "#Verificando o tamanho do df\n",
    "df_fraudes.shape"
   ]
  },
  {
   "cell_type": "code",
   "execution_count": 228,
   "metadata": {},
   "outputs": [
    {
     "data": {
      "text/plain": [
       "descricao    0\n",
       "Fraude       0\n",
       "dtype: int64"
      ]
     },
     "execution_count": 228,
     "metadata": {},
     "output_type": "execute_result"
    }
   ],
   "source": [
    "#removendo as informações duplicadas\n",
    "df_fraudes.drop_duplicates(inplace=True)\n",
    "df_fraudes = df_fraudes.dropna().reset_index(drop=True)\n",
    "\n",
    "#Verificando se existem valores vazios\n",
    "df_fraudes.isnull().sum()\n"
   ]
  },
  {
   "cell_type": "code",
   "execution_count": 229,
   "metadata": {},
   "outputs": [],
   "source": [
    "# #Definindo um tamanho menor para o df, com 1003 linhas\n",
    "#df_fraudes = df_fraudes[:1003]\n",
    "\n",
    "#df_fraudes.shape"
   ]
  },
  {
   "cell_type": "code",
   "execution_count": 230,
   "metadata": {},
   "outputs": [
    {
     "data": {
      "text/plain": [
       "(13893, 2)"
      ]
     },
     "execution_count": 230,
     "metadata": {},
     "output_type": "execute_result"
    }
   ],
   "source": [
    "df_fraudes.shape"
   ]
  },
  {
   "cell_type": "code",
   "execution_count": 231,
   "metadata": {},
   "outputs": [
    {
     "data": {
      "text/html": [
       "<div>\n",
       "<style scoped>\n",
       "    .dataframe tbody tr th:only-of-type {\n",
       "        vertical-align: middle;\n",
       "    }\n",
       "\n",
       "    .dataframe tbody tr th {\n",
       "        vertical-align: top;\n",
       "    }\n",
       "\n",
       "    .dataframe thead th {\n",
       "        text-align: right;\n",
       "    }\n",
       "</style>\n",
       "<table border=\"1\" class=\"dataframe\">\n",
       "  <thead>\n",
       "    <tr style=\"text-align: right;\">\n",
       "      <th></th>\n",
       "      <th>descricao</th>\n",
       "      <th>Fraude</th>\n",
       "    </tr>\n",
       "  </thead>\n",
       "  <tbody>\n",
       "    <tr>\n",
       "      <th>0</th>\n",
       "      <td>\\n\\nOlá,\\n\\nEnvio minhas informações profissio...</td>\n",
       "      <td>1</td>\n",
       "    </tr>\n",
       "    <tr>\n",
       "      <th>1</th>\n",
       "      <td>\\n\\n\\nConvite Exclusivo: Bradesco American Exp...</td>\n",
       "      <td>1</td>\n",
       "    </tr>\n",
       "    <tr>\n",
       "      <th>2</th>\n",
       "      <td>\\n\\n\\nHá uma alteração e atualização em nosso ...</td>\n",
       "      <td>1</td>\n",
       "    </tr>\n",
       "    <tr>\n",
       "      <th>3</th>\n",
       "      <td>\\n\\n\\n\\n&lt;ID&gt;\\nNota Fiscal Disponível\\n\\nOlá,\\n...</td>\n",
       "      <td>1</td>\n",
       "    </tr>\n",
       "    <tr>\n",
       "      <th>4</th>\n",
       "      <td>\\n\\n\\nAtenção usuário da conta de webmail,\\n\\n...</td>\n",
       "      <td>1</td>\n",
       "    </tr>\n",
       "    <tr>\n",
       "      <th>...</th>\n",
       "      <td>...</td>\n",
       "      <td>...</td>\n",
       "    </tr>\n",
       "    <tr>\n",
       "      <th>13888</th>\n",
       "      <td>\\n\\nNovidade\\n\\nVocê acaba de ter uma nova opo...</td>\n",
       "      <td>1</td>\n",
       "    </tr>\n",
       "    <tr>\n",
       "      <th>13889</th>\n",
       "      <td>\\n\\nOi td bem?Passei pelo teu álbum e achei li...</td>\n",
       "      <td>1</td>\n",
       "    </tr>\n",
       "    <tr>\n",
       "      <th>13890</th>\n",
       "      <td>\\n\\n\\nA Caixa Econômica Federal\\nna qualidade ...</td>\n",
       "      <td>1</td>\n",
       "    </tr>\n",
       "    <tr>\n",
       "      <th>13891</th>\n",
       "      <td>\\n\\nBrasília, 5 de Março de 2008\\n\\nInformamos...</td>\n",
       "      <td>1</td>\n",
       "    </tr>\n",
       "    <tr>\n",
       "      <th>13892</th>\n",
       "      <td>\\n\\nSua conta de e-mail foi infectada com um v...</td>\n",
       "      <td>1</td>\n",
       "    </tr>\n",
       "  </tbody>\n",
       "</table>\n",
       "<p>13893 rows × 2 columns</p>\n",
       "</div>"
      ],
      "text/plain": [
       "                                               descricao  Fraude\n",
       "0      \\n\\nOlá,\\n\\nEnvio minhas informações profissio...       1\n",
       "1      \\n\\n\\nConvite Exclusivo: Bradesco American Exp...       1\n",
       "2      \\n\\n\\nHá uma alteração e atualização em nosso ...       1\n",
       "3      \\n\\n\\n\\n<ID>\\nNota Fiscal Disponível\\n\\nOlá,\\n...       1\n",
       "4      \\n\\n\\nAtenção usuário da conta de webmail,\\n\\n...       1\n",
       "...                                                  ...     ...\n",
       "13888  \\n\\nNovidade\\n\\nVocê acaba de ter uma nova opo...       1\n",
       "13889  \\n\\nOi td bem?Passei pelo teu álbum e achei li...       1\n",
       "13890  \\n\\n\\nA Caixa Econômica Federal\\nna qualidade ...       1\n",
       "13891  \\n\\nBrasília, 5 de Março de 2008\\n\\nInformamos...       1\n",
       "13892  \\n\\nSua conta de e-mail foi infectada com um v...       1\n",
       "\n",
       "[13893 rows x 2 columns]"
      ]
     },
     "execution_count": 231,
     "metadata": {},
     "output_type": "execute_result"
    }
   ],
   "source": [
    "df_fraudes"
   ]
  },
  {
   "cell_type": "code",
   "execution_count": 232,
   "metadata": {},
   "outputs": [
    {
     "name": "stderr",
     "output_type": "stream",
     "text": [
      "[nltk_data] Downloading package stopwords to\n",
      "[nltk_data]     C:\\Users\\nando\\AppData\\Roaming\\nltk_data...\n",
      "[nltk_data]   Package stopwords is already up-to-date!\n"
     ]
    }
   ],
   "source": [
    "#baixando e carregando uma lista de stopwords (palavras irrelevantes) em português da biblioteca NLTK (Natural Language Toolkit)\n",
    "nltk.download('stopwords')\n",
    "stopwords = nltk.corpus.stopwords.words('portuguese')"
   ]
  },
  {
   "cell_type": "code",
   "execution_count": 233,
   "metadata": {},
   "outputs": [],
   "source": [
    "def process_text_conteudo(conteudo):\n",
    "  import unicodedata\n",
    "\n",
    "  # Remove pontuação\n",
    "  nopont = [char for char in conteudo if char not in string.punctuation]\n",
    "\n",
    "  # Forma as palavras todas em minúnculas\n",
    "  nopont = ''.join(nopont).lower()\n",
    "  \n",
    "  # remove acentos\n",
    "  nopont = unicodedata.normalize('NFKD', nopont).encode('ASCII', 'ignore').decode('ASCII')\n",
    "\n",
    "  # cria lista contendo somente palavras removento as stopwords\n",
    "  clean_palavras = [palavra for palavra in nopont.split() if palavra not in stopwords]\n",
    "\n",
    "  return ', '.join(clean_palavras)\n"
   ]
  },
  {
   "cell_type": "code",
   "execution_count": 234,
   "metadata": {},
   "outputs": [
    {
     "data": {
      "text/html": [
       "<div>\n",
       "<style scoped>\n",
       "    .dataframe tbody tr th:only-of-type {\n",
       "        vertical-align: middle;\n",
       "    }\n",
       "\n",
       "    .dataframe tbody tr th {\n",
       "        vertical-align: top;\n",
       "    }\n",
       "\n",
       "    .dataframe thead th {\n",
       "        text-align: right;\n",
       "    }\n",
       "</style>\n",
       "<table border=\"1\" class=\"dataframe\">\n",
       "  <thead>\n",
       "    <tr style=\"text-align: right;\">\n",
       "      <th></th>\n",
       "      <th>descricao</th>\n",
       "      <th>Fraude</th>\n",
       "    </tr>\n",
       "  </thead>\n",
       "  <tbody>\n",
       "    <tr>\n",
       "      <th>0</th>\n",
       "      <td>ola, envio, informacoes, profissionais, analis...</td>\n",
       "      <td>1</td>\n",
       "    </tr>\n",
       "    <tr>\n",
       "      <th>1</th>\n",
       "      <td>convite, exclusivo, bradesco, american, expres...</td>\n",
       "      <td>1</td>\n",
       "    </tr>\n",
       "    <tr>\n",
       "      <th>2</th>\n",
       "      <td>ha, alteracao, atualizacao, servidor, email, t...</td>\n",
       "      <td>1</td>\n",
       "    </tr>\n",
       "    <tr>\n",
       "      <th>3</th>\n",
       "      <td>id, nota, fiscal, disponivel, ola, nota, fisca...</td>\n",
       "      <td>1</td>\n",
       "    </tr>\n",
       "    <tr>\n",
       "      <th>4</th>\n",
       "      <td>atencao, usuario, conta, webmail, mensagem, ce...</td>\n",
       "      <td>1</td>\n",
       "    </tr>\n",
       "    <tr>\n",
       "      <th>...</th>\n",
       "      <td>...</td>\n",
       "      <td>...</td>\n",
       "    </tr>\n",
       "    <tr>\n",
       "      <th>13888</th>\n",
       "      <td>novidade, voce, acaba, ter, nova, oportunidade...</td>\n",
       "      <td>1</td>\n",
       "    </tr>\n",
       "    <tr>\n",
       "      <th>13889</th>\n",
       "      <td>oi, td, bempassei, album, achei, lindas, fotos...</td>\n",
       "      <td>1</td>\n",
       "    </tr>\n",
       "    <tr>\n",
       "      <th>13890</th>\n",
       "      <td>caixa, economica, federal, qualidade, gestor, ...</td>\n",
       "      <td>1</td>\n",
       "    </tr>\n",
       "    <tr>\n",
       "      <th>13891</th>\n",
       "      <td>brasilia, 5, marco, 2008, informamos, cpf, enc...</td>\n",
       "      <td>1</td>\n",
       "    </tr>\n",
       "    <tr>\n",
       "      <th>13892</th>\n",
       "      <td>conta, email, infectada, virus, trojan, exclui...</td>\n",
       "      <td>1</td>\n",
       "    </tr>\n",
       "  </tbody>\n",
       "</table>\n",
       "<p>13893 rows × 2 columns</p>\n",
       "</div>"
      ],
      "text/plain": [
       "                                               descricao  Fraude\n",
       "0      ola, envio, informacoes, profissionais, analis...       1\n",
       "1      convite, exclusivo, bradesco, american, expres...       1\n",
       "2      ha, alteracao, atualizacao, servidor, email, t...       1\n",
       "3      id, nota, fiscal, disponivel, ola, nota, fisca...       1\n",
       "4      atencao, usuario, conta, webmail, mensagem, ce...       1\n",
       "...                                                  ...     ...\n",
       "13888  novidade, voce, acaba, ter, nova, oportunidade...       1\n",
       "13889  oi, td, bempassei, album, achei, lindas, fotos...       1\n",
       "13890  caixa, economica, federal, qualidade, gestor, ...       1\n",
       "13891  brasilia, 5, marco, 2008, informamos, cpf, enc...       1\n",
       "13892  conta, email, infectada, virus, trojan, exclui...       1\n",
       "\n",
       "[13893 rows x 2 columns]"
      ]
     },
     "execution_count": 234,
     "metadata": {},
     "output_type": "execute_result"
    }
   ],
   "source": [
    "#Processa a coluna \"descricao\" e retorna uma lista de palavras filtradas\n",
    "df_fraudes['descricao'] = df_fraudes['descricao'].apply(process_text_conteudo)\n",
    "\n",
    "df_fraudes"
   ]
  },
  {
   "cell_type": "code",
   "execution_count": 235,
   "metadata": {},
   "outputs": [],
   "source": [
    "df_fraudes.to_csv('C:\\\\Users\\\\nando\\\\OneDrive\\\\Documentos\\\\Fernando\\\\Sentinel-Anti-Fraude\\\\Teste\\\\Datasets\\\\df_fraudes_tratada.csv', index=True)"
   ]
  },
  {
   "cell_type": "markdown",
   "metadata": {},
   "source": [
    "Segundo Dataset"
   ]
  }
 ],
 "metadata": {
  "kernelspec": {
   "display_name": "Python 3",
   "language": "python",
   "name": "python3"
  },
  "language_info": {
   "codemirror_mode": {
    "name": "ipython",
    "version": 3
   },
   "file_extension": ".py",
   "mimetype": "text/x-python",
   "name": "python",
   "nbconvert_exporter": "python",
   "pygments_lexer": "ipython3",
   "version": "3.12.6"
  }
 },
 "nbformat": 4,
 "nbformat_minor": 2
}
