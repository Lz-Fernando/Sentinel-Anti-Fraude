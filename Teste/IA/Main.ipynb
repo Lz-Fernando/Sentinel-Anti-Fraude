{
 "cells": [
  {
   "cell_type": "code",
   "execution_count": 534,
   "metadata": {},
   "outputs": [],
   "source": [
    "import numpy as np\n",
    "import pandas as pd\n",
    "import nltk\n",
    "import string"
   ]
  },
  {
   "cell_type": "markdown",
   "metadata": {},
   "source": [
    "Primeiro DataSet com mensagens fraudulentas"
   ]
  },
  {
   "cell_type": "code",
   "execution_count": 535,
   "metadata": {},
   "outputs": [],
   "source": [
    "#Leitura do arquivo csv de mensagens fraudulentas\n",
    "dataset_pd = pd.read_csv(\"C:\\\\Users\\\\nando\\\\OneDrive\\\\Documentos\\\\Fernando\\\\Sentinel-Anti-Fraude\\\\Teste\\\\Datasets\\\\fraudes.csv\", encoding='utf-8')"
   ]
  },
  {
   "cell_type": "code",
   "execution_count": 536,
   "metadata": {},
   "outputs": [
    {
     "data": {
      "text/html": [
       "<div>\n",
       "<style scoped>\n",
       "    .dataframe tbody tr th:only-of-type {\n",
       "        vertical-align: middle;\n",
       "    }\n",
       "\n",
       "    .dataframe tbody tr th {\n",
       "        vertical-align: top;\n",
       "    }\n",
       "\n",
       "    .dataframe thead th {\n",
       "        text-align: right;\n",
       "    }\n",
       "</style>\n",
       "<table border=\"1\" class=\"dataframe\">\n",
       "  <thead>\n",
       "    <tr style=\"text-align: right;\">\n",
       "      <th></th>\n",
       "      <th>titulo</th>\n",
       "      <th>assunto</th>\n",
       "      <th>descricao</th>\n",
       "      <th>url</th>\n",
       "    </tr>\n",
       "  </thead>\n",
       "  <tbody>\n",
       "    <tr>\n",
       "      <th>0</th>\n",
       "      <td>FRAUDE - Perfil Profissional</td>\n",
       "      <td>Assunto da mensagem: Perfil Profissional Compl...</td>\n",
       "      <td>\\n\\nOlá,\\n\\nEnvio minhas informações profissio...</td>\n",
       "      <td>https://catalogodefraudes.rnp.br/frauds/16581</td>\n",
       "    </tr>\n",
       "    <tr>\n",
       "      <th>1</th>\n",
       "      <td>FRAUDE - Phishing de Cartão de Crédito</td>\n",
       "      <td>Assunto da mensagem: Convite Especial: Bradesc...</td>\n",
       "      <td>\\n\\n\\nConvite Exclusivo: Bradesco American Exp...</td>\n",
       "      <td>https://catalogodefraudes.rnp.br/frauds/16575</td>\n",
       "    </tr>\n",
       "    <tr>\n",
       "      <th>2</th>\n",
       "      <td>FRAUDE - Phishing por Atualização de Email</td>\n",
       "      <td>Assunto da mensagem: Re: NF-e: &lt;ID&gt;</td>\n",
       "      <td>\\n\\n\\nHá uma alteração e atualização em nosso ...</td>\n",
       "      <td>https://catalogodefraudes.rnp.br/frauds/16576</td>\n",
       "    </tr>\n",
       "    <tr>\n",
       "      <th>3</th>\n",
       "      <td>FRAUDE - Nota Fiscal Eletrônica</td>\n",
       "      <td>Assunto da mensagem: Seu pedido foi realizado ...</td>\n",
       "      <td>\\n\\n\\n\\n&lt;ID&gt;\\nNota Fiscal Disponível\\n\\nOlá,\\n...</td>\n",
       "      <td>https://catalogodefraudes.rnp.br/frauds/16580</td>\n",
       "    </tr>\n",
       "    <tr>\n",
       "      <th>4</th>\n",
       "      <td>FRAUDE - Atualização de E-mail</td>\n",
       "      <td>Assunto da mensagem: Notificação de cobrança /...</td>\n",
       "      <td>\\n\\n\\nHá uma alteração e atualização em nosso ...</td>\n",
       "      <td>https://catalogodefraudes.rnp.br/frauds/16574</td>\n",
       "    </tr>\n",
       "  </tbody>\n",
       "</table>\n",
       "</div>"
      ],
      "text/plain": [
       "                                       titulo  \\\n",
       "0                FRAUDE - Perfil Profissional   \n",
       "1      FRAUDE - Phishing de Cartão de Crédito   \n",
       "2  FRAUDE - Phishing por Atualização de Email   \n",
       "3             FRAUDE - Nota Fiscal Eletrônica   \n",
       "4              FRAUDE - Atualização de E-mail   \n",
       "\n",
       "                                             assunto  \\\n",
       "0  Assunto da mensagem: Perfil Profissional Compl...   \n",
       "1  Assunto da mensagem: Convite Especial: Bradesc...   \n",
       "2                Assunto da mensagem: Re: NF-e: <ID>   \n",
       "3  Assunto da mensagem: Seu pedido foi realizado ...   \n",
       "4  Assunto da mensagem: Notificação de cobrança /...   \n",
       "\n",
       "                                           descricao  \\\n",
       "0  \\n\\nOlá,\\n\\nEnvio minhas informações profissio...   \n",
       "1  \\n\\n\\nConvite Exclusivo: Bradesco American Exp...   \n",
       "2  \\n\\n\\nHá uma alteração e atualização em nosso ...   \n",
       "3  \\n\\n\\n\\n<ID>\\nNota Fiscal Disponível\\n\\nOlá,\\n...   \n",
       "4  \\n\\n\\nHá uma alteração e atualização em nosso ...   \n",
       "\n",
       "                                             url  \n",
       "0  https://catalogodefraudes.rnp.br/frauds/16581  \n",
       "1  https://catalogodefraudes.rnp.br/frauds/16575  \n",
       "2  https://catalogodefraudes.rnp.br/frauds/16576  \n",
       "3  https://catalogodefraudes.rnp.br/frauds/16580  \n",
       "4  https://catalogodefraudes.rnp.br/frauds/16574  "
      ]
     },
     "execution_count": 536,
     "metadata": {},
     "output_type": "execute_result"
    }
   ],
   "source": [
    "#Salvando as informações do arquivo em uma variável\n",
    "df_fraudes = pd.DataFrame(dataset_pd)\n",
    "df_fraudes.head()"
   ]
  },
  {
   "cell_type": "code",
   "execution_count": 537,
   "metadata": {},
   "outputs": [
    {
     "data": {
      "text/html": [
       "<div>\n",
       "<style scoped>\n",
       "    .dataframe tbody tr th:only-of-type {\n",
       "        vertical-align: middle;\n",
       "    }\n",
       "\n",
       "    .dataframe tbody tr th {\n",
       "        vertical-align: top;\n",
       "    }\n",
       "\n",
       "    .dataframe thead th {\n",
       "        text-align: right;\n",
       "    }\n",
       "</style>\n",
       "<table border=\"1\" class=\"dataframe\">\n",
       "  <thead>\n",
       "    <tr style=\"text-align: right;\">\n",
       "      <th></th>\n",
       "      <th>descricao</th>\n",
       "      <th>Fraude</th>\n",
       "    </tr>\n",
       "  </thead>\n",
       "  <tbody>\n",
       "    <tr>\n",
       "      <th>0</th>\n",
       "      <td>\\n\\nOlá,\\n\\nEnvio minhas informações profissio...</td>\n",
       "      <td>1</td>\n",
       "    </tr>\n",
       "    <tr>\n",
       "      <th>1</th>\n",
       "      <td>\\n\\n\\nConvite Exclusivo: Bradesco American Exp...</td>\n",
       "      <td>1</td>\n",
       "    </tr>\n",
       "    <tr>\n",
       "      <th>2</th>\n",
       "      <td>\\n\\n\\nHá uma alteração e atualização em nosso ...</td>\n",
       "      <td>1</td>\n",
       "    </tr>\n",
       "    <tr>\n",
       "      <th>3</th>\n",
       "      <td>\\n\\n\\n\\n&lt;ID&gt;\\nNota Fiscal Disponível\\n\\nOlá,\\n...</td>\n",
       "      <td>1</td>\n",
       "    </tr>\n",
       "    <tr>\n",
       "      <th>4</th>\n",
       "      <td>\\n\\n\\nHá uma alteração e atualização em nosso ...</td>\n",
       "      <td>1</td>\n",
       "    </tr>\n",
       "    <tr>\n",
       "      <th>5</th>\n",
       "      <td>\\n\\n\\nAtenção usuário da conta de webmail,\\n\\n...</td>\n",
       "      <td>1</td>\n",
       "    </tr>\n",
       "  </tbody>\n",
       "</table>\n",
       "</div>"
      ],
      "text/plain": [
       "                                           descricao  Fraude\n",
       "0  \\n\\nOlá,\\n\\nEnvio minhas informações profissio...       1\n",
       "1  \\n\\n\\nConvite Exclusivo: Bradesco American Exp...       1\n",
       "2  \\n\\n\\nHá uma alteração e atualização em nosso ...       1\n",
       "3  \\n\\n\\n\\n<ID>\\nNota Fiscal Disponível\\n\\nOlá,\\n...       1\n",
       "4  \\n\\n\\nHá uma alteração e atualização em nosso ...       1\n",
       "5  \\n\\n\\nAtenção usuário da conta de webmail,\\n\\n...       1"
      ]
     },
     "execution_count": 537,
     "metadata": {},
     "output_type": "execute_result"
    }
   ],
   "source": [
    "#Inserindo a coluna \"Fraude\" e atribuindo o valor = 1\n",
    "df_fraudes['Fraude'] = 1\n",
    "\n",
    "#Removendo as colunos desnecessarias\n",
    "df_fraudes.drop(['titulo', 'assunto', 'url'], axis=1, inplace=True)\n",
    "\n",
    "df_fraudes.head(6)"
   ]
  },
  {
   "cell_type": "code",
   "execution_count": 538,
   "metadata": {},
   "outputs": [
    {
     "data": {
      "text/plain": [
       "(16274, 2)"
      ]
     },
     "execution_count": 538,
     "metadata": {},
     "output_type": "execute_result"
    }
   ],
   "source": [
    "#Verificando o tamanho do df\n",
    "df_fraudes.shape"
   ]
  },
  {
   "cell_type": "code",
   "execution_count": 539,
   "metadata": {},
   "outputs": [
    {
     "data": {
      "text/plain": [
       "descricao    0\n",
       "Fraude       0\n",
       "dtype: int64"
      ]
     },
     "execution_count": 539,
     "metadata": {},
     "output_type": "execute_result"
    }
   ],
   "source": [
    "#removendo as informações duplicadas\n",
    "df_fraudes.drop_duplicates(inplace=True)\n",
    "df_fraudes = df_fraudes.dropna().reset_index(drop=True)\n",
    "\n",
    "#Verificando se existem valores vazios\n",
    "df_fraudes.isnull().sum()\n"
   ]
  },
  {
   "cell_type": "code",
   "execution_count": 540,
   "metadata": {},
   "outputs": [],
   "source": [
    "# #Definindo um tamanho menor para o df, com 1003 linhas\n",
    "df_fraudes = df_fraudes[:3636]"
   ]
  },
  {
   "cell_type": "code",
   "execution_count": 541,
   "metadata": {},
   "outputs": [
    {
     "data": {
      "text/plain": [
       "(3636, 2)"
      ]
     },
     "execution_count": 541,
     "metadata": {},
     "output_type": "execute_result"
    }
   ],
   "source": [
    "df_fraudes.shape"
   ]
  },
  {
   "cell_type": "code",
   "execution_count": 542,
   "metadata": {},
   "outputs": [
    {
     "data": {
      "text/html": [
       "<div>\n",
       "<style scoped>\n",
       "    .dataframe tbody tr th:only-of-type {\n",
       "        vertical-align: middle;\n",
       "    }\n",
       "\n",
       "    .dataframe tbody tr th {\n",
       "        vertical-align: top;\n",
       "    }\n",
       "\n",
       "    .dataframe thead th {\n",
       "        text-align: right;\n",
       "    }\n",
       "</style>\n",
       "<table border=\"1\" class=\"dataframe\">\n",
       "  <thead>\n",
       "    <tr style=\"text-align: right;\">\n",
       "      <th></th>\n",
       "      <th>descricao</th>\n",
       "      <th>Fraude</th>\n",
       "    </tr>\n",
       "  </thead>\n",
       "  <tbody>\n",
       "    <tr>\n",
       "      <th>0</th>\n",
       "      <td>\\n\\nOlá,\\n\\nEnvio minhas informações profissio...</td>\n",
       "      <td>1</td>\n",
       "    </tr>\n",
       "    <tr>\n",
       "      <th>1</th>\n",
       "      <td>\\n\\n\\nConvite Exclusivo: Bradesco American Exp...</td>\n",
       "      <td>1</td>\n",
       "    </tr>\n",
       "    <tr>\n",
       "      <th>2</th>\n",
       "      <td>\\n\\n\\nHá uma alteração e atualização em nosso ...</td>\n",
       "      <td>1</td>\n",
       "    </tr>\n",
       "    <tr>\n",
       "      <th>3</th>\n",
       "      <td>\\n\\n\\n\\n&lt;ID&gt;\\nNota Fiscal Disponível\\n\\nOlá,\\n...</td>\n",
       "      <td>1</td>\n",
       "    </tr>\n",
       "    <tr>\n",
       "      <th>4</th>\n",
       "      <td>\\n\\n\\nAtenção usuário da conta de webmail,\\n\\n...</td>\n",
       "      <td>1</td>\n",
       "    </tr>\n",
       "    <tr>\n",
       "      <th>...</th>\n",
       "      <td>...</td>\n",
       "      <td>...</td>\n",
       "    </tr>\n",
       "    <tr>\n",
       "      <th>3631</th>\n",
       "      <td>\\n\\n\\nEste é o seu último aviso Sua Caixa de C...</td>\n",
       "      <td>1</td>\n",
       "    </tr>\n",
       "    <tr>\n",
       "      <th>3632</th>\n",
       "      <td>\\n\\n\\nANEXO: Doc-003256283.doc\\n\\nBoa tarde! C...</td>\n",
       "      <td>1</td>\n",
       "    </tr>\n",
       "    <tr>\n",
       "      <th>3633</th>\n",
       "      <td>\\n\\n\\nPrezado(a), \\n\\n\\nSegue anexado a este e...</td>\n",
       "      <td>1</td>\n",
       "    </tr>\n",
       "    <tr>\n",
       "      <th>3634</th>\n",
       "      <td>\\n\\n\\nPrezado Cliente,\\nAcreditamos que tenha ...</td>\n",
       "      <td>1</td>\n",
       "    </tr>\n",
       "    <tr>\n",
       "      <th>3635</th>\n",
       "      <td>\\n\\n\\nVIVO\\n\\nConforme sua solicitação estamos...</td>\n",
       "      <td>1</td>\n",
       "    </tr>\n",
       "  </tbody>\n",
       "</table>\n",
       "<p>3636 rows × 2 columns</p>\n",
       "</div>"
      ],
      "text/plain": [
       "                                              descricao  Fraude\n",
       "0     \\n\\nOlá,\\n\\nEnvio minhas informações profissio...       1\n",
       "1     \\n\\n\\nConvite Exclusivo: Bradesco American Exp...       1\n",
       "2     \\n\\n\\nHá uma alteração e atualização em nosso ...       1\n",
       "3     \\n\\n\\n\\n<ID>\\nNota Fiscal Disponível\\n\\nOlá,\\n...       1\n",
       "4     \\n\\n\\nAtenção usuário da conta de webmail,\\n\\n...       1\n",
       "...                                                 ...     ...\n",
       "3631  \\n\\n\\nEste é o seu último aviso Sua Caixa de C...       1\n",
       "3632  \\n\\n\\nANEXO: Doc-003256283.doc\\n\\nBoa tarde! C...       1\n",
       "3633  \\n\\n\\nPrezado(a), \\n\\n\\nSegue anexado a este e...       1\n",
       "3634  \\n\\n\\nPrezado Cliente,\\nAcreditamos que tenha ...       1\n",
       "3635  \\n\\n\\nVIVO\\n\\nConforme sua solicitação estamos...       1\n",
       "\n",
       "[3636 rows x 2 columns]"
      ]
     },
     "execution_count": 542,
     "metadata": {},
     "output_type": "execute_result"
    }
   ],
   "source": [
    "df_fraudes"
   ]
  },
  {
   "cell_type": "code",
   "execution_count": 543,
   "metadata": {},
   "outputs": [
    {
     "name": "stderr",
     "output_type": "stream",
     "text": [
      "[nltk_data] Downloading package stopwords to\n",
      "[nltk_data]     C:\\Users\\nando\\AppData\\Roaming\\nltk_data...\n",
      "[nltk_data]   Package stopwords is already up-to-date!\n"
     ]
    }
   ],
   "source": [
    "#baixando e carregando uma lista de stopwords (palavras irrelevantes) em português da biblioteca NLTK (Natural Language Toolkit)\n",
    "nltk.download('stopwords')\n",
    "stopwords = nltk.corpus.stopwords.words('portuguese')"
   ]
  },
  {
   "cell_type": "code",
   "execution_count": 544,
   "metadata": {},
   "outputs": [],
   "source": [
    "def process_text_conteudo(conteudo):\n",
    "  import unicodedata\n",
    "  import string\n",
    "  \n",
    "  # Remove pontuação\n",
    "  nopont = [char for char in conteudo if char not in string.punctuation]\n",
    "\n",
    "  # Converte para minúsculas\n",
    "  nopont = ''.join(nopont).lower()\n",
    "  \n",
    "  # Remove acentos\n",
    "  nopont = unicodedata.normalize('NFKD', nopont).encode('ASCII', 'ignore').decode('ASCII')\n",
    "\n",
    "  return nopont\n"
   ]
  },
  {
   "cell_type": "code",
   "execution_count": 545,
   "metadata": {},
   "outputs": [],
   "source": [
    "def tokenize_text(conteudo):\n",
    "    return conteudo.split()"
   ]
  },
  {
   "cell_type": "code",
   "execution_count": 546,
   "metadata": {},
   "outputs": [
    {
     "data": {
      "text/html": [
       "<div>\n",
       "<style scoped>\n",
       "    .dataframe tbody tr th:only-of-type {\n",
       "        vertical-align: middle;\n",
       "    }\n",
       "\n",
       "    .dataframe tbody tr th {\n",
       "        vertical-align: top;\n",
       "    }\n",
       "\n",
       "    .dataframe thead th {\n",
       "        text-align: right;\n",
       "    }\n",
       "</style>\n",
       "<table border=\"1\" class=\"dataframe\">\n",
       "  <thead>\n",
       "    <tr style=\"text-align: right;\">\n",
       "      <th></th>\n",
       "      <th>descricao</th>\n",
       "      <th>Fraude</th>\n",
       "    </tr>\n",
       "  </thead>\n",
       "  <tbody>\n",
       "    <tr>\n",
       "      <th>0</th>\n",
       "      <td>\\n\\nola\\n\\nenvio minhas informacoes profission...</td>\n",
       "      <td>1</td>\n",
       "    </tr>\n",
       "    <tr>\n",
       "      <th>1</th>\n",
       "      <td>\\n\\n\\nconvite exclusivo bradesco american expr...</td>\n",
       "      <td>1</td>\n",
       "    </tr>\n",
       "    <tr>\n",
       "      <th>2</th>\n",
       "      <td>\\n\\n\\nha uma alteracao e atualizacao em nosso ...</td>\n",
       "      <td>1</td>\n",
       "    </tr>\n",
       "    <tr>\n",
       "      <th>3</th>\n",
       "      <td>\\n\\n\\n\\nid\\nnota fiscal disponivel\\n\\nola\\n\\ns...</td>\n",
       "      <td>1</td>\n",
       "    </tr>\n",
       "    <tr>\n",
       "      <th>4</th>\n",
       "      <td>\\n\\n\\natencao usuario da conta de webmail\\n\\ne...</td>\n",
       "      <td>1</td>\n",
       "    </tr>\n",
       "    <tr>\n",
       "      <th>...</th>\n",
       "      <td>...</td>\n",
       "      <td>...</td>\n",
       "    </tr>\n",
       "    <tr>\n",
       "      <th>3631</th>\n",
       "      <td>\\n\\n\\neste e o seu ultimo aviso sua caixa de c...</td>\n",
       "      <td>1</td>\n",
       "    </tr>\n",
       "    <tr>\n",
       "      <th>3632</th>\n",
       "      <td>\\n\\n\\nanexo doc003256283doc\\n\\nboa tarde como ...</td>\n",
       "      <td>1</td>\n",
       "    </tr>\n",
       "    <tr>\n",
       "      <th>3633</th>\n",
       "      <td>\\n\\n\\nprezadoa \\n\\n\\nsegue anexado a este emai...</td>\n",
       "      <td>1</td>\n",
       "    </tr>\n",
       "    <tr>\n",
       "      <th>3634</th>\n",
       "      <td>\\n\\n\\nprezado cliente\\nacreditamos que tenha o...</td>\n",
       "      <td>1</td>\n",
       "    </tr>\n",
       "    <tr>\n",
       "      <th>3635</th>\n",
       "      <td>\\n\\n\\nvivo\\n\\nconforme sua solicitacao estamos...</td>\n",
       "      <td>1</td>\n",
       "    </tr>\n",
       "  </tbody>\n",
       "</table>\n",
       "<p>3636 rows × 2 columns</p>\n",
       "</div>"
      ],
      "text/plain": [
       "                                              descricao  Fraude\n",
       "0     \\n\\nola\\n\\nenvio minhas informacoes profission...       1\n",
       "1     \\n\\n\\nconvite exclusivo bradesco american expr...       1\n",
       "2     \\n\\n\\nha uma alteracao e atualizacao em nosso ...       1\n",
       "3     \\n\\n\\n\\nid\\nnota fiscal disponivel\\n\\nola\\n\\ns...       1\n",
       "4     \\n\\n\\natencao usuario da conta de webmail\\n\\ne...       1\n",
       "...                                                 ...     ...\n",
       "3631  \\n\\n\\neste e o seu ultimo aviso sua caixa de c...       1\n",
       "3632  \\n\\n\\nanexo doc003256283doc\\n\\nboa tarde como ...       1\n",
       "3633  \\n\\n\\nprezadoa \\n\\n\\nsegue anexado a este emai...       1\n",
       "3634  \\n\\n\\nprezado cliente\\nacreditamos que tenha o...       1\n",
       "3635  \\n\\n\\nvivo\\n\\nconforme sua solicitacao estamos...       1\n",
       "\n",
       "[3636 rows x 2 columns]"
      ]
     },
     "execution_count": 546,
     "metadata": {},
     "output_type": "execute_result"
    }
   ],
   "source": [
    "#Processa a coluna \"descricao\" e retorna uma lista de palavras filtradas\n",
    "df_fraudes['descricao'] = df_fraudes['descricao'].apply(process_text_conteudo)\n",
    "\n",
    "df_fraudes"
   ]
  },
  {
   "cell_type": "code",
   "execution_count": 547,
   "metadata": {},
   "outputs": [],
   "source": [
    "df_fraudes.to_csv('C:\\\\Users\\\\nando\\\\OneDrive\\\\Documentos\\\\Fernando\\\\Sentinel-Anti-Fraude\\\\Teste\\\\Datasets\\\\df_fraudes_tratada.csv', index=True)"
   ]
  },
  {
   "cell_type": "markdown",
   "metadata": {},
   "source": [
    "Segundo Dataset"
   ]
  },
  {
   "cell_type": "code",
   "execution_count": 548,
   "metadata": {},
   "outputs": [
    {
     "data": {
      "text/html": [
       "<div>\n",
       "<style scoped>\n",
       "    .dataframe tbody tr th:only-of-type {\n",
       "        vertical-align: middle;\n",
       "    }\n",
       "\n",
       "    .dataframe tbody tr th {\n",
       "        vertical-align: top;\n",
       "    }\n",
       "\n",
       "    .dataframe thead th {\n",
       "        text-align: right;\n",
       "    }\n",
       "</style>\n",
       "<table border=\"1\" class=\"dataframe\">\n",
       "  <thead>\n",
       "    <tr style=\"text-align: right;\">\n",
       "      <th></th>\n",
       "      <th>Unnamed: 0</th>\n",
       "      <th>descricao</th>\n",
       "      <th>Fraude</th>\n",
       "    </tr>\n",
       "  </thead>\n",
       "  <tbody>\n",
       "    <tr>\n",
       "      <th>0</th>\n",
       "      <td>0</td>\n",
       "      <td>qui abr agradecemos por escolher o pop total r...</td>\n",
       "      <td>0</td>\n",
       "    </tr>\n",
       "    <tr>\n",
       "      <th>1</th>\n",
       "      <td>1</td>\n",
       "      <td>sex abr agradecemos por escolher o pop total r...</td>\n",
       "      <td>0</td>\n",
       "    </tr>\n",
       "    <tr>\n",
       "      <th>2</th>\n",
       "      <td>2</td>\n",
       "      <td>seg abr agradecemos por escolher o pop total r...</td>\n",
       "      <td>0</td>\n",
       "    </tr>\n",
       "    <tr>\n",
       "      <th>3</th>\n",
       "      <td>3</td>\n",
       "      <td>qui mai agradecemos por escolher o pop total r...</td>\n",
       "      <td>0</td>\n",
       "    </tr>\n",
       "    <tr>\n",
       "      <th>4</th>\n",
       "      <td>4</td>\n",
       "      <td>qua mai agradecemos por escolher o pop total r...</td>\n",
       "      <td>0</td>\n",
       "    </tr>\n",
       "    <tr>\n",
       "      <th>...</th>\n",
       "      <td>...</td>\n",
       "      <td>...</td>\n",
       "      <td>...</td>\n",
       "    </tr>\n",
       "    <tr>\n",
       "      <th>3631</th>\n",
       "      <td>3631</td>\n",
       "      <td>discover courses in computer science user inno...</td>\n",
       "      <td>0</td>\n",
       "    </tr>\n",
       "    <tr>\n",
       "      <th>3632</th>\n",
       "      <td>3632</td>\n",
       "      <td>delltm para visualizar este email no seu brows...</td>\n",
       "      <td>0</td>\n",
       "    </tr>\n",
       "    <tr>\n",
       "      <th>3633</th>\n",
       "      <td>3633</td>\n",
       "      <td>apenas esta semana ofertas incriveis em produt...</td>\n",
       "      <td>0</td>\n",
       "    </tr>\n",
       "    <tr>\n",
       "      <th>3634</th>\n",
       "      <td>3634</td>\n",
       "      <td>netflix para kuromukuro episodios hd quando me...</td>\n",
       "      <td>0</td>\n",
       "    </tr>\n",
       "    <tr>\n",
       "      <th>3635</th>\n",
       "      <td>3635</td>\n",
       "      <td>daa informa vivemos num mundo em que precisamo...</td>\n",
       "      <td>0</td>\n",
       "    </tr>\n",
       "  </tbody>\n",
       "</table>\n",
       "<p>3636 rows × 3 columns</p>\n",
       "</div>"
      ],
      "text/plain": [
       "      Unnamed: 0                                          descricao  Fraude\n",
       "0              0  qui abr agradecemos por escolher o pop total r...       0\n",
       "1              1  sex abr agradecemos por escolher o pop total r...       0\n",
       "2              2  seg abr agradecemos por escolher o pop total r...       0\n",
       "3              3  qui mai agradecemos por escolher o pop total r...       0\n",
       "4              4  qua mai agradecemos por escolher o pop total r...       0\n",
       "...          ...                                                ...     ...\n",
       "3631        3631  discover courses in computer science user inno...       0\n",
       "3632        3632  delltm para visualizar este email no seu brows...       0\n",
       "3633        3633  apenas esta semana ofertas incriveis em produt...       0\n",
       "3634        3634  netflix para kuromukuro episodios hd quando me...       0\n",
       "3635        3635  daa informa vivemos num mundo em que precisamo...       0\n",
       "\n",
       "[3636 rows x 3 columns]"
      ]
     },
     "execution_count": 548,
     "metadata": {},
     "output_type": "execute_result"
    }
   ],
   "source": [
    "#Leitura do arquivo csv de mensagens não fraudulentas\n",
    "dataset_pd2 = pd.read_csv(\"C:\\\\Users\\\\nando\\\\OneDrive\\\\Documentos\\\\Fernando\\\\Sentinel-Anti-Fraude\\\\Teste\\\\Datasets\\\\df_nao_fraude_tratada2_4354.csv\", encoding='utf-8')\n",
    "\n",
    "dataset_pd2"
   ]
  },
  {
   "cell_type": "code",
   "execution_count": 549,
   "metadata": {},
   "outputs": [
    {
     "data": {
      "text/html": [
       "<div>\n",
       "<style scoped>\n",
       "    .dataframe tbody tr th:only-of-type {\n",
       "        vertical-align: middle;\n",
       "    }\n",
       "\n",
       "    .dataframe tbody tr th {\n",
       "        vertical-align: top;\n",
       "    }\n",
       "\n",
       "    .dataframe thead th {\n",
       "        text-align: right;\n",
       "    }\n",
       "</style>\n",
       "<table border=\"1\" class=\"dataframe\">\n",
       "  <thead>\n",
       "    <tr style=\"text-align: right;\">\n",
       "      <th></th>\n",
       "      <th>descricao</th>\n",
       "      <th>Fraude</th>\n",
       "    </tr>\n",
       "  </thead>\n",
       "  <tbody>\n",
       "    <tr>\n",
       "      <th>0</th>\n",
       "      <td>qui abr agradecemos por escolher o pop total r...</td>\n",
       "      <td>0</td>\n",
       "    </tr>\n",
       "    <tr>\n",
       "      <th>1</th>\n",
       "      <td>sex abr agradecemos por escolher o pop total r...</td>\n",
       "      <td>0</td>\n",
       "    </tr>\n",
       "    <tr>\n",
       "      <th>2</th>\n",
       "      <td>seg abr agradecemos por escolher o pop total r...</td>\n",
       "      <td>0</td>\n",
       "    </tr>\n",
       "    <tr>\n",
       "      <th>3</th>\n",
       "      <td>qui mai agradecemos por escolher o pop total r...</td>\n",
       "      <td>0</td>\n",
       "    </tr>\n",
       "    <tr>\n",
       "      <th>4</th>\n",
       "      <td>qua mai agradecemos por escolher o pop total r...</td>\n",
       "      <td>0</td>\n",
       "    </tr>\n",
       "    <tr>\n",
       "      <th>...</th>\n",
       "      <td>...</td>\n",
       "      <td>...</td>\n",
       "    </tr>\n",
       "    <tr>\n",
       "      <th>3631</th>\n",
       "      <td>discover courses in computer science user inno...</td>\n",
       "      <td>0</td>\n",
       "    </tr>\n",
       "    <tr>\n",
       "      <th>3632</th>\n",
       "      <td>delltm para visualizar este email no seu brows...</td>\n",
       "      <td>0</td>\n",
       "    </tr>\n",
       "    <tr>\n",
       "      <th>3633</th>\n",
       "      <td>apenas esta semana ofertas incriveis em produt...</td>\n",
       "      <td>0</td>\n",
       "    </tr>\n",
       "    <tr>\n",
       "      <th>3634</th>\n",
       "      <td>netflix para kuromukuro episodios hd quando me...</td>\n",
       "      <td>0</td>\n",
       "    </tr>\n",
       "    <tr>\n",
       "      <th>3635</th>\n",
       "      <td>daa informa vivemos num mundo em que precisamo...</td>\n",
       "      <td>0</td>\n",
       "    </tr>\n",
       "  </tbody>\n",
       "</table>\n",
       "<p>3636 rows × 2 columns</p>\n",
       "</div>"
      ],
      "text/plain": [
       "                                              descricao  Fraude\n",
       "0     qui abr agradecemos por escolher o pop total r...       0\n",
       "1     sex abr agradecemos por escolher o pop total r...       0\n",
       "2     seg abr agradecemos por escolher o pop total r...       0\n",
       "3     qui mai agradecemos por escolher o pop total r...       0\n",
       "4     qua mai agradecemos por escolher o pop total r...       0\n",
       "...                                                 ...     ...\n",
       "3631  discover courses in computer science user inno...       0\n",
       "3632  delltm para visualizar este email no seu brows...       0\n",
       "3633  apenas esta semana ofertas incriveis em produt...       0\n",
       "3634  netflix para kuromukuro episodios hd quando me...       0\n",
       "3635  daa informa vivemos num mundo em que precisamo...       0\n",
       "\n",
       "[3636 rows x 2 columns]"
      ]
     },
     "execution_count": 549,
     "metadata": {},
     "output_type": "execute_result"
    }
   ],
   "source": [
    "df_legitimo = dataset_pd2.drop(\"Unnamed: 0\", axis = 1)\n",
    "\n",
    "df_legitimo"
   ]
  },
  {
   "cell_type": "code",
   "execution_count": 550,
   "metadata": {},
   "outputs": [
    {
     "data": {
      "text/plain": [
       "descricao    0\n",
       "Fraude       0\n",
       "dtype: int64"
      ]
     },
     "execution_count": 550,
     "metadata": {},
     "output_type": "execute_result"
    }
   ],
   "source": [
    "#removendo as informações duplicadas\n",
    "df_legitimo.drop_duplicates(inplace=True)\n",
    "df_legitimo= df_legitimo.dropna().reset_index(drop=True)\n",
    "\n",
    "#Verificando se existem valores vazios\n",
    "df_legitimo.isnull().sum()\n"
   ]
  },
  {
   "cell_type": "code",
   "execution_count": 551,
   "metadata": {},
   "outputs": [
    {
     "data": {
      "text/html": [
       "<div>\n",
       "<style scoped>\n",
       "    .dataframe tbody tr th:only-of-type {\n",
       "        vertical-align: middle;\n",
       "    }\n",
       "\n",
       "    .dataframe tbody tr th {\n",
       "        vertical-align: top;\n",
       "    }\n",
       "\n",
       "    .dataframe thead th {\n",
       "        text-align: right;\n",
       "    }\n",
       "</style>\n",
       "<table border=\"1\" class=\"dataframe\">\n",
       "  <thead>\n",
       "    <tr style=\"text-align: right;\">\n",
       "      <th></th>\n",
       "      <th>descricao</th>\n",
       "      <th>Fraude</th>\n",
       "    </tr>\n",
       "  </thead>\n",
       "  <tbody>\n",
       "    <tr>\n",
       "      <th>0</th>\n",
       "      <td>qui abr agradecemos por escolher o pop total r...</td>\n",
       "      <td>0</td>\n",
       "    </tr>\n",
       "    <tr>\n",
       "      <th>1</th>\n",
       "      <td>sex abr agradecemos por escolher o pop total r...</td>\n",
       "      <td>0</td>\n",
       "    </tr>\n",
       "    <tr>\n",
       "      <th>2</th>\n",
       "      <td>seg abr agradecemos por escolher o pop total r...</td>\n",
       "      <td>0</td>\n",
       "    </tr>\n",
       "    <tr>\n",
       "      <th>3</th>\n",
       "      <td>qui mai agradecemos por escolher o pop total r...</td>\n",
       "      <td>0</td>\n",
       "    </tr>\n",
       "    <tr>\n",
       "      <th>4</th>\n",
       "      <td>qua mai agradecemos por escolher o pop total r...</td>\n",
       "      <td>0</td>\n",
       "    </tr>\n",
       "    <tr>\n",
       "      <th>...</th>\n",
       "      <td>...</td>\n",
       "      <td>...</td>\n",
       "    </tr>\n",
       "    <tr>\n",
       "      <th>3631</th>\n",
       "      <td>discover courses in computer science user inno...</td>\n",
       "      <td>0</td>\n",
       "    </tr>\n",
       "    <tr>\n",
       "      <th>3632</th>\n",
       "      <td>delltm para visualizar este email no seu brows...</td>\n",
       "      <td>0</td>\n",
       "    </tr>\n",
       "    <tr>\n",
       "      <th>3633</th>\n",
       "      <td>apenas esta semana ofertas incriveis em produt...</td>\n",
       "      <td>0</td>\n",
       "    </tr>\n",
       "    <tr>\n",
       "      <th>3634</th>\n",
       "      <td>netflix para kuromukuro episodios hd quando me...</td>\n",
       "      <td>0</td>\n",
       "    </tr>\n",
       "    <tr>\n",
       "      <th>3635</th>\n",
       "      <td>daa informa vivemos num mundo em que precisamo...</td>\n",
       "      <td>0</td>\n",
       "    </tr>\n",
       "  </tbody>\n",
       "</table>\n",
       "<p>3636 rows × 2 columns</p>\n",
       "</div>"
      ],
      "text/plain": [
       "                                              descricao  Fraude\n",
       "0     qui abr agradecemos por escolher o pop total r...       0\n",
       "1     sex abr agradecemos por escolher o pop total r...       0\n",
       "2     seg abr agradecemos por escolher o pop total r...       0\n",
       "3     qui mai agradecemos por escolher o pop total r...       0\n",
       "4     qua mai agradecemos por escolher o pop total r...       0\n",
       "...                                                 ...     ...\n",
       "3631  discover courses in computer science user inno...       0\n",
       "3632  delltm para visualizar este email no seu brows...       0\n",
       "3633  apenas esta semana ofertas incriveis em produt...       0\n",
       "3634  netflix para kuromukuro episodios hd quando me...       0\n",
       "3635  daa informa vivemos num mundo em que precisamo...       0\n",
       "\n",
       "[3636 rows x 2 columns]"
      ]
     },
     "execution_count": 551,
     "metadata": {},
     "output_type": "execute_result"
    }
   ],
   "source": [
    "df_legitimo"
   ]
  },
  {
   "cell_type": "code",
   "execution_count": 552,
   "metadata": {},
   "outputs": [
    {
     "data": {
      "text/html": [
       "<div>\n",
       "<style scoped>\n",
       "    .dataframe tbody tr th:only-of-type {\n",
       "        vertical-align: middle;\n",
       "    }\n",
       "\n",
       "    .dataframe tbody tr th {\n",
       "        vertical-align: top;\n",
       "    }\n",
       "\n",
       "    .dataframe thead th {\n",
       "        text-align: right;\n",
       "    }\n",
       "</style>\n",
       "<table border=\"1\" class=\"dataframe\">\n",
       "  <thead>\n",
       "    <tr style=\"text-align: right;\">\n",
       "      <th></th>\n",
       "      <th>descricao</th>\n",
       "      <th>Fraude</th>\n",
       "    </tr>\n",
       "  </thead>\n",
       "  <tbody>\n",
       "    <tr>\n",
       "      <th>0</th>\n",
       "      <td>qui abr agradecemos por escolher o pop total r...</td>\n",
       "      <td>0</td>\n",
       "    </tr>\n",
       "    <tr>\n",
       "      <th>1</th>\n",
       "      <td>sex abr agradecemos por escolher o pop total r...</td>\n",
       "      <td>0</td>\n",
       "    </tr>\n",
       "    <tr>\n",
       "      <th>2</th>\n",
       "      <td>seg abr agradecemos por escolher o pop total r...</td>\n",
       "      <td>0</td>\n",
       "    </tr>\n",
       "    <tr>\n",
       "      <th>3</th>\n",
       "      <td>qui mai agradecemos por escolher o pop total r...</td>\n",
       "      <td>0</td>\n",
       "    </tr>\n",
       "    <tr>\n",
       "      <th>4</th>\n",
       "      <td>qua mai agradecemos por escolher o pop total r...</td>\n",
       "      <td>0</td>\n",
       "    </tr>\n",
       "    <tr>\n",
       "      <th>...</th>\n",
       "      <td>...</td>\n",
       "      <td>...</td>\n",
       "    </tr>\n",
       "    <tr>\n",
       "      <th>3631</th>\n",
       "      <td>discover courses in computer science user inno...</td>\n",
       "      <td>0</td>\n",
       "    </tr>\n",
       "    <tr>\n",
       "      <th>3632</th>\n",
       "      <td>delltm para visualizar este email no seu brows...</td>\n",
       "      <td>0</td>\n",
       "    </tr>\n",
       "    <tr>\n",
       "      <th>3633</th>\n",
       "      <td>apenas esta semana ofertas incriveis em produt...</td>\n",
       "      <td>0</td>\n",
       "    </tr>\n",
       "    <tr>\n",
       "      <th>3634</th>\n",
       "      <td>netflix para kuromukuro episodios hd quando me...</td>\n",
       "      <td>0</td>\n",
       "    </tr>\n",
       "    <tr>\n",
       "      <th>3635</th>\n",
       "      <td>daa informa vivemos num mundo em que precisamo...</td>\n",
       "      <td>0</td>\n",
       "    </tr>\n",
       "  </tbody>\n",
       "</table>\n",
       "<p>3636 rows × 2 columns</p>\n",
       "</div>"
      ],
      "text/plain": [
       "                                              descricao  Fraude\n",
       "0     qui abr agradecemos por escolher o pop total r...       0\n",
       "1     sex abr agradecemos por escolher o pop total r...       0\n",
       "2     seg abr agradecemos por escolher o pop total r...       0\n",
       "3     qui mai agradecemos por escolher o pop total r...       0\n",
       "4     qua mai agradecemos por escolher o pop total r...       0\n",
       "...                                                 ...     ...\n",
       "3631  discover courses in computer science user inno...       0\n",
       "3632  delltm para visualizar este email no seu brows...       0\n",
       "3633  apenas esta semana ofertas incriveis em produt...       0\n",
       "3634  netflix para kuromukuro episodios hd quando me...       0\n",
       "3635  daa informa vivemos num mundo em que precisamo...       0\n",
       "\n",
       "[3636 rows x 2 columns]"
      ]
     },
     "execution_count": 552,
     "metadata": {},
     "output_type": "execute_result"
    }
   ],
   "source": [
    "df_legitimo['descricao'] = df_legitimo['descricao'].apply(process_text_conteudo)\n",
    "\n",
    "df_legitimo"
   ]
  },
  {
   "cell_type": "code",
   "execution_count": 553,
   "metadata": {},
   "outputs": [],
   "source": [
    "df_legitimo.to_csv('C:\\\\Users\\\\nando\\\\OneDrive\\\\Documentos\\\\Fernando\\\\Sentinel-Anti-Fraude\\\\Teste\\\\Datasets\\\\df_nao_fraude_tratada2_4354.csv', index=True)"
   ]
  },
  {
   "cell_type": "markdown",
   "metadata": {},
   "source": [
    "Unindo os DataSets"
   ]
  },
  {
   "cell_type": "code",
   "execution_count": 554,
   "metadata": {},
   "outputs": [],
   "source": [
    "data_frames = [df_fraudes, df_legitimo]"
   ]
  },
  {
   "cell_type": "code",
   "execution_count": 555,
   "metadata": {},
   "outputs": [],
   "source": [
    "data_frame = pd.concat(data_frames)"
   ]
  },
  {
   "cell_type": "code",
   "execution_count": 556,
   "metadata": {},
   "outputs": [
    {
     "data": {
      "text/plain": [
       "(7272, 2)"
      ]
     },
     "execution_count": 556,
     "metadata": {},
     "output_type": "execute_result"
    }
   ],
   "source": [
    "data_frame.shape"
   ]
  },
  {
   "cell_type": "code",
   "execution_count": 557,
   "metadata": {},
   "outputs": [
    {
     "data": {
      "text/plain": [
       "<bound method NDFrame.head of                                               descricao  Fraude\n",
       "0     \\n\\nola\\n\\nenvio minhas informacoes profission...       1\n",
       "1     \\n\\n\\nconvite exclusivo bradesco american expr...       1\n",
       "2     \\n\\n\\nha uma alteracao e atualizacao em nosso ...       1\n",
       "3     \\n\\n\\n\\nid\\nnota fiscal disponivel\\n\\nola\\n\\ns...       1\n",
       "4     \\n\\n\\natencao usuario da conta de webmail\\n\\ne...       1\n",
       "...                                                 ...     ...\n",
       "3631  discover courses in computer science user inno...       0\n",
       "3632  delltm para visualizar este email no seu brows...       0\n",
       "3633  apenas esta semana ofertas incriveis em produt...       0\n",
       "3634  netflix para kuromukuro episodios hd quando me...       0\n",
       "3635  daa informa vivemos num mundo em que precisamo...       0\n",
       "\n",
       "[7272 rows x 2 columns]>"
      ]
     },
     "execution_count": 557,
     "metadata": {},
     "output_type": "execute_result"
    }
   ],
   "source": [
    "data_frame.head"
   ]
  },
  {
   "cell_type": "markdown",
   "metadata": {},
   "source": [
    "Treinamento da IA"
   ]
  },
  {
   "cell_type": "code",
   "execution_count": 558,
   "metadata": {},
   "outputs": [
    {
     "name": "stderr",
     "output_type": "stream",
     "text": [
      "c:\\Python312\\Lib\\site-packages\\sklearn\\feature_extraction\\text.py:517: UserWarning: The parameter 'token_pattern' will not be used since 'tokenizer' is not None'\n",
      "  warnings.warn(\n"
     ]
    }
   ],
   "source": [
    "from sklearn.feature_extraction.text import TfidfVectorizer\n",
    "\n",
    "vectorizer = TfidfVectorizer(\n",
    "    preprocessor=process_text_conteudo,  # Pré-processamento antes da tokenização\n",
    "    tokenizer=tokenize_text,  # Função que retorna uma lista de tokens\n",
    "    max_df=0.85, \n",
    "    min_df=5, \n",
    "    ngram_range=(1,2), \n",
    "    sublinear_tf=True\n",
    ")\n",
    "\n",
    "vect = vectorizer.fit_transform(data_frame['descricao'].values.astype('U'))\n"
   ]
  },
  {
   "cell_type": "code",
   "execution_count": 559,
   "metadata": {},
   "outputs": [
    {
     "name": "stdout",
     "output_type": "stream",
     "text": [
      "(7272, 33501)\n"
     ]
    }
   ],
   "source": [
    "print(vect.shape)"
   ]
  },
  {
   "cell_type": "code",
   "execution_count": 560,
   "metadata": {},
   "outputs": [],
   "source": [
    "from sklearn.model_selection import train_test_split\n",
    "\n",
    "x_train, x_test, y_train, y_test = train_test_split(vect, data_frame['Fraude'], test_size = 0.20, random_state = 0)"
   ]
  },
  {
   "cell_type": "code",
   "execution_count": 561,
   "metadata": {},
   "outputs": [],
   "source": [
    "from sklearn.naive_bayes import MultinomialNB\n",
    "\n",
    "classifier = MultinomialNB().fit(x_train, y_train)"
   ]
  },
  {
   "cell_type": "code",
   "execution_count": 562,
   "metadata": {},
   "outputs": [
    {
     "name": "stdout",
     "output_type": "stream",
     "text": [
      "              precision    recall  f1-score   support\n",
      "\n",
      "           0       0.99      0.97      0.98      2895\n",
      "           1       0.97      0.99      0.98      2922\n",
      "\n",
      "    accuracy                           0.98      5817\n",
      "   macro avg       0.98      0.98      0.98      5817\n",
      "weighted avg       0.98      0.98      0.98      5817\n",
      "\n",
      "\n",
      "Confusion Matrix: \n",
      " [[2809   86]\n",
      " [  37 2885]]\n",
      "\n",
      "Accuracy:  0.9788550799381124\n"
     ]
    }
   ],
   "source": [
    "from sklearn.metrics import classification_report, confusion_matrix, accuracy_score\n",
    "\n",
    "pred = classifier.predict(x_train)\n",
    "\n",
    "print(classification_report(y_train, pred))\n",
    "print()\n",
    "print('Confusion Matrix: \\n', confusion_matrix(y_train, pred))\n",
    "print()\n",
    "print('Accuracy: ', accuracy_score(y_train, pred))"
   ]
  },
  {
   "cell_type": "code",
   "execution_count": 563,
   "metadata": {},
   "outputs": [
    {
     "name": "stdout",
     "output_type": "stream",
     "text": [
      "              precision    recall  f1-score   support\n",
      "\n",
      "           0       0.99      0.97      0.98       741\n",
      "           1       0.97      0.99      0.98       714\n",
      "\n",
      "    accuracy                           0.98      1455\n",
      "   macro avg       0.98      0.98      0.98      1455\n",
      "weighted avg       0.98      0.98      0.98      1455\n",
      "\n",
      "\n",
      "Confusion Matrix: \n",
      " [[722  19]\n",
      " [  9 705]]\n",
      "\n",
      "Accuracy:  0.9807560137457044\n"
     ]
    }
   ],
   "source": [
    "from sklearn.metrics import classification_report, confusion_matrix, accuracy_score\n",
    "pred = classifier.predict(x_test)\n",
    "print(classification_report(y_test, pred))\n",
    "print()\n",
    "print('Confusion Matrix: \\n',confusion_matrix(y_test, pred))\n",
    "print()\n",
    "print('Accuracy: ', accuracy_score(y_test, pred))"
   ]
  },
  {
   "cell_type": "code",
   "execution_count": 564,
   "metadata": {},
   "outputs": [],
   "source": [
    "import pickle\n",
    "filenameModelo = 'modelo.pk1'\n",
    "pickle.dump(classifier, open(filenameModelo, 'wb'))"
   ]
  },
  {
   "cell_type": "code",
   "execution_count": 565,
   "metadata": {},
   "outputs": [],
   "source": [
    "pickle.dump(vectorizer, open(\"tfidf_vectorizer.pk1\", \"wb\"))"
   ]
  },
  {
   "cell_type": "markdown",
   "metadata": {},
   "source": [
    "Teste de aplicação"
   ]
  },
  {
   "cell_type": "code",
   "execution_count": 566,
   "metadata": {},
   "outputs": [],
   "source": [
    "import os\n",
    "import pickle\n",
    "import numpy as np\n",
    "import pandas as pd\n",
    "import sklearn.feature_extraction\n",
    "     "
   ]
  },
  {
   "cell_type": "code",
   "execution_count": 567,
   "metadata": {},
   "outputs": [],
   "source": [
    "modelo = pickle.load(open('C:\\\\Users\\\\nando\\\\OneDrive\\\\Documentos\\\\Fernando\\\\Sentinel-Anti-Fraude\\\\Teste\\\\IA\\\\modelo.pk1','rb'))"
   ]
  },
  {
   "cell_type": "code",
   "execution_count": 583,
   "metadata": {},
   "outputs": [],
   "source": [
    "# Exemplo de Email\n",
    "# O primeio exemplo é um e-mail normal\n",
    "dados = {\"descricao\":\"Olá, pessoal, pronto para um novo desafio DEV? Hoje sai o terceiro vídeo da semana devepoler. Lembrando que esta é uma aula para todos os níveis de conhecimento. Ou seja, se você está no nível básico, intermediário ou avançado, a aula será bem produtiva e você aprenderá muito sobre vários temas. Como Nodejs, MongoDB, VueJS e muito mais: esta aula ficará no ar somente durante 7 dias, então recomendo assistir agora mesmo, pois se você deixar para depois, ela poderá não estar mais disponível!  Equipe xyz\"}\n",
    "# Exemplo de email FRAUDE\n",
    "#dados = {\"descricao\":\"Netflix Atualize seus dados de pagamento! Olá  Ocorreu um problema com seu meio de pagamento atual. Tentaremos efetuar uma cobrança novamente mas recomendamos que você atualize essas informações. ATUALIZAR PAGAMENTO Lembrando que sua conta estará suspensa caso o débito não seja realizado. Informações da sua conta: Email  Provedor do serviço Netflix Entretenimento Brasil, Ltda. Plano Básico Preço do plano R$21,90/mês Estamos sempre prontos para ajudar. Acesse o Centro de ajuda para saber mais ou fale com a gente. Seus amigos da Netflix VEJA TODAS AS SÉRIES E FILMES> Ao assinar a Netflix, você concorda com nossos Termos de uso e com a Declaração de privacidade Dúvidas? Ligue 0800-887-0201 Estamos enviando este email porque você é assinante Netflix. Para alterar suas preferências de email a qualquer momento, acesse a página Configurações de comunicação da sua conta. Não responda a este email, pois a caixa deste endereço de email não é monitorada. Para obter ajuda ou entrar em contato, acesse o Centro de ajuda em help.netflix.com. Esta mensagem foi enviada para [ erik1605@hotmail.com  ] pela Netflix. SRC: 12500_pt-BR_BR A utilização do serviços e do site da Netflix está sujeita aos Termos de privacidade. Netflix Entretenimento Brasil, Ltda.\"}\n",
    "#dados = {\"descricao\" : \"Sua conta de e-mail foi infectada com um vírus de Trojan: para excluir o vírus e também proteger sua conta, Clique Aqui para atualizar o Administrador do Sistema.\"}\n",
    "#dados = {\"descricao\" : \"Esse email é legitimo.\"}"
   ]
  },
  {
   "cell_type": "code",
   "execution_count": 584,
   "metadata": {},
   "outputs": [],
   "source": [
    "text_processado = process_text_conteudo(dados[\"descricao\"])"
   ]
  },
  {
   "cell_type": "code",
   "execution_count": 585,
   "metadata": {},
   "outputs": [],
   "source": [
    "dados_transformados = vectorizer.transform([text_processado])"
   ]
  },
  {
   "cell_type": "code",
   "execution_count": 586,
   "metadata": {},
   "outputs": [],
   "source": [
    "predicao = modelo.predict(dados_transformados)"
   ]
  },
  {
   "cell_type": "code",
   "execution_count": 587,
   "metadata": {},
   "outputs": [
    {
     "name": "stdout",
     "output_type": "stream",
     "text": [
      "OK\n"
     ]
    }
   ],
   "source": [
    "print(\"FRAUDE\" if predicao[0] == 1 else \"OK\")\n"
   ]
  }
 ],
 "metadata": {
  "kernelspec": {
   "display_name": "Python 3",
   "language": "python",
   "name": "python3"
  },
  "language_info": {
   "codemirror_mode": {
    "name": "ipython",
    "version": 3
   },
   "file_extension": ".py",
   "mimetype": "text/x-python",
   "name": "python",
   "nbconvert_exporter": "python",
   "pygments_lexer": "ipython3",
   "version": "3.12.6"
  }
 },
 "nbformat": 4,
 "nbformat_minor": 2
}
