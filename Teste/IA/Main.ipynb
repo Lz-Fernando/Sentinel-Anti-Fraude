{
 "cells": [
  {
   "cell_type": "markdown",
   "metadata": {},
   "source": [
    "1. Bibliotecas e Leitura de Dados"
   ]
  },
  {
   "cell_type": "code",
   "execution_count": 1,
   "metadata": {},
   "outputs": [],
   "source": [
    "import numpy as np\n",
    "import pandas as pd\n",
    "import nltk\n",
    "import string"
   ]
  },
  {
   "cell_type": "markdown",
   "metadata": {},
   "source": [
    "1.1. Leitura do dataset de mensagens fraudulentas"
   ]
  },
  {
   "cell_type": "code",
   "execution_count": 2,
   "metadata": {},
   "outputs": [
    {
     "data": {
      "text/html": [
       "<div>\n",
       "<style scoped>\n",
       "    .dataframe tbody tr th:only-of-type {\n",
       "        vertical-align: middle;\n",
       "    }\n",
       "\n",
       "    .dataframe tbody tr th {\n",
       "        vertical-align: top;\n",
       "    }\n",
       "\n",
       "    .dataframe thead th {\n",
       "        text-align: right;\n",
       "    }\n",
       "</style>\n",
       "<table border=\"1\" class=\"dataframe\">\n",
       "  <thead>\n",
       "    <tr style=\"text-align: right;\">\n",
       "      <th></th>\n",
       "      <th>titulo</th>\n",
       "      <th>assunto</th>\n",
       "      <th>descricao</th>\n",
       "      <th>url</th>\n",
       "    </tr>\n",
       "  </thead>\n",
       "  <tbody>\n",
       "    <tr>\n",
       "      <th>0</th>\n",
       "      <td>FRAUDE - Perfil Profissional</td>\n",
       "      <td>Assunto da mensagem: Perfil Profissional Compl...</td>\n",
       "      <td>\\n\\nOlá,\\n\\nEnvio minhas informações profissio...</td>\n",
       "      <td>https://catalogodefraudes.rnp.br/frauds/16581</td>\n",
       "    </tr>\n",
       "    <tr>\n",
       "      <th>1</th>\n",
       "      <td>FRAUDE - Phishing de Cartão de Crédito</td>\n",
       "      <td>Assunto da mensagem: Convite Especial: Bradesc...</td>\n",
       "      <td>\\n\\n\\nConvite Exclusivo: Bradesco American Exp...</td>\n",
       "      <td>https://catalogodefraudes.rnp.br/frauds/16575</td>\n",
       "    </tr>\n",
       "    <tr>\n",
       "      <th>2</th>\n",
       "      <td>FRAUDE - Phishing por Atualização de Email</td>\n",
       "      <td>Assunto da mensagem: Re: NF-e: &lt;ID&gt;</td>\n",
       "      <td>\\n\\n\\nHá uma alteração e atualização em nosso ...</td>\n",
       "      <td>https://catalogodefraudes.rnp.br/frauds/16576</td>\n",
       "    </tr>\n",
       "    <tr>\n",
       "      <th>3</th>\n",
       "      <td>FRAUDE - Nota Fiscal Eletrônica</td>\n",
       "      <td>Assunto da mensagem: Seu pedido foi realizado ...</td>\n",
       "      <td>\\n\\n\\n\\n&lt;ID&gt;\\nNota Fiscal Disponível\\n\\nOlá,\\n...</td>\n",
       "      <td>https://catalogodefraudes.rnp.br/frauds/16580</td>\n",
       "    </tr>\n",
       "    <tr>\n",
       "      <th>4</th>\n",
       "      <td>FRAUDE - Atualização de E-mail</td>\n",
       "      <td>Assunto da mensagem: Notificação de cobrança /...</td>\n",
       "      <td>\\n\\n\\nHá uma alteração e atualização em nosso ...</td>\n",
       "      <td>https://catalogodefraudes.rnp.br/frauds/16574</td>\n",
       "    </tr>\n",
       "  </tbody>\n",
       "</table>\n",
       "</div>"
      ],
      "text/plain": [
       "                                       titulo  \\\n",
       "0                FRAUDE - Perfil Profissional   \n",
       "1      FRAUDE - Phishing de Cartão de Crédito   \n",
       "2  FRAUDE - Phishing por Atualização de Email   \n",
       "3             FRAUDE - Nota Fiscal Eletrônica   \n",
       "4              FRAUDE - Atualização de E-mail   \n",
       "\n",
       "                                             assunto  \\\n",
       "0  Assunto da mensagem: Perfil Profissional Compl...   \n",
       "1  Assunto da mensagem: Convite Especial: Bradesc...   \n",
       "2                Assunto da mensagem: Re: NF-e: <ID>   \n",
       "3  Assunto da mensagem: Seu pedido foi realizado ...   \n",
       "4  Assunto da mensagem: Notificação de cobrança /...   \n",
       "\n",
       "                                           descricao  \\\n",
       "0  \\n\\nOlá,\\n\\nEnvio minhas informações profissio...   \n",
       "1  \\n\\n\\nConvite Exclusivo: Bradesco American Exp...   \n",
       "2  \\n\\n\\nHá uma alteração e atualização em nosso ...   \n",
       "3  \\n\\n\\n\\n<ID>\\nNota Fiscal Disponível\\n\\nOlá,\\n...   \n",
       "4  \\n\\n\\nHá uma alteração e atualização em nosso ...   \n",
       "\n",
       "                                             url  \n",
       "0  https://catalogodefraudes.rnp.br/frauds/16581  \n",
       "1  https://catalogodefraudes.rnp.br/frauds/16575  \n",
       "2  https://catalogodefraudes.rnp.br/frauds/16576  \n",
       "3  https://catalogodefraudes.rnp.br/frauds/16580  \n",
       "4  https://catalogodefraudes.rnp.br/frauds/16574  "
      ]
     },
     "execution_count": 2,
     "metadata": {},
     "output_type": "execute_result"
    }
   ],
   "source": [
    "# Lê o dataset com mensagens classificadas como fraudulentas\n",
    "dataset_pd = pd.read_csv(\"..\\\\Datasets\\\\fraudes.csv\", encoding='utf-8')\n",
    "df_fraudes = pd.DataFrame(dataset_pd)\n",
    "df_fraudes.head()"
   ]
  },
  {
   "cell_type": "code",
   "execution_count": 3,
   "metadata": {},
   "outputs": [
    {
     "data": {
      "text/html": [
       "<div>\n",
       "<style scoped>\n",
       "    .dataframe tbody tr th:only-of-type {\n",
       "        vertical-align: middle;\n",
       "    }\n",
       "\n",
       "    .dataframe tbody tr th {\n",
       "        vertical-align: top;\n",
       "    }\n",
       "\n",
       "    .dataframe thead th {\n",
       "        text-align: right;\n",
       "    }\n",
       "</style>\n",
       "<table border=\"1\" class=\"dataframe\">\n",
       "  <thead>\n",
       "    <tr style=\"text-align: right;\">\n",
       "      <th></th>\n",
       "      <th>titulo</th>\n",
       "      <th>assunto</th>\n",
       "      <th>descricao</th>\n",
       "      <th>url</th>\n",
       "      <th>Fraude</th>\n",
       "    </tr>\n",
       "  </thead>\n",
       "  <tbody>\n",
       "    <tr>\n",
       "      <th>0</th>\n",
       "      <td>FRAUDE - Perfil Profissional</td>\n",
       "      <td>Assunto da mensagem: Perfil Profissional Compl...</td>\n",
       "      <td>\\n\\nOlá,\\n\\nEnvio minhas informações profissio...</td>\n",
       "      <td>https://catalogodefraudes.rnp.br/frauds/16581</td>\n",
       "      <td>1</td>\n",
       "    </tr>\n",
       "    <tr>\n",
       "      <th>1</th>\n",
       "      <td>FRAUDE - Phishing de Cartão de Crédito</td>\n",
       "      <td>Assunto da mensagem: Convite Especial: Bradesc...</td>\n",
       "      <td>\\n\\n\\nConvite Exclusivo: Bradesco American Exp...</td>\n",
       "      <td>https://catalogodefraudes.rnp.br/frauds/16575</td>\n",
       "      <td>1</td>\n",
       "    </tr>\n",
       "    <tr>\n",
       "      <th>2</th>\n",
       "      <td>FRAUDE - Phishing por Atualização de Email</td>\n",
       "      <td>Assunto da mensagem: Re: NF-e: &lt;ID&gt;</td>\n",
       "      <td>\\n\\n\\nHá uma alteração e atualização em nosso ...</td>\n",
       "      <td>https://catalogodefraudes.rnp.br/frauds/16576</td>\n",
       "      <td>1</td>\n",
       "    </tr>\n",
       "    <tr>\n",
       "      <th>3</th>\n",
       "      <td>FRAUDE - Nota Fiscal Eletrônica</td>\n",
       "      <td>Assunto da mensagem: Seu pedido foi realizado ...</td>\n",
       "      <td>\\n\\n\\n\\n&lt;ID&gt;\\nNota Fiscal Disponível\\n\\nOlá,\\n...</td>\n",
       "      <td>https://catalogodefraudes.rnp.br/frauds/16580</td>\n",
       "      <td>1</td>\n",
       "    </tr>\n",
       "    <tr>\n",
       "      <th>4</th>\n",
       "      <td>FRAUDE - Atualização de E-mail</td>\n",
       "      <td>Assunto da mensagem: Notificação de cobrança /...</td>\n",
       "      <td>\\n\\n\\nHá uma alteração e atualização em nosso ...</td>\n",
       "      <td>https://catalogodefraudes.rnp.br/frauds/16574</td>\n",
       "      <td>1</td>\n",
       "    </tr>\n",
       "  </tbody>\n",
       "</table>\n",
       "</div>"
      ],
      "text/plain": [
       "                                       titulo  \\\n",
       "0                FRAUDE - Perfil Profissional   \n",
       "1      FRAUDE - Phishing de Cartão de Crédito   \n",
       "2  FRAUDE - Phishing por Atualização de Email   \n",
       "3             FRAUDE - Nota Fiscal Eletrônica   \n",
       "4              FRAUDE - Atualização de E-mail   \n",
       "\n",
       "                                             assunto  \\\n",
       "0  Assunto da mensagem: Perfil Profissional Compl...   \n",
       "1  Assunto da mensagem: Convite Especial: Bradesc...   \n",
       "2                Assunto da mensagem: Re: NF-e: <ID>   \n",
       "3  Assunto da mensagem: Seu pedido foi realizado ...   \n",
       "4  Assunto da mensagem: Notificação de cobrança /...   \n",
       "\n",
       "                                           descricao  \\\n",
       "0  \\n\\nOlá,\\n\\nEnvio minhas informações profissio...   \n",
       "1  \\n\\n\\nConvite Exclusivo: Bradesco American Exp...   \n",
       "2  \\n\\n\\nHá uma alteração e atualização em nosso ...   \n",
       "3  \\n\\n\\n\\n<ID>\\nNota Fiscal Disponível\\n\\nOlá,\\n...   \n",
       "4  \\n\\n\\nHá uma alteração e atualização em nosso ...   \n",
       "\n",
       "                                             url  Fraude  \n",
       "0  https://catalogodefraudes.rnp.br/frauds/16581       1  \n",
       "1  https://catalogodefraudes.rnp.br/frauds/16575       1  \n",
       "2  https://catalogodefraudes.rnp.br/frauds/16576       1  \n",
       "3  https://catalogodefraudes.rnp.br/frauds/16580       1  \n",
       "4  https://catalogodefraudes.rnp.br/frauds/16574       1  "
      ]
     },
     "execution_count": 3,
     "metadata": {},
     "output_type": "execute_result"
    }
   ],
   "source": [
    "# Adiciona a coluna \"Fraude\" com valor 1 (indicando que é fraude)\n",
    "df_fraudes['Fraude'] = 1\n",
    "df_fraudes.head()"
   ]
  },
  {
   "cell_type": "code",
   "execution_count": 4,
   "metadata": {},
   "outputs": [
    {
     "data": {
      "text/html": [
       "<div>\n",
       "<style scoped>\n",
       "    .dataframe tbody tr th:only-of-type {\n",
       "        vertical-align: middle;\n",
       "    }\n",
       "\n",
       "    .dataframe tbody tr th {\n",
       "        vertical-align: top;\n",
       "    }\n",
       "\n",
       "    .dataframe thead th {\n",
       "        text-align: right;\n",
       "    }\n",
       "</style>\n",
       "<table border=\"1\" class=\"dataframe\">\n",
       "  <thead>\n",
       "    <tr style=\"text-align: right;\">\n",
       "      <th></th>\n",
       "      <th>descricao</th>\n",
       "      <th>Fraude</th>\n",
       "    </tr>\n",
       "  </thead>\n",
       "  <tbody>\n",
       "    <tr>\n",
       "      <th>0</th>\n",
       "      <td>\\n\\nOlá,\\n\\nEnvio minhas informações profissio...</td>\n",
       "      <td>1</td>\n",
       "    </tr>\n",
       "    <tr>\n",
       "      <th>1</th>\n",
       "      <td>\\n\\n\\nConvite Exclusivo: Bradesco American Exp...</td>\n",
       "      <td>1</td>\n",
       "    </tr>\n",
       "    <tr>\n",
       "      <th>2</th>\n",
       "      <td>\\n\\n\\nHá uma alteração e atualização em nosso ...</td>\n",
       "      <td>1</td>\n",
       "    </tr>\n",
       "    <tr>\n",
       "      <th>3</th>\n",
       "      <td>\\n\\n\\n\\n&lt;ID&gt;\\nNota Fiscal Disponível\\n\\nOlá,\\n...</td>\n",
       "      <td>1</td>\n",
       "    </tr>\n",
       "    <tr>\n",
       "      <th>4</th>\n",
       "      <td>\\n\\n\\nHá uma alteração e atualização em nosso ...</td>\n",
       "      <td>1</td>\n",
       "    </tr>\n",
       "  </tbody>\n",
       "</table>\n",
       "</div>"
      ],
      "text/plain": [
       "                                           descricao  Fraude\n",
       "0  \\n\\nOlá,\\n\\nEnvio minhas informações profissio...       1\n",
       "1  \\n\\n\\nConvite Exclusivo: Bradesco American Exp...       1\n",
       "2  \\n\\n\\nHá uma alteração e atualização em nosso ...       1\n",
       "3  \\n\\n\\n\\n<ID>\\nNota Fiscal Disponível\\n\\nOlá,\\n...       1\n",
       "4  \\n\\n\\nHá uma alteração e atualização em nosso ...       1"
      ]
     },
     "execution_count": 4,
     "metadata": {},
     "output_type": "execute_result"
    }
   ],
   "source": [
    "# Remove colunas irrelevantes\n",
    "df_fraudes.drop(['titulo', 'assunto', 'url'], axis=1, inplace=True)\n",
    "df_fraudes.head()"
   ]
  },
  {
   "cell_type": "code",
   "execution_count": 5,
   "metadata": {},
   "outputs": [
    {
     "name": "stdout",
     "output_type": "stream",
     "text": [
      "(13893, 2)\n"
     ]
    },
    {
     "data": {
      "text/html": [
       "<div>\n",
       "<style scoped>\n",
       "    .dataframe tbody tr th:only-of-type {\n",
       "        vertical-align: middle;\n",
       "    }\n",
       "\n",
       "    .dataframe tbody tr th {\n",
       "        vertical-align: top;\n",
       "    }\n",
       "\n",
       "    .dataframe thead th {\n",
       "        text-align: right;\n",
       "    }\n",
       "</style>\n",
       "<table border=\"1\" class=\"dataframe\">\n",
       "  <thead>\n",
       "    <tr style=\"text-align: right;\">\n",
       "      <th></th>\n",
       "      <th>descricao</th>\n",
       "      <th>Fraude</th>\n",
       "    </tr>\n",
       "  </thead>\n",
       "  <tbody>\n",
       "    <tr>\n",
       "      <th>0</th>\n",
       "      <td>\\n\\nOlá,\\n\\nEnvio minhas informações profissio...</td>\n",
       "      <td>1</td>\n",
       "    </tr>\n",
       "    <tr>\n",
       "      <th>1</th>\n",
       "      <td>\\n\\n\\nConvite Exclusivo: Bradesco American Exp...</td>\n",
       "      <td>1</td>\n",
       "    </tr>\n",
       "    <tr>\n",
       "      <th>2</th>\n",
       "      <td>\\n\\n\\nHá uma alteração e atualização em nosso ...</td>\n",
       "      <td>1</td>\n",
       "    </tr>\n",
       "    <tr>\n",
       "      <th>3</th>\n",
       "      <td>\\n\\n\\n\\n&lt;ID&gt;\\nNota Fiscal Disponível\\n\\nOlá,\\n...</td>\n",
       "      <td>1</td>\n",
       "    </tr>\n",
       "    <tr>\n",
       "      <th>4</th>\n",
       "      <td>\\n\\n\\nAtenção usuário da conta de webmail,\\n\\n...</td>\n",
       "      <td>1</td>\n",
       "    </tr>\n",
       "  </tbody>\n",
       "</table>\n",
       "</div>"
      ],
      "text/plain": [
       "                                           descricao  Fraude\n",
       "0  \\n\\nOlá,\\n\\nEnvio minhas informações profissio...       1\n",
       "1  \\n\\n\\nConvite Exclusivo: Bradesco American Exp...       1\n",
       "2  \\n\\n\\nHá uma alteração e atualização em nosso ...       1\n",
       "3  \\n\\n\\n\\n<ID>\\nNota Fiscal Disponível\\n\\nOlá,\\n...       1\n",
       "4  \\n\\n\\nAtenção usuário da conta de webmail,\\n\\n...       1"
      ]
     },
     "execution_count": 5,
     "metadata": {},
     "output_type": "execute_result"
    }
   ],
   "source": [
    "# Remove duplicatas e valores nulos\n",
    "df_fraudes.drop_duplicates(inplace=True)\n",
    "df_fraudes = df_fraudes.dropna().reset_index(drop=True)\n",
    "\n",
    "print(df_fraudes.shape)\n",
    "df_fraudes.head()"
   ]
  },
  {
   "cell_type": "code",
   "execution_count": 6,
   "metadata": {},
   "outputs": [
    {
     "data": {
      "text/plain": [
       "(3636, 2)"
      ]
     },
     "execution_count": 6,
     "metadata": {},
     "output_type": "execute_result"
    }
   ],
   "source": [
    "# Reduz o tamanho do dataset para evitar desbalanceamento ou sobrecarga\n",
    "df_fraudes = df_fraudes[:3636]\n",
    "df_fraudes.shape"
   ]
  },
  {
   "cell_type": "markdown",
   "metadata": {},
   "source": [
    "1.2. Leitura do dataset de mensagens legítimas"
   ]
  },
  {
   "cell_type": "code",
   "execution_count": 7,
   "metadata": {},
   "outputs": [
    {
     "data": {
      "text/html": [
       "<div>\n",
       "<style scoped>\n",
       "    .dataframe tbody tr th:only-of-type {\n",
       "        vertical-align: middle;\n",
       "    }\n",
       "\n",
       "    .dataframe tbody tr th {\n",
       "        vertical-align: top;\n",
       "    }\n",
       "\n",
       "    .dataframe thead th {\n",
       "        text-align: right;\n",
       "    }\n",
       "</style>\n",
       "<table border=\"1\" class=\"dataframe\">\n",
       "  <thead>\n",
       "    <tr style=\"text-align: right;\">\n",
       "      <th></th>\n",
       "      <th>Unnamed: 0</th>\n",
       "      <th>descricao</th>\n",
       "      <th>Fraude</th>\n",
       "    </tr>\n",
       "  </thead>\n",
       "  <tbody>\n",
       "    <tr>\n",
       "      <th>0</th>\n",
       "      <td>0</td>\n",
       "      <td>qui abr agradecemos por escolher o pop total r...</td>\n",
       "      <td>0</td>\n",
       "    </tr>\n",
       "    <tr>\n",
       "      <th>1</th>\n",
       "      <td>1</td>\n",
       "      <td>sex abr agradecemos por escolher o pop total r...</td>\n",
       "      <td>0</td>\n",
       "    </tr>\n",
       "    <tr>\n",
       "      <th>2</th>\n",
       "      <td>2</td>\n",
       "      <td>seg abr agradecemos por escolher o pop total r...</td>\n",
       "      <td>0</td>\n",
       "    </tr>\n",
       "    <tr>\n",
       "      <th>3</th>\n",
       "      <td>3</td>\n",
       "      <td>qui mai agradecemos por escolher o pop total r...</td>\n",
       "      <td>0</td>\n",
       "    </tr>\n",
       "    <tr>\n",
       "      <th>4</th>\n",
       "      <td>4</td>\n",
       "      <td>qua mai agradecemos por escolher o pop total r...</td>\n",
       "      <td>0</td>\n",
       "    </tr>\n",
       "  </tbody>\n",
       "</table>\n",
       "</div>"
      ],
      "text/plain": [
       "   Unnamed: 0                                          descricao  Fraude\n",
       "0           0  qui abr agradecemos por escolher o pop total r...       0\n",
       "1           1  sex abr agradecemos por escolher o pop total r...       0\n",
       "2           2  seg abr agradecemos por escolher o pop total r...       0\n",
       "3           3  qui mai agradecemos por escolher o pop total r...       0\n",
       "4           4  qua mai agradecemos por escolher o pop total r...       0"
      ]
     },
     "execution_count": 7,
     "metadata": {},
     "output_type": "execute_result"
    }
   ],
   "source": [
    "#Leitura do arquivo csv de mensagens não fraudulentas\n",
    "dataset_pd2 = pd.read_csv(\"..\\\\Datasets\\\\df_nao_fraude_tratada2_4354.csv\", encoding='utf-8')\n",
    "dataset_pd2.head()\n"
   ]
  },
  {
   "cell_type": "code",
   "execution_count": 8,
   "metadata": {},
   "outputs": [
    {
     "data": {
      "text/html": [
       "<div>\n",
       "<style scoped>\n",
       "    .dataframe tbody tr th:only-of-type {\n",
       "        vertical-align: middle;\n",
       "    }\n",
       "\n",
       "    .dataframe tbody tr th {\n",
       "        vertical-align: top;\n",
       "    }\n",
       "\n",
       "    .dataframe thead th {\n",
       "        text-align: right;\n",
       "    }\n",
       "</style>\n",
       "<table border=\"1\" class=\"dataframe\">\n",
       "  <thead>\n",
       "    <tr style=\"text-align: right;\">\n",
       "      <th></th>\n",
       "      <th>descricao</th>\n",
       "      <th>Fraude</th>\n",
       "    </tr>\n",
       "  </thead>\n",
       "  <tbody>\n",
       "    <tr>\n",
       "      <th>0</th>\n",
       "      <td>qui abr agradecemos por escolher o pop total r...</td>\n",
       "      <td>0</td>\n",
       "    </tr>\n",
       "    <tr>\n",
       "      <th>1</th>\n",
       "      <td>sex abr agradecemos por escolher o pop total r...</td>\n",
       "      <td>0</td>\n",
       "    </tr>\n",
       "    <tr>\n",
       "      <th>2</th>\n",
       "      <td>seg abr agradecemos por escolher o pop total r...</td>\n",
       "      <td>0</td>\n",
       "    </tr>\n",
       "    <tr>\n",
       "      <th>3</th>\n",
       "      <td>qui mai agradecemos por escolher o pop total r...</td>\n",
       "      <td>0</td>\n",
       "    </tr>\n",
       "    <tr>\n",
       "      <th>4</th>\n",
       "      <td>qua mai agradecemos por escolher o pop total r...</td>\n",
       "      <td>0</td>\n",
       "    </tr>\n",
       "  </tbody>\n",
       "</table>\n",
       "</div>"
      ],
      "text/plain": [
       "                                           descricao  Fraude\n",
       "0  qui abr agradecemos por escolher o pop total r...       0\n",
       "1  sex abr agradecemos por escolher o pop total r...       0\n",
       "2  seg abr agradecemos por escolher o pop total r...       0\n",
       "3  qui mai agradecemos por escolher o pop total r...       0\n",
       "4  qua mai agradecemos por escolher o pop total r...       0"
      ]
     },
     "execution_count": 8,
     "metadata": {},
     "output_type": "execute_result"
    }
   ],
   "source": [
    "# Remove colunas irrelevantes\n",
    "df_legitimo = dataset_pd2.drop(\"Unnamed: 0\", axis = 1)\n",
    "df_legitimo.head()"
   ]
  },
  {
   "cell_type": "code",
   "execution_count": 9,
   "metadata": {},
   "outputs": [
    {
     "name": "stdout",
     "output_type": "stream",
     "text": [
      "(3636, 2)\n"
     ]
    },
    {
     "data": {
      "text/html": [
       "<div>\n",
       "<style scoped>\n",
       "    .dataframe tbody tr th:only-of-type {\n",
       "        vertical-align: middle;\n",
       "    }\n",
       "\n",
       "    .dataframe tbody tr th {\n",
       "        vertical-align: top;\n",
       "    }\n",
       "\n",
       "    .dataframe thead th {\n",
       "        text-align: right;\n",
       "    }\n",
       "</style>\n",
       "<table border=\"1\" class=\"dataframe\">\n",
       "  <thead>\n",
       "    <tr style=\"text-align: right;\">\n",
       "      <th></th>\n",
       "      <th>descricao</th>\n",
       "      <th>Fraude</th>\n",
       "    </tr>\n",
       "  </thead>\n",
       "  <tbody>\n",
       "    <tr>\n",
       "      <th>0</th>\n",
       "      <td>qui abr agradecemos por escolher o pop total r...</td>\n",
       "      <td>0</td>\n",
       "    </tr>\n",
       "    <tr>\n",
       "      <th>1</th>\n",
       "      <td>sex abr agradecemos por escolher o pop total r...</td>\n",
       "      <td>0</td>\n",
       "    </tr>\n",
       "    <tr>\n",
       "      <th>2</th>\n",
       "      <td>seg abr agradecemos por escolher o pop total r...</td>\n",
       "      <td>0</td>\n",
       "    </tr>\n",
       "    <tr>\n",
       "      <th>3</th>\n",
       "      <td>qui mai agradecemos por escolher o pop total r...</td>\n",
       "      <td>0</td>\n",
       "    </tr>\n",
       "    <tr>\n",
       "      <th>4</th>\n",
       "      <td>qua mai agradecemos por escolher o pop total r...</td>\n",
       "      <td>0</td>\n",
       "    </tr>\n",
       "  </tbody>\n",
       "</table>\n",
       "</div>"
      ],
      "text/plain": [
       "                                           descricao  Fraude\n",
       "0  qui abr agradecemos por escolher o pop total r...       0\n",
       "1  sex abr agradecemos por escolher o pop total r...       0\n",
       "2  seg abr agradecemos por escolher o pop total r...       0\n",
       "3  qui mai agradecemos por escolher o pop total r...       0\n",
       "4  qua mai agradecemos por escolher o pop total r...       0"
      ]
     },
     "execution_count": 9,
     "metadata": {},
     "output_type": "execute_result"
    }
   ],
   "source": [
    "# Remove duplicatas e valores nulos\n",
    "df_legitimo.drop_duplicates(inplace=True)\n",
    "df_legitimo = df_legitimo.dropna().reset_index(drop=True)\n",
    "\n",
    "print(df_legitimo.shape)\n",
    "df_legitimo.head()"
   ]
  },
  {
   "cell_type": "markdown",
   "metadata": {},
   "source": [
    "2. Pré-processamento de texto com NLTK"
   ]
  },
  {
   "cell_type": "code",
   "execution_count": 10,
   "metadata": {},
   "outputs": [
    {
     "name": "stderr",
     "output_type": "stream",
     "text": [
      "[nltk_data] Downloading package stopwords to\n",
      "[nltk_data]     C:\\Users\\nando\\AppData\\Roaming\\nltk_data...\n",
      "[nltk_data]   Package stopwords is already up-to-date!\n"
     ]
    }
   ],
   "source": [
    "#baixando e carregando uma lista de stopwords (palavras irrelevantes) em português da biblioteca NLTK (Natural Language Toolkit)\n",
    "nltk.download('stopwords')\n",
    "stopwords = nltk.corpus.stopwords.words('portuguese')"
   ]
  },
  {
   "cell_type": "code",
   "execution_count": 11,
   "metadata": {},
   "outputs": [],
   "source": [
    "# Função para remover pontuações, acentos e transformar para minúsculas\n",
    "def process_text_conteudo(conteudo):\n",
    "  import unicodedata\n",
    "  \n",
    "  # Remove pontuação\n",
    "  nopont = [char for char in conteudo if char not in string.punctuation]\n",
    "\n",
    "  # Converte para minúsculas\n",
    "  nopont = ''.join(nopont).lower()\n",
    "  \n",
    "  # Remove acentos\n",
    "  nopont = unicodedata.normalize('NFKD', nopont).encode('ASCII', 'ignore').decode('ASCII')\n",
    "\n",
    "  return nopont\n"
   ]
  },
  {
   "cell_type": "code",
   "execution_count": 12,
   "metadata": {},
   "outputs": [],
   "source": [
    "# Função de tokenização (opcional para vetorizador)\n",
    "def tokenize_text(conteudo):\n",
    "    return conteudo.split()"
   ]
  },
  {
   "cell_type": "code",
   "execution_count": 13,
   "metadata": {},
   "outputs": [
    {
     "name": "stdout",
     "output_type": "stream",
     "text": [
      "                                           descricao  Fraude\n",
      "0  \\n\\nola\\n\\nenvio minhas informacoes profission...       1\n",
      "1  \\n\\n\\nconvite exclusivo bradesco american expr...       1\n",
      "2  \\n\\n\\nha uma alteracao e atualizacao em nosso ...       1\n",
      "3  \\n\\n\\n\\nid\\nnota fiscal disponivel\\n\\nola\\n\\ns...       1\n",
      "4  \\n\\n\\natencao usuario da conta de webmail\\n\\ne...       1\n",
      "                                           descricao  Fraude\n",
      "0  qui abr agradecemos por escolher o pop total r...       0\n",
      "1  sex abr agradecemos por escolher o pop total r...       0\n",
      "2  seg abr agradecemos por escolher o pop total r...       0\n",
      "3  qui mai agradecemos por escolher o pop total r...       0\n",
      "4  qua mai agradecemos por escolher o pop total r...       0\n"
     ]
    }
   ],
   "source": [
    "# Aplica o pré-processamento às mensagens\n",
    "df_fraudes['descricao'] = df_fraudes['descricao'].apply(process_text_conteudo)\n",
    "\n",
    "df_legitimo['descricao'] = df_legitimo['descricao'].apply(process_text_conteudo)\n",
    "\n",
    "print(df_fraudes.head())\n",
    "print(df_legitimo.head())"
   ]
  },
  {
   "cell_type": "markdown",
   "metadata": {},
   "source": [
    "3. Salvando os datasets processados"
   ]
  },
  {
   "cell_type": "code",
   "execution_count": 14,
   "metadata": {},
   "outputs": [],
   "source": [
    "df_fraudes.to_csv('..\\\\Datasets\\\\df_fraudes_tratada.csv', index=True)\n",
    "df_legitimo.to_csv('..\\\\Datasets\\\\df_legitimo_tratado.csv', index=True)"
   ]
  },
  {
   "cell_type": "markdown",
   "metadata": {},
   "source": [
    "4. Unificação dos datasets"
   ]
  },
  {
   "cell_type": "code",
   "execution_count": 15,
   "metadata": {},
   "outputs": [
    {
     "name": "stdout",
     "output_type": "stream",
     "text": [
      "(7272, 2)\n"
     ]
    },
    {
     "data": {
      "text/plain": [
       "<bound method NDFrame.head of                                               descricao  Fraude\n",
       "0     \\n\\nola\\n\\nenvio minhas informacoes profission...       1\n",
       "1     \\n\\n\\nconvite exclusivo bradesco american expr...       1\n",
       "2     \\n\\n\\nha uma alteracao e atualizacao em nosso ...       1\n",
       "3     \\n\\n\\n\\nid\\nnota fiscal disponivel\\n\\nola\\n\\ns...       1\n",
       "4     \\n\\n\\natencao usuario da conta de webmail\\n\\ne...       1\n",
       "...                                                 ...     ...\n",
       "3631  discover courses in computer science user inno...       0\n",
       "3632  delltm para visualizar este email no seu brows...       0\n",
       "3633  apenas esta semana ofertas incriveis em produt...       0\n",
       "3634  netflix para kuromukuro episodios hd quando me...       0\n",
       "3635  daa informa vivemos num mundo em que precisamo...       0\n",
       "\n",
       "[7272 rows x 2 columns]>"
      ]
     },
     "execution_count": 15,
     "metadata": {},
     "output_type": "execute_result"
    }
   ],
   "source": [
    "data_frame = pd.concat([df_fraudes, df_legitimo])\n",
    "\n",
    "print(data_frame.shape)\n",
    "data_frame.head"
   ]
  },
  {
   "cell_type": "code",
   "execution_count": 16,
   "metadata": {},
   "outputs": [],
   "source": [
    "data_frame.to_csv('..\\\\Datasets\\\\data_frame.csv', index=True)"
   ]
  },
  {
   "cell_type": "markdown",
   "metadata": {},
   "source": [
    "5. Treinamento do modelo de IA"
   ]
  },
  {
   "cell_type": "code",
   "execution_count": 17,
   "metadata": {},
   "outputs": [
    {
     "name": "stderr",
     "output_type": "stream",
     "text": [
      "c:\\Python312\\Lib\\site-packages\\sklearn\\feature_extraction\\text.py:517: UserWarning: The parameter 'token_pattern' will not be used since 'tokenizer' is not None'\n",
      "  warnings.warn(\n"
     ]
    }
   ],
   "source": [
    "from sklearn.feature_extraction.text import TfidfVectorizer\n",
    "\n",
    "# Transforma os textos em vetores TF-IDF (matriz esparsa)\n",
    "vectorizer = TfidfVectorizer(\n",
    "    preprocessor=process_text_conteudo,  # Pré-processamento antes da tokenização\n",
    "    tokenizer=tokenize_text,  # Função que retorna uma lista de tokens\n",
    "    max_df=0.85, \n",
    "    min_df=5, \n",
    "    ngram_range=(1,2), \n",
    "    sublinear_tf=True\n",
    ")\n",
    "\n",
    "vect = vectorizer.fit_transform(data_frame['descricao'].values.astype('U'))\n"
   ]
  },
  {
   "cell_type": "code",
   "execution_count": 18,
   "metadata": {},
   "outputs": [
    {
     "name": "stdout",
     "output_type": "stream",
     "text": [
      "(7272, 33501)\n"
     ]
    }
   ],
   "source": [
    "print(vect.shape)"
   ]
  },
  {
   "cell_type": "markdown",
   "metadata": {},
   "source": [
    "6. Separação de dados para treino e teste"
   ]
  },
  {
   "cell_type": "code",
   "execution_count": 19,
   "metadata": {},
   "outputs": [],
   "source": [
    "from sklearn.model_selection import train_test_split\n",
    "\n",
    "x_train, x_test, y_train, y_test = train_test_split(vect, data_frame['Fraude'], test_size = 0.20, random_state = 0)"
   ]
  },
  {
   "cell_type": "markdown",
   "metadata": {},
   "source": [
    "7. Treinamento com Naive Bayes"
   ]
  },
  {
   "cell_type": "code",
   "execution_count": 20,
   "metadata": {},
   "outputs": [],
   "source": [
    "from sklearn.naive_bayes import MultinomialNB\n",
    "\n",
    "classifier = MultinomialNB().fit(x_train, y_train)"
   ]
  },
  {
   "cell_type": "markdown",
   "metadata": {},
   "source": [
    "8. Avaliação do modelo"
   ]
  },
  {
   "cell_type": "code",
   "execution_count": 21,
   "metadata": {},
   "outputs": [
    {
     "name": "stdout",
     "output_type": "stream",
     "text": [
      "Avaliação com os dados de treino\n",
      "              precision    recall  f1-score   support\n",
      "\n",
      "           0       0.99      0.97      0.98      2895\n",
      "           1       0.97      0.99      0.98      2922\n",
      "\n",
      "    accuracy                           0.98      5817\n",
      "   macro avg       0.98      0.98      0.98      5817\n",
      "weighted avg       0.98      0.98      0.98      5817\n",
      "\n",
      "[[2809   86]\n",
      " [  37 2885]]\n",
      "Accuracy: 0.9788550799381124\n",
      "\n",
      "\n",
      "\n",
      "Avaliação com os dados de teste\n",
      "              precision    recall  f1-score   support\n",
      "\n",
      "           0       0.99      0.97      0.98       741\n",
      "           1       0.97      0.99      0.98       714\n",
      "\n",
      "    accuracy                           0.98      1455\n",
      "   macro avg       0.98      0.98      0.98      1455\n",
      "weighted avg       0.98      0.98      0.98      1455\n",
      "\n",
      "[[722  19]\n",
      " [  9 705]]\n",
      "Accuracy: 0.9807560137457044\n"
     ]
    }
   ],
   "source": [
    "from sklearn.metrics import classification_report, confusion_matrix, accuracy_score\n",
    "\n",
    "# Avaliação com os dados de treino\n",
    "print('Avaliação com os dados de treino')\n",
    "pred = classifier.predict(x_train)\n",
    "print(classification_report(y_train, pred))\n",
    "print(confusion_matrix(y_train, pred))\n",
    "print('Accuracy:', accuracy_score(y_train, pred))\n",
    "\n",
    "print('\\n\\n')\n",
    "\n",
    "# Avaliação com os dados de teste\n",
    "print('Avaliação com os dados de teste')\n",
    "pred = classifier.predict(x_test)\n",
    "print(classification_report(y_test, pred))\n",
    "print(confusion_matrix(y_test, pred))\n",
    "print('Accuracy:', accuracy_score(y_test, pred))"
   ]
  },
  {
   "cell_type": "markdown",
   "metadata": {},
   "source": [
    "9. Salvando modelo e vetorizar"
   ]
  },
  {
   "cell_type": "code",
   "execution_count": 22,
   "metadata": {},
   "outputs": [],
   "source": [
    "import pickle\n",
    "\n",
    "pickle.dump(classifier, open(\"modelo.pk1\", 'wb'))\n",
    "pickle.dump(vectorizer, open(\"tfidf_vectorizer.pk1\", \"wb\"))"
   ]
  },
  {
   "cell_type": "markdown",
   "metadata": {},
   "source": [
    "10. Teste com uma mensagem manual"
   ]
  },
  {
   "cell_type": "code",
   "execution_count": 32,
   "metadata": {},
   "outputs": [],
   "source": [
    "# Exemplo de mensagem (legítima ou fraude)\n",
    "\n",
    "# O primeio exemplo é um e-mail normal\n",
    "#dados = {\"descricao\":\"Olá, pessoal, pronto para um novo desafio DEV? Hoje sai o terceiro vídeo da semana devepoler. Lembrando que esta é uma aula para todos os níveis de conhecimento. Ou seja, se você está no nível básico, intermediário ou avançado, a aula será bem produtiva e você aprenderá muito sobre vários temas. Como Nodejs, MongoDB, VueJS e muito mais: esta aula ficará no ar somente durante 7 dias, então recomendo assistir agora mesmo, pois se você deixar para depois, ela poderá não estar mais disponível!  Equipe xyz\"}\n",
    "\n",
    "#dados = {\"descricao\" : \"Esse email é legitimo.\"}\n",
    "\n",
    "\n",
    "# Exemplo de email FRAUDE\n",
    "#dados = {\"descricao\":\"Netflix Atualize seus dados de pagamento! Olá  Ocorreu um problema com seu meio de pagamento atual. Tentaremos efetuar uma cobrança novamente mas recomendamos que você atualize essas informações. ATUALIZAR PAGAMENTO Lembrando que sua conta estará suspensa caso o débito não seja realizado. Informações da sua conta: Email  Provedor do serviço Netflix Entretenimento Brasil, Ltda. Plano Básico Preço do plano R$21,90/mês Estamos sempre prontos para ajudar. Acesse o Centro de ajuda para saber mais ou fale com a gente. Seus amigos da Netflix VEJA TODAS AS SÉRIES E FILMES> Ao assinar a Netflix, você concorda com nossos Termos de uso e com a Declaração de privacidade Dúvidas? Ligue 0800-887-0201 Estamos enviando este email porque você é assinante Netflix. Para alterar suas preferências de email a qualquer momento, acesse a página Configurações de comunicação da sua conta. Não responda a este email, pois a caixa deste endereço de email não é monitorada. Para obter ajuda ou entrar em contato, acesse o Centro de ajuda em help.netflix.com. Esta mensagem foi enviada para [ erik1605@hotmail.com  ] pela Netflix. SRC: 12500_pt-BR_BR A utilização do serviços e do site da Netflix está sujeita aos Termos de privacidade. Netflix Entretenimento Brasil, Ltda.\"}\n",
    "\n",
    "dados = {\"descricao\" : \"Sua conta de e-mail foi infectada com um vírus de Trojan: para excluir o vírus e também proteger sua conta, Clique Aqui para atualizar o Administrador do Sistema.\"}\n"
   ]
  },
  {
   "cell_type": "code",
   "execution_count": 33,
   "metadata": {},
   "outputs": [],
   "source": [
    "modelo = pickle.load(open('modelo.pk1','rb'))"
   ]
  },
  {
   "cell_type": "code",
   "execution_count": 34,
   "metadata": {},
   "outputs": [
    {
     "name": "stdout",
     "output_type": "stream",
     "text": [
      "FRAUDE\n"
     ]
    }
   ],
   "source": [
    "# Pré-processa a mensagem\n",
    "text_processado = process_text_conteudo(dados[\"descricao\"])\n",
    "dados_transformados = vectorizer.transform([text_processado])\n",
    "\n",
    "# Prediz se é fraude\n",
    "predicao = modelo.predict(dados_transformados)\n",
    "print(\"FRAUDE\" if predicao[0] == 1 else \"OK\")"
   ]
  }
 ],
 "metadata": {
  "kernelspec": {
   "display_name": "Python 3",
   "language": "python",
   "name": "python3"
  },
  "language_info": {
   "codemirror_mode": {
    "name": "ipython",
    "version": 3
   },
   "file_extension": ".py",
   "mimetype": "text/x-python",
   "name": "python",
   "nbconvert_exporter": "python",
   "pygments_lexer": "ipython3",
   "version": "3.12.6"
  }
 },
 "nbformat": 4,
 "nbformat_minor": 2
}
