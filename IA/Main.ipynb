{
 "cells": [
  {
   "cell_type": "markdown",
   "metadata": {},
   "source": [
    "1. Bibliotecas e Leitura de Dados"
   ]
  },
  {
   "cell_type": "code",
   "execution_count": null,
   "metadata": {},
   "outputs": [],
   "source": [
    "from transformers import BertTokenizer, BertForSequenceClassification, Trainer, TrainingArguments\n",
    "import pandas as pd\n",
    "import string\n",
    "import joblib\n",
    "import nltk\n",
    "from sklearn.model_selection import train_test_split\n",
    "import torch"
   ]
  },
  {
   "cell_type": "markdown",
   "metadata": {},
   "source": [
    "1.1. Leitura do dataset de mensagens fraudulentas"
   ]
  },
  {
   "cell_type": "code",
   "execution_count": 170,
   "metadata": {},
   "outputs": [
    {
     "data": {
      "text/html": [
       "<div>\n",
       "<style scoped>\n",
       "    .dataframe tbody tr th:only-of-type {\n",
       "        vertical-align: middle;\n",
       "    }\n",
       "\n",
       "    .dataframe tbody tr th {\n",
       "        vertical-align: top;\n",
       "    }\n",
       "\n",
       "    .dataframe thead th {\n",
       "        text-align: right;\n",
       "    }\n",
       "</style>\n",
       "<table border=\"1\" class=\"dataframe\">\n",
       "  <thead>\n",
       "    <tr style=\"text-align: right;\">\n",
       "      <th></th>\n",
       "      <th>titulo</th>\n",
       "      <th>assunto</th>\n",
       "      <th>descricao</th>\n",
       "      <th>url</th>\n",
       "    </tr>\n",
       "  </thead>\n",
       "  <tbody>\n",
       "    <tr>\n",
       "      <th>0</th>\n",
       "      <td>FRAUDE - Perfil Profissional</td>\n",
       "      <td>Assunto da mensagem: Perfil Profissional Compl...</td>\n",
       "      <td>\\r\\n\\r\\nOlá,\\r\\n\\r\\nEnvio minhas informações p...</td>\n",
       "      <td>https://catalogodefraudes.rnp.br/frauds/16581</td>\n",
       "    </tr>\n",
       "    <tr>\n",
       "      <th>1</th>\n",
       "      <td>FRAUDE - Phishing de Cartão de Crédito</td>\n",
       "      <td>Assunto da mensagem: Convite Especial: Bradesc...</td>\n",
       "      <td>\\r\\n\\r\\n\\r\\nConvite Exclusivo: Bradesco Americ...</td>\n",
       "      <td>https://catalogodefraudes.rnp.br/frauds/16575</td>\n",
       "    </tr>\n",
       "    <tr>\n",
       "      <th>2</th>\n",
       "      <td>FRAUDE - Phishing por Atualização de Email</td>\n",
       "      <td>Assunto da mensagem: Re: NF-e: &lt;ID&gt;</td>\n",
       "      <td>\\r\\n\\r\\n\\r\\nHá uma alteração e atualização em ...</td>\n",
       "      <td>https://catalogodefraudes.rnp.br/frauds/16576</td>\n",
       "    </tr>\n",
       "    <tr>\n",
       "      <th>3</th>\n",
       "      <td>FRAUDE - Nota Fiscal Eletrônica</td>\n",
       "      <td>Assunto da mensagem: Seu pedido foi realizado ...</td>\n",
       "      <td>\\r\\n\\r\\n\\r\\n\\r\\n&lt;ID&gt;\\r\\nNota Fiscal Disponível...</td>\n",
       "      <td>https://catalogodefraudes.rnp.br/frauds/16580</td>\n",
       "    </tr>\n",
       "    <tr>\n",
       "      <th>4</th>\n",
       "      <td>FRAUDE - Atualização de E-mail</td>\n",
       "      <td>Assunto da mensagem: Notificação de cobrança /...</td>\n",
       "      <td>\\r\\n\\r\\n\\r\\nHá uma alteração e atualização em ...</td>\n",
       "      <td>https://catalogodefraudes.rnp.br/frauds/16574</td>\n",
       "    </tr>\n",
       "  </tbody>\n",
       "</table>\n",
       "</div>"
      ],
      "text/plain": [
       "                                       titulo  \\\n",
       "0                FRAUDE - Perfil Profissional   \n",
       "1      FRAUDE - Phishing de Cartão de Crédito   \n",
       "2  FRAUDE - Phishing por Atualização de Email   \n",
       "3             FRAUDE - Nota Fiscal Eletrônica   \n",
       "4              FRAUDE - Atualização de E-mail   \n",
       "\n",
       "                                             assunto  \\\n",
       "0  Assunto da mensagem: Perfil Profissional Compl...   \n",
       "1  Assunto da mensagem: Convite Especial: Bradesc...   \n",
       "2                Assunto da mensagem: Re: NF-e: <ID>   \n",
       "3  Assunto da mensagem: Seu pedido foi realizado ...   \n",
       "4  Assunto da mensagem: Notificação de cobrança /...   \n",
       "\n",
       "                                           descricao  \\\n",
       "0  \\r\\n\\r\\nOlá,\\r\\n\\r\\nEnvio minhas informações p...   \n",
       "1  \\r\\n\\r\\n\\r\\nConvite Exclusivo: Bradesco Americ...   \n",
       "2  \\r\\n\\r\\n\\r\\nHá uma alteração e atualização em ...   \n",
       "3  \\r\\n\\r\\n\\r\\n\\r\\n<ID>\\r\\nNota Fiscal Disponível...   \n",
       "4  \\r\\n\\r\\n\\r\\nHá uma alteração e atualização em ...   \n",
       "\n",
       "                                             url  \n",
       "0  https://catalogodefraudes.rnp.br/frauds/16581  \n",
       "1  https://catalogodefraudes.rnp.br/frauds/16575  \n",
       "2  https://catalogodefraudes.rnp.br/frauds/16576  \n",
       "3  https://catalogodefraudes.rnp.br/frauds/16580  \n",
       "4  https://catalogodefraudes.rnp.br/frauds/16574  "
      ]
     },
     "execution_count": 170,
     "metadata": {},
     "output_type": "execute_result"
    }
   ],
   "source": [
    "# Lê o dataset com mensagens classificadas como fraudulentas\n",
    "dataset_pd = pd.read_csv(\"..\\\\Datasets\\\\fraudes.csv\", encoding='utf-8')\n",
    "df_fraudes = pd.DataFrame(dataset_pd)\n",
    "df_fraudes.head()"
   ]
  },
  {
   "cell_type": "code",
   "execution_count": 171,
   "metadata": {},
   "outputs": [
    {
     "data": {
      "text/html": [
       "<div>\n",
       "<style scoped>\n",
       "    .dataframe tbody tr th:only-of-type {\n",
       "        vertical-align: middle;\n",
       "    }\n",
       "\n",
       "    .dataframe tbody tr th {\n",
       "        vertical-align: top;\n",
       "    }\n",
       "\n",
       "    .dataframe thead th {\n",
       "        text-align: right;\n",
       "    }\n",
       "</style>\n",
       "<table border=\"1\" class=\"dataframe\">\n",
       "  <thead>\n",
       "    <tr style=\"text-align: right;\">\n",
       "      <th></th>\n",
       "      <th>titulo</th>\n",
       "      <th>assunto</th>\n",
       "      <th>descricao</th>\n",
       "      <th>url</th>\n",
       "      <th>Fraude</th>\n",
       "    </tr>\n",
       "  </thead>\n",
       "  <tbody>\n",
       "    <tr>\n",
       "      <th>0</th>\n",
       "      <td>FRAUDE - Perfil Profissional</td>\n",
       "      <td>Assunto da mensagem: Perfil Profissional Compl...</td>\n",
       "      <td>\\r\\n\\r\\nOlá,\\r\\n\\r\\nEnvio minhas informações p...</td>\n",
       "      <td>https://catalogodefraudes.rnp.br/frauds/16581</td>\n",
       "      <td>1</td>\n",
       "    </tr>\n",
       "    <tr>\n",
       "      <th>1</th>\n",
       "      <td>FRAUDE - Phishing de Cartão de Crédito</td>\n",
       "      <td>Assunto da mensagem: Convite Especial: Bradesc...</td>\n",
       "      <td>\\r\\n\\r\\n\\r\\nConvite Exclusivo: Bradesco Americ...</td>\n",
       "      <td>https://catalogodefraudes.rnp.br/frauds/16575</td>\n",
       "      <td>1</td>\n",
       "    </tr>\n",
       "    <tr>\n",
       "      <th>2</th>\n",
       "      <td>FRAUDE - Phishing por Atualização de Email</td>\n",
       "      <td>Assunto da mensagem: Re: NF-e: &lt;ID&gt;</td>\n",
       "      <td>\\r\\n\\r\\n\\r\\nHá uma alteração e atualização em ...</td>\n",
       "      <td>https://catalogodefraudes.rnp.br/frauds/16576</td>\n",
       "      <td>1</td>\n",
       "    </tr>\n",
       "    <tr>\n",
       "      <th>3</th>\n",
       "      <td>FRAUDE - Nota Fiscal Eletrônica</td>\n",
       "      <td>Assunto da mensagem: Seu pedido foi realizado ...</td>\n",
       "      <td>\\r\\n\\r\\n\\r\\n\\r\\n&lt;ID&gt;\\r\\nNota Fiscal Disponível...</td>\n",
       "      <td>https://catalogodefraudes.rnp.br/frauds/16580</td>\n",
       "      <td>1</td>\n",
       "    </tr>\n",
       "    <tr>\n",
       "      <th>4</th>\n",
       "      <td>FRAUDE - Atualização de E-mail</td>\n",
       "      <td>Assunto da mensagem: Notificação de cobrança /...</td>\n",
       "      <td>\\r\\n\\r\\n\\r\\nHá uma alteração e atualização em ...</td>\n",
       "      <td>https://catalogodefraudes.rnp.br/frauds/16574</td>\n",
       "      <td>1</td>\n",
       "    </tr>\n",
       "  </tbody>\n",
       "</table>\n",
       "</div>"
      ],
      "text/plain": [
       "                                       titulo  \\\n",
       "0                FRAUDE - Perfil Profissional   \n",
       "1      FRAUDE - Phishing de Cartão de Crédito   \n",
       "2  FRAUDE - Phishing por Atualização de Email   \n",
       "3             FRAUDE - Nota Fiscal Eletrônica   \n",
       "4              FRAUDE - Atualização de E-mail   \n",
       "\n",
       "                                             assunto  \\\n",
       "0  Assunto da mensagem: Perfil Profissional Compl...   \n",
       "1  Assunto da mensagem: Convite Especial: Bradesc...   \n",
       "2                Assunto da mensagem: Re: NF-e: <ID>   \n",
       "3  Assunto da mensagem: Seu pedido foi realizado ...   \n",
       "4  Assunto da mensagem: Notificação de cobrança /...   \n",
       "\n",
       "                                           descricao  \\\n",
       "0  \\r\\n\\r\\nOlá,\\r\\n\\r\\nEnvio minhas informações p...   \n",
       "1  \\r\\n\\r\\n\\r\\nConvite Exclusivo: Bradesco Americ...   \n",
       "2  \\r\\n\\r\\n\\r\\nHá uma alteração e atualização em ...   \n",
       "3  \\r\\n\\r\\n\\r\\n\\r\\n<ID>\\r\\nNota Fiscal Disponível...   \n",
       "4  \\r\\n\\r\\n\\r\\nHá uma alteração e atualização em ...   \n",
       "\n",
       "                                             url  Fraude  \n",
       "0  https://catalogodefraudes.rnp.br/frauds/16581       1  \n",
       "1  https://catalogodefraudes.rnp.br/frauds/16575       1  \n",
       "2  https://catalogodefraudes.rnp.br/frauds/16576       1  \n",
       "3  https://catalogodefraudes.rnp.br/frauds/16580       1  \n",
       "4  https://catalogodefraudes.rnp.br/frauds/16574       1  "
      ]
     },
     "execution_count": 171,
     "metadata": {},
     "output_type": "execute_result"
    }
   ],
   "source": [
    "# Adiciona a coluna \"Fraude\" com valor 1 (indicando que é fraude)\n",
    "df_fraudes['Fraude'] = 1\n",
    "df_fraudes.head()"
   ]
  },
  {
   "cell_type": "code",
   "execution_count": 172,
   "metadata": {},
   "outputs": [
    {
     "data": {
      "text/html": [
       "<div>\n",
       "<style scoped>\n",
       "    .dataframe tbody tr th:only-of-type {\n",
       "        vertical-align: middle;\n",
       "    }\n",
       "\n",
       "    .dataframe tbody tr th {\n",
       "        vertical-align: top;\n",
       "    }\n",
       "\n",
       "    .dataframe thead th {\n",
       "        text-align: right;\n",
       "    }\n",
       "</style>\n",
       "<table border=\"1\" class=\"dataframe\">\n",
       "  <thead>\n",
       "    <tr style=\"text-align: right;\">\n",
       "      <th></th>\n",
       "      <th>descricao</th>\n",
       "      <th>Fraude</th>\n",
       "    </tr>\n",
       "  </thead>\n",
       "  <tbody>\n",
       "    <tr>\n",
       "      <th>0</th>\n",
       "      <td>\\r\\n\\r\\nOlá,\\r\\n\\r\\nEnvio minhas informações p...</td>\n",
       "      <td>1</td>\n",
       "    </tr>\n",
       "    <tr>\n",
       "      <th>1</th>\n",
       "      <td>\\r\\n\\r\\n\\r\\nConvite Exclusivo: Bradesco Americ...</td>\n",
       "      <td>1</td>\n",
       "    </tr>\n",
       "    <tr>\n",
       "      <th>2</th>\n",
       "      <td>\\r\\n\\r\\n\\r\\nHá uma alteração e atualização em ...</td>\n",
       "      <td>1</td>\n",
       "    </tr>\n",
       "    <tr>\n",
       "      <th>3</th>\n",
       "      <td>\\r\\n\\r\\n\\r\\n\\r\\n&lt;ID&gt;\\r\\nNota Fiscal Disponível...</td>\n",
       "      <td>1</td>\n",
       "    </tr>\n",
       "    <tr>\n",
       "      <th>4</th>\n",
       "      <td>\\r\\n\\r\\n\\r\\nHá uma alteração e atualização em ...</td>\n",
       "      <td>1</td>\n",
       "    </tr>\n",
       "  </tbody>\n",
       "</table>\n",
       "</div>"
      ],
      "text/plain": [
       "                                           descricao  Fraude\n",
       "0  \\r\\n\\r\\nOlá,\\r\\n\\r\\nEnvio minhas informações p...       1\n",
       "1  \\r\\n\\r\\n\\r\\nConvite Exclusivo: Bradesco Americ...       1\n",
       "2  \\r\\n\\r\\n\\r\\nHá uma alteração e atualização em ...       1\n",
       "3  \\r\\n\\r\\n\\r\\n\\r\\n<ID>\\r\\nNota Fiscal Disponível...       1\n",
       "4  \\r\\n\\r\\n\\r\\nHá uma alteração e atualização em ...       1"
      ]
     },
     "execution_count": 172,
     "metadata": {},
     "output_type": "execute_result"
    }
   ],
   "source": [
    "# Remove colunas irrelevantes\n",
    "df_fraudes.drop(['titulo', 'assunto', 'url'], axis=1, inplace=True)\n",
    "df_fraudes.head()"
   ]
  },
  {
   "cell_type": "code",
   "execution_count": 173,
   "metadata": {},
   "outputs": [
    {
     "name": "stdout",
     "output_type": "stream",
     "text": [
      "(13893, 2)\n"
     ]
    },
    {
     "data": {
      "text/html": [
       "<div>\n",
       "<style scoped>\n",
       "    .dataframe tbody tr th:only-of-type {\n",
       "        vertical-align: middle;\n",
       "    }\n",
       "\n",
       "    .dataframe tbody tr th {\n",
       "        vertical-align: top;\n",
       "    }\n",
       "\n",
       "    .dataframe thead th {\n",
       "        text-align: right;\n",
       "    }\n",
       "</style>\n",
       "<table border=\"1\" class=\"dataframe\">\n",
       "  <thead>\n",
       "    <tr style=\"text-align: right;\">\n",
       "      <th></th>\n",
       "      <th>descricao</th>\n",
       "      <th>Fraude</th>\n",
       "    </tr>\n",
       "  </thead>\n",
       "  <tbody>\n",
       "    <tr>\n",
       "      <th>0</th>\n",
       "      <td>\\r\\n\\r\\nOlá,\\r\\n\\r\\nEnvio minhas informações p...</td>\n",
       "      <td>1</td>\n",
       "    </tr>\n",
       "    <tr>\n",
       "      <th>1</th>\n",
       "      <td>\\r\\n\\r\\n\\r\\nConvite Exclusivo: Bradesco Americ...</td>\n",
       "      <td>1</td>\n",
       "    </tr>\n",
       "    <tr>\n",
       "      <th>2</th>\n",
       "      <td>\\r\\n\\r\\n\\r\\nHá uma alteração e atualização em ...</td>\n",
       "      <td>1</td>\n",
       "    </tr>\n",
       "    <tr>\n",
       "      <th>3</th>\n",
       "      <td>\\r\\n\\r\\n\\r\\n\\r\\n&lt;ID&gt;\\r\\nNota Fiscal Disponível...</td>\n",
       "      <td>1</td>\n",
       "    </tr>\n",
       "    <tr>\n",
       "      <th>4</th>\n",
       "      <td>\\r\\n\\r\\n\\r\\nAtenção usuário da conta de webmai...</td>\n",
       "      <td>1</td>\n",
       "    </tr>\n",
       "  </tbody>\n",
       "</table>\n",
       "</div>"
      ],
      "text/plain": [
       "                                           descricao  Fraude\n",
       "0  \\r\\n\\r\\nOlá,\\r\\n\\r\\nEnvio minhas informações p...       1\n",
       "1  \\r\\n\\r\\n\\r\\nConvite Exclusivo: Bradesco Americ...       1\n",
       "2  \\r\\n\\r\\n\\r\\nHá uma alteração e atualização em ...       1\n",
       "3  \\r\\n\\r\\n\\r\\n\\r\\n<ID>\\r\\nNota Fiscal Disponível...       1\n",
       "4  \\r\\n\\r\\n\\r\\nAtenção usuário da conta de webmai...       1"
      ]
     },
     "execution_count": 173,
     "metadata": {},
     "output_type": "execute_result"
    }
   ],
   "source": [
    "# Remove duplicatas e valores nulos\n",
    "df_fraudes.drop_duplicates(inplace=True)\n",
    "df_fraudes = df_fraudes.dropna().reset_index(drop=True)\n",
    "\n",
    "print(df_fraudes.shape)\n",
    "df_fraudes.head()"
   ]
  },
  {
   "cell_type": "code",
   "execution_count": 174,
   "metadata": {},
   "outputs": [
    {
     "data": {
      "text/plain": [
       "(3985, 2)"
      ]
     },
     "execution_count": 174,
     "metadata": {},
     "output_type": "execute_result"
    }
   ],
   "source": [
    "# Reduz o tamanho do dataset para evitar desbalanceamento ou sobrecarga\n",
    "df_fraudes = df_fraudes[:3985]\n",
    "df_fraudes.shape"
   ]
  },
  {
   "cell_type": "markdown",
   "metadata": {},
   "source": [
    "1.2. Leitura do dataset de mensagens legítimas"
   ]
  },
  {
   "cell_type": "code",
   "execution_count": 175,
   "metadata": {},
   "outputs": [
    {
     "data": {
      "text/html": [
       "<div>\n",
       "<style scoped>\n",
       "    .dataframe tbody tr th:only-of-type {\n",
       "        vertical-align: middle;\n",
       "    }\n",
       "\n",
       "    .dataframe tbody tr th {\n",
       "        vertical-align: top;\n",
       "    }\n",
       "\n",
       "    .dataframe thead th {\n",
       "        text-align: right;\n",
       "    }\n",
       "</style>\n",
       "<table border=\"1\" class=\"dataframe\">\n",
       "  <thead>\n",
       "    <tr style=\"text-align: right;\">\n",
       "      <th></th>\n",
       "      <th>Unnamed: 0</th>\n",
       "      <th>descricao</th>\n",
       "      <th>Fraude</th>\n",
       "    </tr>\n",
       "  </thead>\n",
       "  <tbody>\n",
       "    <tr>\n",
       "      <th>0</th>\n",
       "      <td>0</td>\n",
       "      <td>qui abr agradecemos por escolher o pop total r...</td>\n",
       "      <td>0</td>\n",
       "    </tr>\n",
       "    <tr>\n",
       "      <th>1</th>\n",
       "      <td>1</td>\n",
       "      <td>sex abr agradecemos por escolher o pop total r...</td>\n",
       "      <td>0</td>\n",
       "    </tr>\n",
       "    <tr>\n",
       "      <th>2</th>\n",
       "      <td>2</td>\n",
       "      <td>seg abr agradecemos por escolher o pop total r...</td>\n",
       "      <td>0</td>\n",
       "    </tr>\n",
       "    <tr>\n",
       "      <th>3</th>\n",
       "      <td>3</td>\n",
       "      <td>qui mai agradecemos por escolher o pop total r...</td>\n",
       "      <td>0</td>\n",
       "    </tr>\n",
       "    <tr>\n",
       "      <th>4</th>\n",
       "      <td>4</td>\n",
       "      <td>qua mai agradecemos por escolher o pop total r...</td>\n",
       "      <td>0</td>\n",
       "    </tr>\n",
       "  </tbody>\n",
       "</table>\n",
       "</div>"
      ],
      "text/plain": [
       "   Unnamed: 0                                          descricao  Fraude\n",
       "0           0  qui abr agradecemos por escolher o pop total r...       0\n",
       "1           1  sex abr agradecemos por escolher o pop total r...       0\n",
       "2           2  seg abr agradecemos por escolher o pop total r...       0\n",
       "3           3  qui mai agradecemos por escolher o pop total r...       0\n",
       "4           4  qua mai agradecemos por escolher o pop total r...       0"
      ]
     },
     "execution_count": 175,
     "metadata": {},
     "output_type": "execute_result"
    }
   ],
   "source": [
    "#Leitura do arquivo csv de mensagens não fraudulentas\n",
    "dataset_pd2 = pd.read_csv(\"..\\\\Datasets\\\\df_nao_fraude_tratada2_4354.csv\", encoding='utf-8')\n",
    "dataset_pd2.head()\n"
   ]
  },
  {
   "cell_type": "code",
   "execution_count": 176,
   "metadata": {},
   "outputs": [
    {
     "data": {
      "text/html": [
       "<div>\n",
       "<style scoped>\n",
       "    .dataframe tbody tr th:only-of-type {\n",
       "        vertical-align: middle;\n",
       "    }\n",
       "\n",
       "    .dataframe tbody tr th {\n",
       "        vertical-align: top;\n",
       "    }\n",
       "\n",
       "    .dataframe thead th {\n",
       "        text-align: right;\n",
       "    }\n",
       "</style>\n",
       "<table border=\"1\" class=\"dataframe\">\n",
       "  <thead>\n",
       "    <tr style=\"text-align: right;\">\n",
       "      <th></th>\n",
       "      <th>descricao</th>\n",
       "      <th>Fraude</th>\n",
       "    </tr>\n",
       "  </thead>\n",
       "  <tbody>\n",
       "    <tr>\n",
       "      <th>0</th>\n",
       "      <td>qui abr agradecemos por escolher o pop total r...</td>\n",
       "      <td>0</td>\n",
       "    </tr>\n",
       "    <tr>\n",
       "      <th>1</th>\n",
       "      <td>sex abr agradecemos por escolher o pop total r...</td>\n",
       "      <td>0</td>\n",
       "    </tr>\n",
       "    <tr>\n",
       "      <th>2</th>\n",
       "      <td>seg abr agradecemos por escolher o pop total r...</td>\n",
       "      <td>0</td>\n",
       "    </tr>\n",
       "    <tr>\n",
       "      <th>3</th>\n",
       "      <td>qui mai agradecemos por escolher o pop total r...</td>\n",
       "      <td>0</td>\n",
       "    </tr>\n",
       "    <tr>\n",
       "      <th>4</th>\n",
       "      <td>qua mai agradecemos por escolher o pop total r...</td>\n",
       "      <td>0</td>\n",
       "    </tr>\n",
       "  </tbody>\n",
       "</table>\n",
       "</div>"
      ],
      "text/plain": [
       "                                           descricao  Fraude\n",
       "0  qui abr agradecemos por escolher o pop total r...       0\n",
       "1  sex abr agradecemos por escolher o pop total r...       0\n",
       "2  seg abr agradecemos por escolher o pop total r...       0\n",
       "3  qui mai agradecemos por escolher o pop total r...       0\n",
       "4  qua mai agradecemos por escolher o pop total r...       0"
      ]
     },
     "execution_count": 176,
     "metadata": {},
     "output_type": "execute_result"
    }
   ],
   "source": [
    "# Remove colunas irrelevantes\n",
    "df_legitimo = dataset_pd2.drop(\"Unnamed: 0\", axis = 1)\n",
    "df_legitimo.head()"
   ]
  },
  {
   "cell_type": "code",
   "execution_count": 177,
   "metadata": {},
   "outputs": [
    {
     "name": "stdout",
     "output_type": "stream",
     "text": [
      "(3636, 2)\n"
     ]
    },
    {
     "data": {
      "text/html": [
       "<div>\n",
       "<style scoped>\n",
       "    .dataframe tbody tr th:only-of-type {\n",
       "        vertical-align: middle;\n",
       "    }\n",
       "\n",
       "    .dataframe tbody tr th {\n",
       "        vertical-align: top;\n",
       "    }\n",
       "\n",
       "    .dataframe thead th {\n",
       "        text-align: right;\n",
       "    }\n",
       "</style>\n",
       "<table border=\"1\" class=\"dataframe\">\n",
       "  <thead>\n",
       "    <tr style=\"text-align: right;\">\n",
       "      <th></th>\n",
       "      <th>descricao</th>\n",
       "      <th>Fraude</th>\n",
       "    </tr>\n",
       "  </thead>\n",
       "  <tbody>\n",
       "    <tr>\n",
       "      <th>0</th>\n",
       "      <td>qui abr agradecemos por escolher o pop total r...</td>\n",
       "      <td>0</td>\n",
       "    </tr>\n",
       "    <tr>\n",
       "      <th>1</th>\n",
       "      <td>sex abr agradecemos por escolher o pop total r...</td>\n",
       "      <td>0</td>\n",
       "    </tr>\n",
       "    <tr>\n",
       "      <th>2</th>\n",
       "      <td>seg abr agradecemos por escolher o pop total r...</td>\n",
       "      <td>0</td>\n",
       "    </tr>\n",
       "    <tr>\n",
       "      <th>3</th>\n",
       "      <td>qui mai agradecemos por escolher o pop total r...</td>\n",
       "      <td>0</td>\n",
       "    </tr>\n",
       "    <tr>\n",
       "      <th>4</th>\n",
       "      <td>qua mai agradecemos por escolher o pop total r...</td>\n",
       "      <td>0</td>\n",
       "    </tr>\n",
       "  </tbody>\n",
       "</table>\n",
       "</div>"
      ],
      "text/plain": [
       "                                           descricao  Fraude\n",
       "0  qui abr agradecemos por escolher o pop total r...       0\n",
       "1  sex abr agradecemos por escolher o pop total r...       0\n",
       "2  seg abr agradecemos por escolher o pop total r...       0\n",
       "3  qui mai agradecemos por escolher o pop total r...       0\n",
       "4  qua mai agradecemos por escolher o pop total r...       0"
      ]
     },
     "execution_count": 177,
     "metadata": {},
     "output_type": "execute_result"
    }
   ],
   "source": [
    "# Remove duplicatas e valores nulos\n",
    "df_legitimo.drop_duplicates(inplace=True)\n",
    "df_legitimo = df_legitimo.dropna().reset_index(drop=True)\n",
    "\n",
    "print(df_legitimo.shape)\n",
    "df_legitimo.head()"
   ]
  },
  {
   "cell_type": "markdown",
   "metadata": {},
   "source": [
    "Tratamento do segundo dataset de mensagens legitimas simuladas"
   ]
  },
  {
   "cell_type": "code",
   "execution_count": 178,
   "metadata": {},
   "outputs": [
    {
     "data": {
      "text/html": [
       "<div>\n",
       "<style scoped>\n",
       "    .dataframe tbody tr th:only-of-type {\n",
       "        vertical-align: middle;\n",
       "    }\n",
       "\n",
       "    .dataframe tbody tr th {\n",
       "        vertical-align: top;\n",
       "    }\n",
       "\n",
       "    .dataframe thead th {\n",
       "        text-align: right;\n",
       "    }\n",
       "</style>\n",
       "<table border=\"1\" class=\"dataframe\">\n",
       "  <thead>\n",
       "    <tr style=\"text-align: right;\">\n",
       "      <th></th>\n",
       "      <th>Unnamed: 0</th>\n",
       "      <th>descricao</th>\n",
       "      <th>Fraude</th>\n",
       "    </tr>\n",
       "  </thead>\n",
       "  <tbody>\n",
       "    <tr>\n",
       "      <th>0</th>\n",
       "      <td>1</td>\n",
       "      <td>Olá, informamos que sua fatura do cartão de cr...</td>\n",
       "      <td>0</td>\n",
       "    </tr>\n",
       "    <tr>\n",
       "      <th>1</th>\n",
       "      <td>2</td>\n",
       "      <td>Seu pagamento de boleto no valor de R$ 250,00 ...</td>\n",
       "      <td>0</td>\n",
       "    </tr>\n",
       "    <tr>\n",
       "      <th>2</th>\n",
       "      <td>3</td>\n",
       "      <td>Prezado cliente, seu extrato mensal já está di...</td>\n",
       "      <td>0</td>\n",
       "    </tr>\n",
       "    <tr>\n",
       "      <th>3</th>\n",
       "      <td>4</td>\n",
       "      <td>Compra aprovada! Você realizou uma compra de R...</td>\n",
       "      <td>0</td>\n",
       "    </tr>\n",
       "    <tr>\n",
       "      <th>4</th>\n",
       "      <td>5</td>\n",
       "      <td>Olá, recebemos sua transferência de R$ 500,00....</td>\n",
       "      <td>0</td>\n",
       "    </tr>\n",
       "  </tbody>\n",
       "</table>\n",
       "</div>"
      ],
      "text/plain": [
       "   Unnamed: 0                                          descricao  Fraude\n",
       "0           1  Olá, informamos que sua fatura do cartão de cr...       0\n",
       "1           2  Seu pagamento de boleto no valor de R$ 250,00 ...       0\n",
       "2           3  Prezado cliente, seu extrato mensal já está di...       0\n",
       "3           4  Compra aprovada! Você realizou uma compra de R...       0\n",
       "4           5  Olá, recebemos sua transferência de R$ 500,00....       0"
      ]
     },
     "execution_count": 178,
     "metadata": {},
     "output_type": "execute_result"
    }
   ],
   "source": [
    "#Leitura do arquivo csv de mensagens não fraudulentas 2\n",
    "dataset_pd3 = pd.read_csv(\"..\\\\Datasets\\\\novo_df_legitimo.csv\", encoding='utf-8')\n",
    "dataset_pd3.head()"
   ]
  },
  {
   "cell_type": "code",
   "execution_count": 179,
   "metadata": {},
   "outputs": [
    {
     "data": {
      "text/html": [
       "<div>\n",
       "<style scoped>\n",
       "    .dataframe tbody tr th:only-of-type {\n",
       "        vertical-align: middle;\n",
       "    }\n",
       "\n",
       "    .dataframe tbody tr th {\n",
       "        vertical-align: top;\n",
       "    }\n",
       "\n",
       "    .dataframe thead th {\n",
       "        text-align: right;\n",
       "    }\n",
       "</style>\n",
       "<table border=\"1\" class=\"dataframe\">\n",
       "  <thead>\n",
       "    <tr style=\"text-align: right;\">\n",
       "      <th></th>\n",
       "      <th>descricao</th>\n",
       "      <th>Fraude</th>\n",
       "    </tr>\n",
       "  </thead>\n",
       "  <tbody>\n",
       "    <tr>\n",
       "      <th>0</th>\n",
       "      <td>Olá, informamos que sua fatura do cartão de cr...</td>\n",
       "      <td>0</td>\n",
       "    </tr>\n",
       "    <tr>\n",
       "      <th>1</th>\n",
       "      <td>Seu pagamento de boleto no valor de R$ 250,00 ...</td>\n",
       "      <td>0</td>\n",
       "    </tr>\n",
       "    <tr>\n",
       "      <th>2</th>\n",
       "      <td>Prezado cliente, seu extrato mensal já está di...</td>\n",
       "      <td>0</td>\n",
       "    </tr>\n",
       "    <tr>\n",
       "      <th>3</th>\n",
       "      <td>Compra aprovada! Você realizou uma compra de R...</td>\n",
       "      <td>0</td>\n",
       "    </tr>\n",
       "    <tr>\n",
       "      <th>4</th>\n",
       "      <td>Olá, recebemos sua transferência de R$ 500,00....</td>\n",
       "      <td>0</td>\n",
       "    </tr>\n",
       "  </tbody>\n",
       "</table>\n",
       "</div>"
      ],
      "text/plain": [
       "                                           descricao  Fraude\n",
       "0  Olá, informamos que sua fatura do cartão de cr...       0\n",
       "1  Seu pagamento de boleto no valor de R$ 250,00 ...       0\n",
       "2  Prezado cliente, seu extrato mensal já está di...       0\n",
       "3  Compra aprovada! Você realizou uma compra de R...       0\n",
       "4  Olá, recebemos sua transferência de R$ 500,00....       0"
      ]
     },
     "execution_count": 179,
     "metadata": {},
     "output_type": "execute_result"
    }
   ],
   "source": [
    "# Remove colunas irrelevantes 2\n",
    "df_legitimo2 = dataset_pd3.drop(\"Unnamed: 0\", axis = 1)\n",
    "df_legitimo2.head()"
   ]
  },
  {
   "cell_type": "code",
   "execution_count": 180,
   "metadata": {},
   "outputs": [
    {
     "name": "stdout",
     "output_type": "stream",
     "text": [
      "(349, 2)\n"
     ]
    },
    {
     "data": {
      "text/html": [
       "<div>\n",
       "<style scoped>\n",
       "    .dataframe tbody tr th:only-of-type {\n",
       "        vertical-align: middle;\n",
       "    }\n",
       "\n",
       "    .dataframe tbody tr th {\n",
       "        vertical-align: top;\n",
       "    }\n",
       "\n",
       "    .dataframe thead th {\n",
       "        text-align: right;\n",
       "    }\n",
       "</style>\n",
       "<table border=\"1\" class=\"dataframe\">\n",
       "  <thead>\n",
       "    <tr style=\"text-align: right;\">\n",
       "      <th></th>\n",
       "      <th>descricao</th>\n",
       "      <th>Fraude</th>\n",
       "    </tr>\n",
       "  </thead>\n",
       "  <tbody>\n",
       "    <tr>\n",
       "      <th>0</th>\n",
       "      <td>Olá, informamos que sua fatura do cartão de cr...</td>\n",
       "      <td>0</td>\n",
       "    </tr>\n",
       "    <tr>\n",
       "      <th>1</th>\n",
       "      <td>Seu pagamento de boleto no valor de R$ 250,00 ...</td>\n",
       "      <td>0</td>\n",
       "    </tr>\n",
       "    <tr>\n",
       "      <th>2</th>\n",
       "      <td>Prezado cliente, seu extrato mensal já está di...</td>\n",
       "      <td>0</td>\n",
       "    </tr>\n",
       "    <tr>\n",
       "      <th>3</th>\n",
       "      <td>Compra aprovada! Você realizou uma compra de R...</td>\n",
       "      <td>0</td>\n",
       "    </tr>\n",
       "    <tr>\n",
       "      <th>4</th>\n",
       "      <td>Olá, recebemos sua transferência de R$ 500,00....</td>\n",
       "      <td>0</td>\n",
       "    </tr>\n",
       "  </tbody>\n",
       "</table>\n",
       "</div>"
      ],
      "text/plain": [
       "                                           descricao  Fraude\n",
       "0  Olá, informamos que sua fatura do cartão de cr...       0\n",
       "1  Seu pagamento de boleto no valor de R$ 250,00 ...       0\n",
       "2  Prezado cliente, seu extrato mensal já está di...       0\n",
       "3  Compra aprovada! Você realizou uma compra de R...       0\n",
       "4  Olá, recebemos sua transferência de R$ 500,00....       0"
      ]
     },
     "execution_count": 180,
     "metadata": {},
     "output_type": "execute_result"
    }
   ],
   "source": [
    "# Remove duplicatas e valores nulos 2\n",
    "df_legitimo2.drop_duplicates(inplace=True)\n",
    "df_legitimo2 = df_legitimo2.dropna().reset_index(drop=True)\n",
    "\n",
    "print(df_legitimo2.shape)\n",
    "df_legitimo2.head()"
   ]
  },
  {
   "cell_type": "markdown",
   "metadata": {},
   "source": [
    "2. Pré-processamento de texto com NLTK"
   ]
  },
  {
   "cell_type": "code",
   "execution_count": null,
   "metadata": {},
   "outputs": [
    {
     "name": "stderr",
     "output_type": "stream",
     "text": [
      "[nltk_data] Downloading package stopwords to\n",
      "[nltk_data]     C:\\Users\\nando\\AppData\\Roaming\\nltk_data...\n",
      "[nltk_data]   Package stopwords is already up-to-date!\n"
     ]
    }
   ],
   "source": [
    "#baixando e carregando uma lista de stopwords (palavras irrelevantes) em português da biblioteca NLTK (Natural Language Toolkit)\n",
    "\n",
    "nltk.download('stopwords')\n",
    "\n",
    "stopwords = nltk.corpus.stopwords.words('portuguese')"
   ]
  },
  {
   "cell_type": "code",
   "execution_count": 182,
   "metadata": {},
   "outputs": [],
   "source": [
    "# Função para remover pontuações, acentos e transformar para minúsculas\n",
    "def process_text_conteudo(conteudo):\n",
    "  import unicodedata\n",
    "  \n",
    "  # Remove pontuação\n",
    "  nopont = [char for char in conteudo if char not in string.punctuation]\n",
    "\n",
    "  # Converte para minúsculas\n",
    "  nopont = ''.join(nopont).lower()\n",
    "  \n",
    "  # Remove acentos\n",
    "  nopont = unicodedata.normalize('NFKD', nopont).encode('ASCII', 'ignore').decode('ASCII')\n",
    "\n",
    "  return nopont\n"
   ]
  },
  {
   "cell_type": "code",
   "execution_count": 183,
   "metadata": {},
   "outputs": [],
   "source": [
    "# Função de tokenização (opcional para vetorizador)\n",
    "def tokenize_text(conteudo):\n",
    "    return conteudo.split()"
   ]
  },
  {
   "cell_type": "code",
   "execution_count": 184,
   "metadata": {},
   "outputs": [
    {
     "name": "stdout",
     "output_type": "stream",
     "text": [
      "                                           descricao  Fraude\n",
      "0  \\r\\n\\r\\nola\\r\\n\\r\\nenvio minhas informacoes pr...       1\n",
      "1  \\r\\n\\r\\n\\r\\nconvite exclusivo bradesco america...       1\n",
      "2  \\r\\n\\r\\n\\r\\nha uma alteracao e atualizacao em ...       1\n",
      "3  \\r\\n\\r\\n\\r\\n\\r\\nid\\r\\nnota fiscal disponivel\\r...       1\n",
      "4  \\r\\n\\r\\n\\r\\natencao usuario da conta de webmai...       1\n",
      "                                           descricao  Fraude\n",
      "0  qui abr agradecemos por escolher o pop total r...       0\n",
      "1  sex abr agradecemos por escolher o pop total r...       0\n",
      "2  seg abr agradecemos por escolher o pop total r...       0\n",
      "3  qui mai agradecemos por escolher o pop total r...       0\n",
      "4  qua mai agradecemos por escolher o pop total r...       0\n",
      "                                           descricao  Fraude\n",
      "0  ola informamos que sua fatura do cartao de cre...       0\n",
      "1  seu pagamento de boleto no valor de r 25000 fo...       0\n",
      "2  prezado cliente seu extrato mensal ja esta dis...       0\n",
      "3  compra aprovada voce realizou uma compra de r ...       0\n",
      "4  ola recebemos sua transferencia de r 50000 o v...       0\n"
     ]
    }
   ],
   "source": [
    "# Aplica o pré-processamento às mensagens\n",
    "df_fraudes['descricao'] = df_fraudes['descricao'].apply(process_text_conteudo)\n",
    "\n",
    "df_legitimo['descricao'] = df_legitimo['descricao'].apply(process_text_conteudo)\n",
    "\n",
    "df_legitimo2['descricao'] = df_legitimo2['descricao'].apply(process_text_conteudo)\n",
    "\n",
    "print(df_fraudes.head())\n",
    "print(df_legitimo.head())\n",
    "print(df_legitimo2.head())"
   ]
  },
  {
   "cell_type": "markdown",
   "metadata": {},
   "source": [
    "3. Salvando os datasets processados"
   ]
  },
  {
   "cell_type": "code",
   "execution_count": 185,
   "metadata": {},
   "outputs": [],
   "source": [
    "df_fraudes.to_csv('..\\\\Datasets\\\\df_fraudes_tratada.csv', index=True)\n",
    "df_legitimo.to_csv('..\\\\Datasets\\\\df_legitimo_tratado.csv', index=True)\n",
    "df_legitimo2.to_csv('..\\\\Datasets\\\\df_legitimo2_tratado.csv', index=True)"
   ]
  },
  {
   "cell_type": "markdown",
   "metadata": {},
   "source": [
    "4. Unificação dos datasets"
   ]
  },
  {
   "cell_type": "code",
   "execution_count": 186,
   "metadata": {},
   "outputs": [
    {
     "name": "stdout",
     "output_type": "stream",
     "text": [
      "(7970, 2)\n"
     ]
    },
    {
     "data": {
      "text/plain": [
       "<bound method NDFrame.head of                                              descricao  Fraude\n",
       "0    \\r\\n\\r\\nola\\r\\n\\r\\nenvio minhas informacoes pr...       1\n",
       "1    \\r\\n\\r\\n\\r\\nconvite exclusivo bradesco america...       1\n",
       "2    \\r\\n\\r\\n\\r\\nha uma alteracao e atualizacao em ...       1\n",
       "3    \\r\\n\\r\\n\\r\\n\\r\\nid\\r\\nnota fiscal disponivel\\r...       1\n",
       "4    \\r\\n\\r\\n\\r\\natencao usuario da conta de webmai...       1\n",
       "..                                                 ...     ...\n",
       "344  pix recebido r 18000 de felipe andrade consult...       0\n",
       "345    pagamento de boleto r 11500 para faculdade xpto       0\n",
       "346  transferencia entre bancos r 90000 enviados pa...       0\n",
       "347  pagamento de assinatura disney r 3390 debitado...       0\n",
       "348  recarga de celular concluida r 4000 para 11 98...       0\n",
       "\n",
       "[7970 rows x 2 columns]>"
      ]
     },
     "execution_count": 186,
     "metadata": {},
     "output_type": "execute_result"
    }
   ],
   "source": [
    "data_frame = pd.concat([df_fraudes, df_legitimo, df_legitimo2])\n",
    "\n",
    "print(data_frame.shape)\n",
    "data_frame.head"
   ]
  },
  {
   "cell_type": "code",
   "execution_count": 187,
   "metadata": {},
   "outputs": [],
   "source": [
    "data_frame.to_csv('..\\\\Datasets\\\\data_frame.csv', index=True)"
   ]
  },
  {
   "cell_type": "markdown",
   "metadata": {},
   "source": [
    "5. Treinamento do modelo de IA"
   ]
  },
  {
   "cell_type": "code",
   "execution_count": 188,
   "metadata": {},
   "outputs": [],
   "source": [
    "from sklearn.feature_extraction.text import TfidfVectorizer\n",
    "\n",
    "# Transforma os textos em vetores TF-IDF (matriz esparsa)\n",
    "vectorizer = TfidfVectorizer(\n",
    "    max_df=0.85, \n",
    "    min_df=5, \n",
    "    ngram_range=(1,2), \n",
    "    sublinear_tf=True\n",
    ")\n",
    "\n",
    "data_frame['descricao'] = data_frame['descricao'].apply(process_text_conteudo)\n",
    "vect = vectorizer.fit_transform(data_frame['descricao'].values.astype('U'))\n"
   ]
  },
  {
   "cell_type": "code",
   "execution_count": 189,
   "metadata": {},
   "outputs": [
    {
     "name": "stdout",
     "output_type": "stream",
     "text": [
      "(7970, 33177)\n"
     ]
    }
   ],
   "source": [
    "print(vect.shape)"
   ]
  },
  {
   "cell_type": "markdown",
   "metadata": {},
   "source": [
    "6. Separação de dados para treino e teste"
   ]
  },
  {
   "cell_type": "code",
   "execution_count": null,
   "metadata": {},
   "outputs": [],
   "source": [
    "\n",
    "x_train, x_test, y_train, y_test = train_test_split(vect, data_frame['Fraude'], test_size = 0.20, random_state = 0)"
   ]
  },
  {
   "cell_type": "markdown",
   "metadata": {},
   "source": [
    "7. Treinamento com Naive Bayes"
   ]
  },
  {
   "cell_type": "code",
   "execution_count": 191,
   "metadata": {},
   "outputs": [],
   "source": [
    "from sklearn.naive_bayes import MultinomialNB\n",
    "\n",
    "classifier = MultinomialNB().fit(x_train, y_train)"
   ]
  },
  {
   "cell_type": "markdown",
   "metadata": {},
   "source": [
    "8. Avaliação do modelo"
   ]
  },
  {
   "cell_type": "code",
   "execution_count": 192,
   "metadata": {},
   "outputs": [
    {
     "name": "stdout",
     "output_type": "stream",
     "text": [
      "Avaliação com os dados de treino\n",
      "              precision    recall  f1-score   support\n",
      "\n",
      "           0       0.98      0.97      0.97      3203\n",
      "           1       0.97      0.98      0.98      3173\n",
      "\n",
      "    accuracy                           0.97      6376\n",
      "   macro avg       0.98      0.97      0.97      6376\n",
      "weighted avg       0.98      0.97      0.97      6376\n",
      "\n",
      "[[3094  109]\n",
      " [  51 3122]]\n",
      "Accuracy: 0.9749058971141782\n",
      "\n",
      "\n",
      "\n",
      "Avaliação com os dados de teste\n",
      "              precision    recall  f1-score   support\n",
      "\n",
      "           0       0.98      0.96      0.97       782\n",
      "           1       0.96      0.98      0.97       812\n",
      "\n",
      "    accuracy                           0.97      1594\n",
      "   macro avg       0.97      0.97      0.97      1594\n",
      "weighted avg       0.97      0.97      0.97      1594\n",
      "\n",
      "[[751  31]\n",
      " [ 17 795]]\n",
      "Accuracy: 0.9698870765370138\n"
     ]
    }
   ],
   "source": [
    "from sklearn.metrics import classification_report, confusion_matrix, accuracy_score\n",
    "\n",
    "# Avaliação com os dados de treino\n",
    "print('Avaliação com os dados de treino')\n",
    "pred = classifier.predict(x_train)\n",
    "print(classification_report(y_train, pred))\n",
    "print(confusion_matrix(y_train, pred))\n",
    "print('Accuracy:', accuracy_score(y_train, pred))\n",
    "\n",
    "print('\\n\\n')\n",
    "\n",
    "# Avaliação com os dados de teste\n",
    "print('Avaliação com os dados de teste')\n",
    "pred = classifier.predict(x_test)\n",
    "print(classification_report(y_test, pred))\n",
    "print(confusion_matrix(y_test, pred))\n",
    "print('Accuracy:', accuracy_score(y_test, pred))"
   ]
  },
  {
   "cell_type": "markdown",
   "metadata": {},
   "source": [
    "9. Salvando modelo e vetorizar"
   ]
  },
  {
   "cell_type": "code",
   "execution_count": 193,
   "metadata": {},
   "outputs": [
    {
     "data": {
      "text/plain": [
       "['tfidf_vectorizer.joblib']"
      ]
     },
     "execution_count": 193,
     "metadata": {},
     "output_type": "execute_result"
    }
   ],
   "source": [
    "joblib.dump(classifier, 'modelo.joblib')\n",
    "joblib.dump(vectorizer, 'tfidf_vectorizer.joblib')"
   ]
  },
  {
   "cell_type": "markdown",
   "metadata": {},
   "source": [
    "10. Teste com uma mensagem manual"
   ]
  },
  {
   "cell_type": "code",
   "execution_count": 194,
   "metadata": {},
   "outputs": [],
   "source": [
    "# Exemplo de mensagem (legítima ou fraude)\n",
    "\n",
    "# O primeio exemplo é um e-mail normal\n",
    "dados1 = {\"descricao\":\"Olá, pessoal, pronto para um novo desafio DEV? Hoje sai o terceiro vídeo da semana devepoler. Lembrando que esta é uma aula para todos os níveis de conhecimento. Ou seja, se você está no nível básico, intermediário ou avançado, a aula será bem produtiva e você aprenderá muito sobre vários temas. Como Nodejs, MongoDB, VueJS e muito mais: esta aula ficará no ar somente durante 7 dias, então recomendo assistir agora mesmo, pois se você deixar para depois, ela poderá não estar mais disponível!  Equipe xyz\"}\n",
    "\n",
    "dados2 = {\"descricao\" : \"Esse email é legitimo.\"}\n",
    "\n",
    "dados5 = {\"descricao\" : \"Oi, Luiz Além de antecipar esse dinheiro sem nenhuma burocracia e com taxa de apenas 1,24% ao mês, o dinheiro cai na sua conta muito rápido. Dê mais pique para sua vida. Antecipar agora. Para solicitar a antecipação do FGTS é necessário optar pela modalidade de Saque Aniversário do FGTS e a concessão está sujeita à disponibilidade de saldo na sua conta FGTS e aprovação de crédito. As taxas aplicáveis poderão variar, de acordo com a política de crédito do PicPay Bank ou do Original, a partir de 1,24% ao mês. Esta oferta é válida para usuários que anteciparem uma parcela do saque-aniversário FGTS, via PicPay Bank ou Banco Original. para as contratações aprovadas pelo PicPay Bank e para as contratações aprovadas pelo Digio em dias úteis até às 17h. As antecipações que necessitem de uma análise detalhada de crédito e/ou complementação de cadastro ou que sejam aprovadas pelo Digio aos sábados, domingos e feriados ou em dias úteis após às 17 horas serão creditadas em até 1 dia útil. Consulte demais condições no momento da contratação.\"}\n",
    "\n",
    "# Exemplo de email FRAUDE\n",
    "dados3 = {\"descricao\":\"Netflix Atualize seus dados de pagamento! Olá  Ocorreu um problema com seu meio de pagamento atual. Tentaremos efetuar uma cobrança novamente mas recomendamos que você atualize essas informações. ATUALIZAR PAGAMENTO Lembrando que sua conta estará suspensa caso o débito não seja realizado. Informações da sua conta: Email  Provedor do serviço Netflix Entretenimento Brasil, Ltda. Plano Básico Preço do plano R$21,90/mês Estamos sempre prontos para ajudar. Acesse o Centro de ajuda para saber mais ou fale com a gente. Seus amigos da Netflix VEJA TODAS AS SÉRIES E FILMES> Ao assinar a Netflix, você concorda com nossos Termos de uso e com a Declaração de privacidade Dúvidas? Ligue 0800-887-0201 Estamos enviando este email porque você é assinante Netflix. Para alterar suas preferências de email a qualquer momento, acesse a página Configurações de comunicação da sua conta. Não responda a este email, pois a caixa deste endereço de email não é monitorada. Para obter ajuda ou entrar em contato, acesse o Centro de ajuda em help.netflix.com. Esta mensagem foi enviada para [ erik1605@hotmail.com  ] pela Netflix. SRC: 12500_pt-BR_BR A utilização do serviços e do site da Netflix está sujeita aos Termos de privacidade. Netflix Entretenimento Brasil, Ltda.\"}\n",
    "\n",
    "dados4 = {\"descricao\" : \"Sua conta de e-mail foi infectada com um vírus de Trojan: para excluir o vírus e também proteger sua conta, Clique Aqui para atualizar o Administrador do Sistema.\"}\n"
   ]
  },
  {
   "cell_type": "code",
   "execution_count": 195,
   "metadata": {},
   "outputs": [],
   "source": [
    "modelo = joblib.load('modelo.joblib')"
   ]
  },
  {
   "cell_type": "code",
   "execution_count": 196,
   "metadata": {},
   "outputs": [
    {
     "name": "stdout",
     "output_type": "stream",
     "text": [
      "OK\n"
     ]
    }
   ],
   "source": [
    "# Pré-processa a mensagem\n",
    "text_processado = process_text_conteudo(dados1[\"descricao\"])\n",
    "dados_transformados = vectorizer.transform([text_processado])\n",
    "\n",
    "# Prediz se é fraude\n",
    "predicao = modelo.predict(dados_transformados)\n",
    "print(\"FRAUDE\" if predicao[0] == 1 else \"OK\")"
   ]
  },
  {
   "cell_type": "code",
   "execution_count": 197,
   "metadata": {},
   "outputs": [
    {
     "name": "stdout",
     "output_type": "stream",
     "text": [
      "OK\n"
     ]
    }
   ],
   "source": [
    "# Pré-processa a mensagem\n",
    "text_processado = process_text_conteudo(dados2[\"descricao\"])\n",
    "dados_transformados = vectorizer.transform([text_processado])\n",
    "\n",
    "# Prediz se é fraude\n",
    "predicao = modelo.predict(dados_transformados)\n",
    "print(\"FRAUDE\" if predicao[0] == 1 else \"OK\")"
   ]
  },
  {
   "cell_type": "code",
   "execution_count": 198,
   "metadata": {},
   "outputs": [
    {
     "name": "stdout",
     "output_type": "stream",
     "text": [
      "FRAUDE\n"
     ]
    }
   ],
   "source": [
    "# Pré-processa a mensagem\n",
    "text_processado = process_text_conteudo(dados3[\"descricao\"])\n",
    "dados_transformados = vectorizer.transform([text_processado])\n",
    "\n",
    "# Prediz se é fraude\n",
    "predicao = modelo.predict(dados_transformados)\n",
    "print(\"FRAUDE\" if predicao[0] == 1 else \"OK\")"
   ]
  },
  {
   "cell_type": "code",
   "execution_count": 199,
   "metadata": {},
   "outputs": [
    {
     "name": "stdout",
     "output_type": "stream",
     "text": [
      "FRAUDE\n"
     ]
    }
   ],
   "source": [
    "# Pré-processa a mensagem\n",
    "text_processado = process_text_conteudo(dados4[\"descricao\"])\n",
    "dados_transformados = vectorizer.transform([text_processado])\n",
    "\n",
    "# Prediz se é fraude\n",
    "predicao = modelo.predict(dados_transformados)\n",
    "print(\"FRAUDE\" if predicao[0] == 1 else \"OK\")"
   ]
  },
  {
   "cell_type": "code",
   "execution_count": 200,
   "metadata": {},
   "outputs": [
    {
     "name": "stdout",
     "output_type": "stream",
     "text": [
      "FRAUDE\n"
     ]
    }
   ],
   "source": [
    "# Pré-processa a mensagem\n",
    "text_processado = process_text_conteudo(dados5[\"descricao\"])\n",
    "dados_transformados = vectorizer.transform([text_processado])\n",
    "\n",
    "# Prediz se é fraude\n",
    "predicao = modelo.predict(dados_transformados)\n",
    "print(\"FRAUDE\" if predicao[0] == 1 else \"OK\")"
   ]
  }
 ],
 "metadata": {
  "kernelspec": {
   "display_name": "Python 3",
   "language": "python",
   "name": "python3"
  },
  "language_info": {
   "codemirror_mode": {
    "name": "ipython",
    "version": 3
   },
   "file_extension": ".py",
   "mimetype": "text/x-python",
   "name": "python",
   "nbconvert_exporter": "python",
   "pygments_lexer": "ipython3",
   "version": "3.12.6"
  }
 },
 "nbformat": 4,
 "nbformat_minor": 2
}
